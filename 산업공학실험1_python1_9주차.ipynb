{
  "nbformat": 4,
  "nbformat_minor": 0,
  "metadata": {
    "colab": {
      "name": "산업공학실험1_python1_9주차.ipynb",
      "provenance": [],
      "authorship_tag": "ABX9TyO+FSBpWbm5D4uUot5RLFBS",
      "include_colab_link": true
    },
    "kernelspec": {
      "name": "python3",
      "display_name": "Python 3"
    },
    "language_info": {
      "name": "python"
    }
  },
  "cells": [
    {
      "cell_type": "markdown",
      "metadata": {
        "id": "view-in-github",
        "colab_type": "text"
      },
      "source": [
        "<a href=\"https://colab.research.google.com/github/Jeongho-Kim-kr/Python_basic/blob/main/%EC%82%B0%EC%97%85%EA%B3%B5%ED%95%99%EC%8B%A4%ED%97%981_python1_9%EC%A3%BC%EC%B0%A8.ipynb\" target=\"_parent\"><img src=\"https://colab.research.google.com/assets/colab-badge.svg\" alt=\"Open In Colab\"/></a>"
      ]
    },
    {
      "cell_type": "markdown",
      "metadata": {
        "id": "9a_hi6N-0Boi"
      },
      "source": [
        "# Data Structure\n",
        "## Collection\n",
        "List, Tuple, Dict에 대한 Python Built-in 확장 자료 구조(모듈) <br>\n",
        "편의성, 실행 효율 등을 사용자에게 제공함 <br>\n",
        "아래의 모듈이 존재함"
      ]
    },
    {
      "cell_type": "markdown",
      "metadata": {
        "id": "BFBV0g7T1hQs"
      },
      "source": [
        ""
      ]
    },
    {
      "cell_type": "markdown",
      "metadata": {
        "id": "1nCD3I8Y1glx"
      },
      "source": [
        ""
      ]
    },
    {
      "cell_type": "code",
      "metadata": {
        "id": "7v6IRv4M1UB1"
      },
      "source": [
        ""
      ],
      "execution_count": null,
      "outputs": []
    },
    {
      "cell_type": "code",
      "metadata": {
        "id": "CyzZFbd01bXk"
      },
      "source": [
        ""
      ],
      "execution_count": null,
      "outputs": []
    },
    {
      "cell_type": "code",
      "metadata": {
        "id": "uy7EwqVl1bl0"
      },
      "source": [
        ""
      ],
      "execution_count": null,
      "outputs": []
    }
  ]
}