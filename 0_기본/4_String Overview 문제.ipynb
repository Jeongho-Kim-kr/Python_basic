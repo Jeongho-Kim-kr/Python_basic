{
 "cells": [
  {
   "cell_type": "code",
   "execution_count": 1,
   "metadata": {},
   "outputs": [
    {
     "output_type": "stream",
     "name": "stdout",
     "text": [
      "False False False\nTHIS IS STRING TYPE\n1 2 3 4 5 6 7\none - 1, two - 2, three - 3\n"
     ]
    }
   ],
   "source": [
    "# 1\n",
    "a1 = 'this is string type'\n",
    "a2 = '1. 2. 3. 4. 5. 6. 7.'\n",
    "a3 = 'one = 1, two = 2, three = 3'\n",
    "\n",
    "print(a1.isdigit(), a2.isdigit(), a3.isdigit())\n",
    "\n",
    "a1 = a1.upper()\n",
    "a2 = a2.replace('.', '')\n",
    "a3 = a3.replace('=', '-')\n",
    "\n",
    "print(a1)\n",
    "print(a2)\n",
    "print(a3)"
   ]
  },
  {
   "cell_type": "code",
   "execution_count": 2,
   "metadata": {},
   "outputs": [
    {
     "output_type": "stream",
     "name": "stdout",
     "text": [
      "Hello My nick name is blacknose\n"
     ]
    }
   ],
   "source": [
    "# 2\n",
    "# a = 'Hello My nick name is rednose'\n",
    "# a[22:29] = 'blacknose'\n",
    "# 코드 오류가 나는 이유는 string이 immutable type이라 값이 변하지 않기 때문입니다.\n",
    "# 때문에 문자열 함수를 이용해 수정을 해야합니다.\n",
    "\n",
    "a = 'Hello My nick name is rednose'\n",
    "a = a.replace('rednose', 'blacknose')\n",
    "print(a)"
   ]
  },
  {
   "cell_type": "code",
   "execution_count": 3,
   "metadata": {},
   "outputs": [
    {
     "output_type": "stream",
     "name": "stdout",
     "text": [
      "가-나-다-라-마-바-사\n"
     ]
    }
   ],
   "source": [
    "# 3\n",
    "han = '가 나 다 라 마 바 사'\n",
    "han_list = han.split()\n",
    "han_fin = '-'.join(han_list)\n",
    "\n",
    "print(han_fin)"
   ]
  },
  {
   "cell_type": "code",
   "execution_count": 4,
   "metadata": {},
   "outputs": [
    {
     "output_type": "stream",
     "name": "stdout",
     "text": [
      "\"arms my between you with dark the in dancing I'm\"\n"
     ]
    }
   ],
   "source": [
    "# 4\n",
    "text = \"I'm dancing in the dark with you between my arms\"\n",
    "\n",
    "text_list_1 = text.split()\n",
    "text_list_2 = text_list_1[::-1]\n",
    "text_fin = ' '.join(text_list_2)\n",
    "\n",
    "print('\"' + text_fin + '\"')"
   ]
  },
  {
   "cell_type": "code",
   "execution_count": 6,
   "metadata": {},
   "outputs": [
    {
     "output_type": "stream",
     "name": "stdout",
     "text": [
      "Yesterday 개수: 3\nyesterday 개수: 6\n총 개수: 9\n"
     ]
    }
   ],
   "source": [
    "# 5\n",
    "f = open('yesterday.txt', 'r')\n",
    "\n",
    "yesterday_lyric = ''\n",
    "while 1:\n",
    "    line = f.readline()\n",
    "    if not line:\n",
    "        break\n",
    "    yesterday_lyric = yesterday_lyric + line.strip() + '\\n'\n",
    "f.close()\n",
    "\n",
    "num_Yesterday = yesterday_lyric.count('Yesterday')\n",
    "num_yesterday = yesterday_lyric.count('yesterday')\n",
    "num_both = num_Yesterday + num_yesterday\n",
    "\n",
    "print('Yesterday 개수: {}'.format(num_Yesterday))\n",
    "print('yesterday 개수: {}'.format(num_yesterday))\n",
    "print('총 개수: {}'.format(num_both))"
   ]
  },
  {
   "cell_type": "code",
   "execution_count": 7,
   "metadata": {},
   "outputs": [
    {
     "output_type": "execute_result",
     "data": {
      "text/plain": [
       "'THIS IS EXAMPLE'"
      ]
     },
     "metadata": {},
     "execution_count": 7
    }
   ],
   "source": [
    "# 6\n",
    "def change(str_input):\n",
    "    str_removed = str_input.strip('-+*/')\n",
    "    str_upper = str_removed.upper()\n",
    "    return str_upper\n",
    "\n",
    "example = '+++++---this is example/////**********'\n",
    "change(example)"
   ]
  },
  {
   "cell_type": "code",
   "execution_count": 10,
   "metadata": {},
   "outputs": [
    {
     "output_type": "stream",
     "name": "stdout",
     "text": [
      "12345 - 67890\n"
     ]
    }
   ],
   "source": [
    "# 7\n",
    "while True:\n",
    "    input_num = input('숫자를 10개 입력해주세요')\n",
    "    if not input_num:\n",
    "        continue\n",
    "    elif input_num.isdigit() == False:\n",
    "        continue\n",
    "    elif len(input_num) !=10:\n",
    "        continue\n",
    "    fin_num = input_num[0:5] + ' - ' + input_num[5:11]\n",
    "    print(fin_num)\n",
    "    break"
   ]
  },
  {
   "cell_type": "code",
   "execution_count": 11,
   "metadata": {},
   "outputs": [
    {
     "output_type": "stream",
     "name": "stdout",
     "text": [
      "빈칸의 개수는 7 입니다.\n알파벳 s 가 문자열에서 등장하는 횟수는 2 회 입니다.\n"
     ]
    }
   ],
   "source": [
    "# 8\n",
    "abc = ' Hello guys! I study Python.  '\n",
    "\n",
    "print('빈칸의 개수는 %d 입니다.' %abc.count(' '))\n",
    "\n",
    "print('알파벳 s 가 문자열에서 등장하는 횟수는 %d 회 입니다.' %abc.count('s'))"
   ]
  },
  {
   "cell_type": "code",
   "execution_count": 13,
   "metadata": {},
   "outputs": [
    {
     "output_type": "stream",
     "name": "stdout",
     "text": [
      "c:\\dir1\name\nc:\\dir1\\name\n"
     ]
    }
   ],
   "source": [
    "# 9\n",
    "# 이스케이프 문자의 동작 차이\n",
    "# r은 다음 문자열에서 이스케이프 문자의 의미를 무시한다.\n",
    "print('c:\\dir1\\name')\n",
    "\n",
    "print(r'c:\\dir1\\name')"
   ]
  },
  {
   "cell_type": "code",
   "execution_count": 15,
   "metadata": {},
   "outputs": [
    {
     "output_type": "stream",
     "name": "stdout",
     "text": [
      "입력된 문자열 : i'm only one call away. i'll be there to save the day. superman got nothing on me.\n문장의 수 : 3\n글자의 수 : 66\n"
     ]
    }
   ],
   "source": [
    "# 10\n",
    "def txtchange(input_str):\n",
    "    sent_num = input_str.count('.')\n",
    "    word_num = len(input_str.replace(' ', ''))\n",
    "    print('입력된 문자열 : {}'.format(input_str))\n",
    "    print('문장의 수 : {}'.format(sent_num))\n",
    "    print('글자의 수 : {}'.format(word_num))\n",
    "\n",
    "text = \"i'm only one call away. i'll be there to save the day. superman got nothing on me.\"\n",
    "txtchange(text)"
   ]
  },
  {
   "cell_type": "code",
   "execution_count": null,
   "metadata": {},
   "outputs": [],
   "source": []
  }
 ],
 "metadata": {
  "kernelspec": {
   "name": "python392jvsc74a57bd063fd5069d213b44bf678585dea6b12cceca9941eaf7f819626cde1f2670de90d",
   "display_name": "Python 3.9.2 64-bit"
  },
  "language_info": {
   "codemirror_mode": {
    "name": "ipython",
    "version": 3
   },
   "file_extension": ".py",
   "mimetype": "text/x-python",
   "name": "python",
   "nbconvert_exporter": "python",
   "pygments_lexer": "ipython3",
   "version": "3.9.2"
  }
 },
 "nbformat": 4,
 "nbformat_minor": 4
}