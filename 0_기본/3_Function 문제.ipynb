{
 "cells": [
  {
   "cell_type": "code",
   "execution_count": 3,
   "metadata": {},
   "outputs": [
    {
     "output_type": "stream",
     "name": "stdout",
     "text": [
      "5\nNone\n\n5\n"
     ]
    }
   ],
   "source": [
    "# 1\n",
    "def a(x):\n",
    "    print(x)\n",
    "\n",
    "def b():\n",
    "    return(5)\n",
    "\n",
    "print(a(5))\n",
    "print()\n",
    "print(b())"
   ]
  },
  {
   "cell_type": "code",
   "execution_count": 5,
   "metadata": {},
   "outputs": [
    {
     "output_type": "stream",
     "name": "stdout",
     "text": [
      "주문받은 내용은 음식 : pizza, 음료 : water 입니다.\n주문받은 내용은 음식 : hamburger, 음료 : coke 입니다.\n"
     ]
    }
   ],
   "source": [
    "# 2\n",
    "def order(food, drink='water'):\n",
    "    print('주문받은 내용은 음식 : {}, 음료 : {} 입니다.'.format(food, drink))\n",
    "\n",
    "order('pizza')\n",
    "order('hamburger', 'coke')"
   ]
  },
  {
   "cell_type": "code",
   "execution_count": 7,
   "metadata": {},
   "outputs": [
    {
     "output_type": "stream",
     "name": "stdout",
     "text": [
      "표준\n"
     ]
    }
   ],
   "source": [
    "# 3\n",
    "def compute_BMI(weight, height):\n",
    "    BMI = weight / ((height * 0.01) * (height * 0.01))\n",
    "    if BMI < 18.5:\n",
    "        print('마른 체형')\n",
    "    elif 18.5 <= BMI < 25.0:\n",
    "        print('표준')\n",
    "    elif 25.0 <= BMI < 30.0:\n",
    "        print('비만')\n",
    "    elif BMI >= 30.0:\n",
    "        print('고도 비만')\n",
    "\n",
    "compute_BMI(70,175)"
   ]
  },
  {
   "cell_type": "code",
   "execution_count": 10,
   "metadata": {},
   "outputs": [
    {
     "output_type": "stream",
     "name": "stdout",
     "text": [
      "7 * 1 = 7\n7 * 2 = 14\n7 * 3 = 21\n7 * 4 = 28\n7 * 5 = 35\n7 * 6 = 42\n7 * 7 = 49\n7 * 8 = 56\n7 * 9 = 63\n"
     ]
    }
   ],
   "source": [
    "# 4\n",
    "def times_table():\n",
    "    input_num = int(input('1~9 숫자를 입력하세요 :'))\n",
    "    while input_num < 1 or input_num > 9:\n",
    "        input_num = int(input('1~9 숫자를 다시 입력하세요 :'))\n",
    "    for i in range(1,10):\n",
    "        print('{} * {} = {}'.format(input_num, i, input_num * i))\n",
    "\n",
    "times_table()"
   ]
  },
  {
   "cell_type": "code",
   "execution_count": 15,
   "metadata": {},
   "outputs": [
    {
     "output_type": "execute_result",
     "data": {
      "text/plain": [
       "10"
      ]
     },
     "metadata": {},
     "execution_count": 15
    }
   ],
   "source": [
    "# 5\n",
    "def max3(num_1, num_2, num_3):\n",
    "    result = max(num_1, num_2, num_3)\n",
    "    return result\n",
    "\n",
    "max3(3, 7, 10)"
   ]
  },
  {
   "cell_type": "code",
   "execution_count": 16,
   "metadata": {},
   "outputs": [
    {
     "output_type": "execute_result",
     "data": {
      "text/plain": [
       "24"
      ]
     },
     "metadata": {},
     "execution_count": 16
    }
   ],
   "source": [
    "# 6\n",
    "def f(*num):\n",
    "    result = 1\n",
    "    for i in range(0,4):\n",
    "        result = result * num[i]\n",
    "    return result\n",
    "\n",
    "f(1,2,3,4,5,6,7,8,9,10)"
   ]
  },
  {
   "cell_type": "code",
   "execution_count": 18,
   "metadata": {},
   "outputs": [
    {
     "output_type": "execute_result",
     "data": {
      "text/plain": [
       "3628800"
      ]
     },
     "metadata": {},
     "execution_count": 18
    }
   ],
   "source": [
    "# 7\n",
    "def max_factorial(*num):\n",
    "    factorial_num = max(num)\n",
    "    result = 1\n",
    "    for i in range(1,factorial_num + 1):\n",
    "        result = result * i\n",
    "    return result\n",
    "\n",
    "max_factorial(1, 10, 5, 3, 8)"
   ]
  },
  {
   "cell_type": "code",
   "execution_count": 19,
   "metadata": {},
   "outputs": [
    {
     "output_type": "stream",
     "name": "stdout",
     "text": [
      "parameter is not enough\n"
     ]
    },
    {
     "output_type": "execute_result",
     "data": {
      "text/plain": [
       "6"
      ]
     },
     "metadata": {},
     "execution_count": 19
    }
   ],
   "source": [
    "# 8\n",
    "def fiveparameter(*num):\n",
    "    length = len(num)\n",
    "    if length < 5:\n",
    "        print('parameter is not enough')\n",
    "    elif length >= 5:\n",
    "        return length\n",
    "\n",
    "fiveparameter(1,2,3,4)\n",
    "fiveparameter(10,9,8,7,6,5)"
   ]
  },
  {
   "cell_type": "code",
   "execution_count": 20,
   "metadata": {},
   "outputs": [
    {
     "output_type": "execute_result",
     "data": {
      "text/plain": [
       "[1, 2, 5, 6, 6, 8]"
      ]
     },
     "metadata": {},
     "execution_count": 20
    }
   ],
   "source": [
    "# 9\n",
    "def sorting(list_tmp):\n",
    "    list_tmp.sort()\n",
    "    return list_tmp\n",
    "\n",
    "a = [5,6,8,1,2,6]\n",
    "sorting(a)"
   ]
  },
  {
   "cell_type": "code",
   "execution_count": 21,
   "metadata": {},
   "outputs": [
    {
     "output_type": "stream",
     "name": "stdout",
     "text": [
      "1\n0\n1\n1\n"
     ]
    }
   ],
   "source": [
    "# 10\n",
    "def print_binary(n):\n",
    "    if n < 2:\n",
    "        print(n)\n",
    "    else:\n",
    "        print_binary(n//2)\n",
    "        print(n % 2)\n",
    "\n",
    "print_binary(11)"
   ]
  },
  {
   "cell_type": "code",
   "execution_count": null,
   "metadata": {},
   "outputs": [],
   "source": []
  }
 ],
 "metadata": {
  "kernelspec": {
   "display_name": "Python 3",
   "language": "python",
   "name": "python3"
  },
  "language_info": {
   "codemirror_mode": {
    "name": "ipython",
    "version": 3
   },
   "file_extension": ".py",
   "mimetype": "text/x-python",
   "name": "python",
   "nbconvert_exporter": "python",
   "pygments_lexer": "ipython3",
   "version": "3.9.2"
  }
 },
 "nbformat": 4,
 "nbformat_minor": 4
}