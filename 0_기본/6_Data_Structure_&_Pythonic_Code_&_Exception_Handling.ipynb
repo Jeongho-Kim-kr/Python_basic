{
  "nbformat": 4,
  "nbformat_minor": 0,
  "metadata": {
    "colab": {
      "name": "6_Data Structure & Pythonic Code & Exception Handling.ipynb",
      "provenance": [],
      "collapsed_sections": [],
      "include_colab_link": true
    },
    "kernelspec": {
      "name": "python3",
      "display_name": "Python 3"
    },
    "language_info": {
      "name": "python"
    }
  },
  "cells": [
    {
      "cell_type": "markdown",
      "metadata": {
        "id": "view-in-github",
        "colab_type": "text"
      },
      "source": [
        "<a href=\"https://colab.research.google.com/github/Jeongho-Kim-kr/Python_basic/blob/main/0_%EA%B8%B0%EB%B3%B8/6_Data_Structure_%26_Pythonic_Code_%26_Exception_Handling.ipynb\" target=\"_parent\"><img src=\"https://colab.research.google.com/assets/colab-badge.svg\" alt=\"Open In Colab\"/></a>"
      ]
    },
    {
      "cell_type": "markdown",
      "metadata": {
        "id": "m5bV9hIv_wz4"
      },
      "source": [
        "# Data Structure\n",
        "## Collection\n",
        "List, Tuple, Dict에 대한 Python Built-in 확장 자료 구조(모듈) <br>\n",
        "편의성, 실행 효율 등을 사용자에게 제공함 <br>\n",
        "아래의 모듈이 존재함"
      ]
    },
    {
      "cell_type": "code",
      "metadata": {
        "id": "eLUg5bGHQcOo"
      },
      "source": [
        "from collections import deque\n",
        "from collections import Counter\n",
        "from collections import OrderedDict\n",
        "from collections import defaultdict\n",
        "from collections import namedtuple"
      ],
      "execution_count": null,
      "outputs": []
    },
    {
      "cell_type": "markdown",
      "metadata": {
        "id": "bZXUJU2NTszt"
      },
      "source": [
        "### deque\n",
        "Stack과 queue를 지원하는 모듈 <br>\n",
        "List에 비해 효율적인 자료 저장 방식을 지원함"
      ]
    },
    {
      "cell_type": "code",
      "metadata": {
        "colab": {
          "base_uri": "https://localhost:8080/"
        },
        "id": "zi0GB1dlQw9Y",
        "outputId": "97138e6c-863e-41f6-cbf2-1fd973deb588"
      },
      "source": [
        "deque_list = deque()\n",
        "for i in range(5):\n",
        "    deque_list.append(i)\n",
        "    \n",
        "print(deque_list)"
      ],
      "execution_count": null,
      "outputs": [
        {
          "output_type": "stream",
          "text": [
            "deque([0, 1, 2, 3, 4])\n"
          ],
          "name": "stdout"
        }
      ]
    },
    {
      "cell_type": "code",
      "metadata": {
        "colab": {
          "base_uri": "https://localhost:8080/"
        },
        "id": "rwRBxAaVRTPX",
        "outputId": "f8bc6910-8a11-4225-ede2-209c535a8d15"
      },
      "source": [
        "deque_list.appendleft(10) # 왼쪽에 append를 사용 가능\n",
        "print(deque_list)"
      ],
      "execution_count": null,
      "outputs": [
        {
          "output_type": "stream",
          "text": [
            "deque([10, 0, 1, 2, 3, 4])\n"
          ],
          "name": "stdout"
        }
      ]
    },
    {
      "cell_type": "markdown",
      "metadata": {
        "id": "gAc8ckMGUGc-"
      },
      "source": [
        "Rotate, reverse등 Linked List의 특성을 지원함\n",
        "기존 list 형태의 함수를 모두 지원함"
      ]
    },
    {
      "cell_type": "code",
      "metadata": {
        "colab": {
          "base_uri": "https://localhost:8080/"
        },
        "id": "R96_7llMU1pg",
        "outputId": "87f67965-40e6-461b-c5f8-57e4dec650a4"
      },
      "source": [
        "b = [3,4,5]\n",
        "a = [1,2,b]\n",
        "a # 연결 list"
      ],
      "execution_count": null,
      "outputs": [
        {
          "output_type": "execute_result",
          "data": {
            "text/plain": [
              "[1, 2, [3, 4, 5]]"
            ]
          },
          "metadata": {
            "tags": []
          },
          "execution_count": 21
        }
      ]
    },
    {
      "cell_type": "code",
      "metadata": {
        "colab": {
          "base_uri": "https://localhost:8080/"
        },
        "id": "RCGaA1rQU2Lv",
        "outputId": "1dba13a6-e67b-49ea-a2ba-b54de19fafd1"
      },
      "source": [
        "# 2원소 앞으로 이동\n",
        "deque_list.rotate(2)\n",
        "print(deque_list)"
      ],
      "execution_count": null,
      "outputs": [
        {
          "output_type": "stream",
          "text": [
            "deque([3, 4, 10, 0, 1, 2])\n"
          ],
          "name": "stdout"
        }
      ]
    },
    {
      "cell_type": "code",
      "metadata": {
        "colab": {
          "base_uri": "https://localhost:8080/"
        },
        "id": "AId162yxU2U-",
        "outputId": "d517ffa8-123e-4430-ac13-1c608986484a"
      },
      "source": [
        "# 역정렬\n",
        "print(deque_list)\n",
        "print(deque(reversed(deque_list)))"
      ],
      "execution_count": null,
      "outputs": [
        {
          "output_type": "stream",
          "text": [
            "deque([3, 4, 10, 0, 1, 2])\n",
            "deque([2, 1, 0, 10, 4, 3])\n"
          ],
          "name": "stdout"
        }
      ]
    },
    {
      "cell_type": "code",
      "metadata": {
        "id": "gggCYcceU2c-",
        "outputId": "188a9803-0a09-4e7b-8f9c-fd0a9d7a18cc"
      },
      "source": [
        "# 다음 리스트를 오른쪽에 추가\n",
        "deque_list.extend([5,6,7])\n",
        "print(deque_list)"
      ],
      "execution_count": null,
      "outputs": [
        {
          "output_type": "stream",
          "text": [
            "deque([3, 4, 10, 0, 1, 2, 5, 6, 7])\n"
          ],
          "name": "stdout"
        }
      ]
    },
    {
      "cell_type": "markdown",
      "metadata": {
        "id": "yhcLEQnkiQ_J"
      },
      "source": [
        "## (중요) extendleft"
      ]
    },
    {
      "cell_type": "code",
      "metadata": {
        "id": "aQtl-ySviQ_J",
        "outputId": "8699c3b8-c59b-45f1-9ce0-79cdb1ec750b"
      },
      "source": [
        "# 다음 리스트를 왼쪽에 추가(하나씩 넣어주므로 7,6,5 가 추가됨)\n",
        "deque_list.extendleft([5,6,7])\n",
        "print(deque_list)"
      ],
      "execution_count": null,
      "outputs": [
        {
          "output_type": "stream",
          "text": [
            "deque([7, 6, 5, 3, 4, 10, 0, 1, 2, 5, 6, 7])\n"
          ],
          "name": "stdout"
        }
      ]
    },
    {
      "cell_type": "markdown",
      "metadata": {
        "id": "VjZpfoUtU2kO"
      },
      "source": [
        "Deque는 기존 list보다 효율적인 자료구조를 제공 <br>\n",
        "효율적 메모리 구조로 처리 속도 향상"
      ]
    },
    {
      "cell_type": "code",
      "metadata": {
        "id": "OsSNO7xGiQ_K",
        "outputId": "b0328d1e-4eb0-41a8-bc71-42563b257610"
      },
      "source": [
        "## deque의 경우\n",
        "from collections import deque\n",
        "import time\n",
        "\n",
        "start_time = time.process_time()\n",
        "deque_list = deque()\n",
        "# Stack\n",
        "for i in range(10000):\n",
        "    for i in range(10000):\n",
        "        deque_list.append(i)\n",
        "        deque_list.pop()\n",
        "print(time.process_time()-start_time, 'secomds')"
      ],
      "execution_count": null,
      "outputs": [
        {
          "output_type": "stream",
          "text": [
            "8.96875 secomds\n"
          ],
          "name": "stdout"
        }
      ]
    },
    {
      "cell_type": "code",
      "metadata": {
        "id": "URwyi2AkiQ_K",
        "outputId": "838d1ac8-4902-41d4-a033-f679825d700f"
      },
      "source": [
        "## general list 경우\n",
        "import time\n",
        "\n",
        "start_time = time.process_time()\n",
        "just_list = []\n",
        "# Stack\n",
        "for i in range(10000):\n",
        "    for i in range(10000):\n",
        "        just_list.append(i)\n",
        "        just_list.pop()\n",
        "print(time.process_time()-start_time, 'secomds')"
      ],
      "execution_count": null,
      "outputs": [
        {
          "output_type": "stream",
          "text": [
            "26.140625 secomds\n"
          ],
          "name": "stdout"
        }
      ]
    },
    {
      "cell_type": "markdown",
      "metadata": {
        "id": "vHhYZC7-iQ_L"
      },
      "source": [
        "### defaultdict\n",
        "Dict type의 값에 기본 값을 지정, 신규값 생성시 사용하는 방법"
      ]
    },
    {
      "cell_type": "code",
      "metadata": {
        "id": "tAF-mfmQiQ_L",
        "outputId": "45aac9aa-aac2-4536-e6e5-0c575446e086"
      },
      "source": [
        "# 일반 dict에서 없는 값을 호출할 경우\n",
        "d = dict()\n",
        "print(d['first'])"
      ],
      "execution_count": null,
      "outputs": [
        {
          "output_type": "error",
          "ename": "KeyError",
          "evalue": "'first'",
          "traceback": [
            "\u001b[1;31m---------------------------------------------------------------------------\u001b[0m",
            "\u001b[1;31mKeyError\u001b[0m                                  Traceback (most recent call last)",
            "\u001b[1;32m<ipython-input-30-05d3f1c0d1dc>\u001b[0m in \u001b[0;36m<module>\u001b[1;34m\u001b[0m\n\u001b[0;32m      1\u001b[0m \u001b[0md\u001b[0m \u001b[1;33m=\u001b[0m \u001b[0mdict\u001b[0m\u001b[1;33m(\u001b[0m\u001b[1;33m)\u001b[0m\u001b[1;33m\u001b[0m\u001b[1;33m\u001b[0m\u001b[0m\n\u001b[1;32m----> 2\u001b[1;33m \u001b[0mprint\u001b[0m\u001b[1;33m(\u001b[0m\u001b[0md\u001b[0m\u001b[1;33m[\u001b[0m\u001b[1;34m'first'\u001b[0m\u001b[1;33m]\u001b[0m\u001b[1;33m)\u001b[0m\u001b[1;33m\u001b[0m\u001b[1;33m\u001b[0m\u001b[0m\n\u001b[0m",
            "\u001b[1;31mKeyError\u001b[0m: 'first'"
          ]
        }
      ]
    },
    {
      "cell_type": "code",
      "metadata": {
        "id": "WShPLDyJiQ_L",
        "outputId": "762b562d-f66d-4337-b507-571a797f4c8a"
      },
      "source": [
        "# 일반 defaultdict에서 default값을 지정 후 없는 값을 호출할 경우\n",
        "from collections import defaultdict\n",
        "d = defaultdict(object) # Default dictionary를 생성\n",
        "d = defaultdict(lambda:0) # Default 값을 0으로 생성함\n",
        "print(d['first'])"
      ],
      "execution_count": null,
      "outputs": [
        {
          "output_type": "stream",
          "text": [
            "0\n"
          ],
          "name": "stdout"
        }
      ]
    },
    {
      "cell_type": "code",
      "metadata": {
        "id": "4SjlWuR0iQ_L",
        "outputId": "73f12725-b029-4948-a56b-8afe097a4ac0"
      },
      "source": [
        "# ex\n",
        "d = defaultdict(object) # Default dictionary를 생성\n",
        "d = defaultdict(lambda:'010-0000-0000') # Default 값을 0으로 생성함\n",
        "print(d['사람'])\n",
        "d"
      ],
      "execution_count": null,
      "outputs": [
        {
          "output_type": "stream",
          "text": [
            "010-0000-0000\n"
          ],
          "name": "stdout"
        },
        {
          "output_type": "execute_result",
          "data": {
            "text/plain": [
              "defaultdict(<function __main__.<lambda>()>, {'사람': '010-0000-0000'})"
            ]
          },
          "metadata": {
            "tags": []
          },
          "execution_count": 39
        }
      ]
    },
    {
      "cell_type": "markdown",
      "metadata": {
        "id": "qfD7nDSUiQ_L"
      },
      "source": [
        "### counter\n",
        "Sequence type의 data element들의 개수를 dict 형태로 반환"
      ]
    },
    {
      "cell_type": "code",
      "metadata": {
        "id": "nB3x5mI2iQ_M",
        "outputId": "43f1e292-c61f-4d42-839d-1c39e881b0cb"
      },
      "source": [
        "from collections import Counter\n",
        "c = Counter()\n",
        "c = Counter('gallahad')\n",
        "print(c)"
      ],
      "execution_count": null,
      "outputs": [
        {
          "output_type": "stream",
          "text": [
            "Counter({'a': 3, 'l': 2, 'g': 1, 'h': 1, 'd': 1})\n"
          ],
          "name": "stdout"
        }
      ]
    },
    {
      "cell_type": "markdown",
      "metadata": {
        "id": "suOzniOYiQ_M"
      },
      "source": [
        "Dict type, keyword parameter 등도 모두 처리 가능"
      ]
    },
    {
      "cell_type": "code",
      "metadata": {
        "id": "NnmbJ13diQ_M",
        "outputId": "dd29a7d6-748f-4538-ba4c-ae9f8de7c3aa"
      },
      "source": [
        "c = Counter({'red':4, 'blue':2})\n",
        "print(c)\n",
        "print(list(c.elements()))"
      ],
      "execution_count": null,
      "outputs": [
        {
          "output_type": "stream",
          "text": [
            "Counter({'red': 4, 'blue': 2})\n",
            "['red', 'red', 'red', 'red', 'blue', 'blue']\n"
          ],
          "name": "stdout"
        }
      ]
    },
    {
      "cell_type": "code",
      "metadata": {
        "id": "Qc8v-zMoiQ_M",
        "outputId": "a0eaf795-2f6c-413f-d692-f84079767e5f"
      },
      "source": [
        "c = Counter(cats=4, dogs=8)\n",
        "print(c)\n",
        "print(list(c.elements()))"
      ],
      "execution_count": null,
      "outputs": [
        {
          "output_type": "stream",
          "text": [
            "Counter({'dogs': 8, 'cats': 4})\n",
            "['cats', 'cats', 'cats', 'cats', 'dogs', 'dogs', 'dogs', 'dogs', 'dogs', 'dogs', 'dogs', 'dogs']\n"
          ],
          "name": "stdout"
        }
      ]
    },
    {
      "cell_type": "markdown",
      "metadata": {
        "id": "83vuOBqgiQ_N"
      },
      "source": [
        "Word counter의 기능도 손쉽게 제공함"
      ]
    },
    {
      "cell_type": "code",
      "metadata": {
        "id": "fRKoVaeuiQ_N",
        "outputId": "8ffd6cd8-e110-4b86-f1a6-bfe887f23d36"
      },
      "source": [
        "text = '''For Tito, then 60, it was the culmination of a dream he'd held since he was a young man, one he'd shelled out a cool $20 million for to make a reality.\n",
        "Reflecting on the journey two decades on, Tito is gleeful when describing the moment the rocket first went into orbit.\n",
        "\"The pencils started floating in the air, and I could see the blackness of space and the curvature of the earth,\" he tells CNN Travel.\n",
        "\"I was euphoric. I mean, it was the greatest moment of my life, to achieve a life objective, and I knew then that nothing could ever beat this.\"\n",
        "In the 20 years since Tito vacationed in space, only a handful of other -- uber wealthy -- tourists have followed in his footsteps, but companies such as SpaceX, Blue Origin and Virgin Galactic are banking on the next big vacation destination being out of this world, and working to make that a reality in the not-so-distant future.'''.lower().split()\n",
        "\n",
        "print(Counter(text))\n",
        "print()\n",
        "print(Counter(text)['a'])"
      ],
      "execution_count": null,
      "outputs": [
        {
          "output_type": "stream",
          "text": [
            "Counter({'the': 12, 'a': 7, 'of': 6, 'in': 5, 'and': 5, 'was': 4, 'to': 3, 'i': 3, 'for': 2, 'then': 2, 'it': 2, \"he'd\": 2, 'since': 2, 'he': 2, 'out': 2, 'make': 2, 'on': 2, 'tito': 2, 'moment': 2, 'could': 2, 'that': 2, '--': 2, 'tito,': 1, '60,': 1, 'culmination': 1, 'dream': 1, 'held': 1, 'young': 1, 'man,': 1, 'one': 1, 'shelled': 1, 'cool': 1, '$20': 1, 'million': 1, 'reality.': 1, 'reflecting': 1, 'journey': 1, 'two': 1, 'decades': 1, 'on,': 1, 'is': 1, 'gleeful': 1, 'when': 1, 'describing': 1, 'rocket': 1, 'first': 1, 'went': 1, 'into': 1, 'orbit.': 1, '\"the': 1, 'pencils': 1, 'started': 1, 'floating': 1, 'air,': 1, 'see': 1, 'blackness': 1, 'space': 1, 'curvature': 1, 'earth,\"': 1, 'tells': 1, 'cnn': 1, 'travel.': 1, '\"i': 1, 'euphoric.': 1, 'mean,': 1, 'greatest': 1, 'my': 1, 'life,': 1, 'achieve': 1, 'life': 1, 'objective,': 1, 'knew': 1, 'nothing': 1, 'ever': 1, 'beat': 1, 'this.\"': 1, '20': 1, 'years': 1, 'vacationed': 1, 'space,': 1, 'only': 1, 'handful': 1, 'other': 1, 'uber': 1, 'wealthy': 1, 'tourists': 1, 'have': 1, 'followed': 1, 'his': 1, 'footsteps,': 1, 'but': 1, 'companies': 1, 'such': 1, 'as': 1, 'spacex,': 1, 'blue': 1, 'origin': 1, 'virgin': 1, 'galactic': 1, 'are': 1, 'banking': 1, 'next': 1, 'big': 1, 'vacation': 1, 'destination': 1, 'being': 1, 'this': 1, 'world,': 1, 'working': 1, 'reality': 1, 'not-so-distant': 1, 'future.': 1})\n",
            "\n",
            "7\n"
          ],
          "name": "stdout"
        }
      ]
    },
    {
      "cell_type": "markdown",
      "metadata": {
        "id": "0cZqgEj2iQ_N"
      },
      "source": [
        "### namedtuple\n",
        "Tuple형태로 Data 구조체를 저장하는 방법 <br>\n",
        "저장하는 data의 variable을 사전에 지정해서 저장함 <br>\n",
        "Tuple은 인덱스를 이용해서만 variable에 접근 가능한데 namedtuple은 인덱스, 키값으로 접근 가능함"
      ]
    },
    {
      "cell_type": "code",
      "metadata": {
        "id": "MDIH10ERiQ_N",
        "outputId": "dcdb0324-6444-46c6-a998-f0aa6290943d"
      },
      "source": [
        "from collections import namedtuple\n",
        "point = namedtuple('point',['x','y'])\n",
        "p = point(11, y=22)\n",
        "print(p[0] + p[1])"
      ],
      "execution_count": null,
      "outputs": [
        {
          "output_type": "stream",
          "text": [
            "33\n"
          ],
          "name": "stdout"
        }
      ]
    },
    {
      "cell_type": "code",
      "metadata": {
        "id": "eE4pZUU_iQ_N",
        "outputId": "74757d46-e768-4edf-8e9c-409288d75f8b"
      },
      "source": [
        "print(x,y)"
      ],
      "execution_count": null,
      "outputs": [
        {
          "output_type": "stream",
          "text": [
            "11 22\n"
          ],
          "name": "stdout"
        }
      ]
    },
    {
      "cell_type": "code",
      "metadata": {
        "id": "kz_PRZDEiQ_O",
        "outputId": "c4aa2837-c9d7-4b21-a465-d0c814d5e569"
      },
      "source": [
        "x, y = p\n",
        "print(p.x + p.y)"
      ],
      "execution_count": null,
      "outputs": [
        {
          "output_type": "stream",
          "text": [
            "33\n"
          ],
          "name": "stdout"
        }
      ]
    },
    {
      "cell_type": "code",
      "metadata": {
        "id": "r6VtObvOiQ_O",
        "outputId": "ec4bd49f-c3b7-47ec-eb31-351dba64fcd0"
      },
      "source": [
        "print(point(x=11, y=22))"
      ],
      "execution_count": null,
      "outputs": [
        {
          "output_type": "stream",
          "text": [
            "point(x=11, y=22)\n"
          ],
          "name": "stdout"
        }
      ]
    },
    {
      "cell_type": "markdown",
      "metadata": {
        "id": "r029Qf2siQ_O"
      },
      "source": [
        "# Pythonic code\n",
        "## lambda\n",
        "함수 이름 없이, 함수처럼 쓸 수 있는 익명함수 <br>\n",
        "수학의 람다 대수에서 유래함"
      ]
    },
    {
      "cell_type": "code",
      "metadata": {
        "id": "1g61dbTEiQ_O",
        "outputId": "b6422337-4541-4371-8af5-bce2cb04d1d7"
      },
      "source": [
        "# general function\n",
        "def f(x,y):\n",
        "    return x + y\n",
        "print(f(1,4))"
      ],
      "execution_count": null,
      "outputs": [
        {
          "output_type": "stream",
          "text": [
            "5\n"
          ],
          "name": "stdout"
        }
      ]
    },
    {
      "cell_type": "code",
      "metadata": {
        "id": "wru0Kv_JiQ_O",
        "outputId": "832dea81-6a71-474b-95dc-52885103b7d4"
      },
      "source": [
        "# lambda function\n",
        "f = lambda x, y: x+y\n",
        "print(f(1,4))"
      ],
      "execution_count": null,
      "outputs": [
        {
          "output_type": "stream",
          "text": [
            "5\n"
          ],
          "name": "stdout"
        }
      ]
    },
    {
      "cell_type": "code",
      "metadata": {
        "id": "8_748RqQiQ_P"
      },
      "source": [
        "Python3부터는 권장하지는 않으나 여전히 많이 쓰임"
      ],
      "execution_count": null,
      "outputs": []
    },
    {
      "cell_type": "code",
      "metadata": {
        "id": "_297ANg4iQ_P",
        "outputId": "9b47f269-1758-4498-c8f3-c8381ae2d189"
      },
      "source": [
        "f = lambda x: (x+3)**(x+x)\n",
        "print(f(2))"
      ],
      "execution_count": null,
      "outputs": [
        {
          "output_type": "stream",
          "text": [
            "625\n"
          ],
          "name": "stdout"
        }
      ]
    },
    {
      "cell_type": "markdown",
      "metadata": {
        "id": "Tumb6lAbiQ_P"
      },
      "source": [
        "## Map function\n",
        "Sequence 자료형 각 element에 동일한 function을 적용함"
      ]
    },
    {
      "cell_type": "markdown",
      "metadata": {
        "id": "BksQ1TcbiQ_P"
      },
      "source": [
        "![image.png](data:image/png;base64,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)"
      ]
    },
    {
      "cell_type": "code",
      "metadata": {
        "colab": {
          "base_uri": "https://localhost:8080/"
        },
        "id": "CYA2FC8Oib84",
        "outputId": "a414d036-9063-4f76-e2c0-9aaaaf8c77fb"
      },
      "source": [
        "ex = [1,2,3,4,5]\n",
        "f = lambda x: x**2\n",
        "print(list(map(f,ex)))\n",
        "\n",
        "f = lambda x,y: x+y\n",
        "print(list(map(f, ex, ex)))"
      ],
      "execution_count": 8,
      "outputs": [
        {
          "output_type": "stream",
          "text": [
            "[1, 4, 9, 16, 25]\n",
            "[2, 4, 6, 8, 10]\n",
            "[3, 6, 9, 12, 15]\n"
          ],
          "name": "stdout"
        }
      ]
    },
    {
      "cell_type": "markdown",
      "metadata": {
        "id": "aw6f0VQPlnlG"
      },
      "source": [
        "## (중요) 응용"
      ]
    },
    {
      "cell_type": "code",
      "metadata": {
        "colab": {
          "base_uri": "https://localhost:8080/"
        },
        "id": "58XGcX5rmlVE",
        "outputId": "999a2ce6-aa0f-40b9-f12d-c8d5186f5f9d"
      },
      "source": [
        "f = lambda x,y: x+y\n",
        "print(list(map(f, ex, ex*2))) # *2를 넣어도 곱이 안된다\n",
        "print(list(map(f, ex, [x*2 for x in ex]))) # 곱의 우선순위가 낮으니 각원소에 곱을 시킨 리스트 사용"
      ],
      "execution_count": 10,
      "outputs": [
        {
          "output_type": "stream",
          "text": [
            "[2, 4, 6, 8, 10]\n",
            "[3, 6, 9, 12, 15]\n"
          ],
          "name": "stdout"
        }
      ]
    },
    {
      "cell_type": "markdown",
      "metadata": {
        "id": "5X6ZkzNLmo-C"
      },
      "source": [
        "Python 3는 iteration을 생성(기본적으로 iteration형식이다) -> list을 붙여줘야 list사용가능 <br>\n",
        "\\- iteration 형식이 실행시점의 값을 생성하기에 메모리 효율적"
      ]
    },
    {
      "cell_type": "code",
      "metadata": {
        "colab": {
          "base_uri": "https://localhost:8080/"
        },
        "id": "jGVojDJLm88t",
        "outputId": "e2b35d80-52fa-4984-bd98-ccd07d72ce91"
      },
      "source": [
        "ex = [1,2,3,4,5]\n",
        "print(list(map(lambda x: x+x, ex)))\n",
        "print((map(lambda x:x+x, ex))) # list로 묶어주지 않으면 iteration 형식으로만 보임"
      ],
      "execution_count": 11,
      "outputs": [
        {
          "output_type": "stream",
          "text": [
            "[2, 4, 6, 8, 10]\n",
            "<map object at 0x7facd07cb510>\n"
          ],
          "name": "stdout"
        }
      ]
    },
    {
      "cell_type": "code",
      "metadata": {
        "colab": {
          "base_uri": "https://localhost:8080/"
        },
        "id": "s7dxycXQnPCd",
        "outputId": "335f801b-b4fb-4315-bc25-35dd0ddcfbc6"
      },
      "source": [
        "f = lambda x: x ** 2\n",
        "print(map(f, ex)) # list로 묶어줘야 한다"
      ],
      "execution_count": 14,
      "outputs": [
        {
          "output_type": "stream",
          "text": [
            "<map object at 0x7facd079e3d0>\n"
          ],
          "name": "stdout"
        }
      ]
    },
    {
      "cell_type": "code",
      "metadata": {
        "colab": {
          "base_uri": "https://localhost:8080/"
        },
        "id": "z9E_STDanhgV",
        "outputId": "e170d17d-cb42-4625-e476-1f0f8bed6c23"
      },
      "source": [
        "# 아래 경우들은 list로 안묶어도 자동으로 iteration에서 변경되는 경우이다.\n",
        "for i in map(f, ex):\n",
        "    print(i)\n",
        "\n",
        "result = map(f, ex)\n",
        "print(next(result))"
      ],
      "execution_count": 15,
      "outputs": [
        {
          "output_type": "stream",
          "text": [
            "1\n",
            "4\n",
            "9\n",
            "16\n",
            "25\n",
            "1\n"
          ],
          "name": "stdout"
        }
      ]
    },
    {
      "cell_type": "markdown",
      "metadata": {
        "id": "80tq32lZnydl"
      },
      "source": [
        "## Reduce function\n",
        "Map function과 달리 list에 똑같은 함수를 적용해서 통합\n",
        "![image.png](data:image/png;base64,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)"
      ]
    },
    {
      "cell_type": "code",
      "metadata": {
        "colab": {
          "base_uri": "https://localhost:8080/"
        },
        "id": "1rcRMZDgpF9t",
        "outputId": "3f0eef8e-5274-4f61-8a1a-46a670dac8ba"
      },
      "source": [
        "from functools import reduce\n",
        "print(reduce(lambda x, y: x+y, [1,2,3,4,5]))"
      ],
      "execution_count": 20,
      "outputs": [
        {
          "output_type": "stream",
          "text": [
            "15\n"
          ],
          "name": "stdout"
        }
      ]
    },
    {
      "cell_type": "markdown",
      "metadata": {
        "id": "Gbb8IaOGpTrL"
      },
      "source": [
        "## Asterisk\n",
        "흔히 알고있는 *를 의미함 <br>\n",
        "단순 곱셈, 제곱연산, 가변 인자 활용 등 다양하게 사용됨"
      ]
    },
    {
      "cell_type": "code",
      "metadata": {
        "colab": {
          "base_uri": "https://localhost:8080/",
          "height": 208
        },
        "id": "HxCOK9MTqykV",
        "outputId": "a7d05624-f2ef-48da-a89b-7d896a9e641c"
      },
      "source": [
        "## general(함수 지역변수가 부족해 오류)\n",
        "def general_test(a, b):\n",
        "    print(a,args)\n",
        "    print(type(args))\n",
        "\n",
        "general_test(1,2,3,4,5,6)"
      ],
      "execution_count": 23,
      "outputs": [
        {
          "output_type": "error",
          "ename": "TypeError",
          "evalue": "ignored",
          "traceback": [
            "\u001b[0;31m---------------------------------------------------------------------------\u001b[0m",
            "\u001b[0;31mTypeError\u001b[0m                                 Traceback (most recent call last)",
            "\u001b[0;32m<ipython-input-23-0e4c89cbfc23>\u001b[0m in \u001b[0;36m<module>\u001b[0;34m()\u001b[0m\n\u001b[1;32m      4\u001b[0m     \u001b[0mprint\u001b[0m\u001b[0;34m(\u001b[0m\u001b[0mtype\u001b[0m\u001b[0;34m(\u001b[0m\u001b[0margs\u001b[0m\u001b[0;34m)\u001b[0m\u001b[0;34m)\u001b[0m\u001b[0;34m\u001b[0m\u001b[0;34m\u001b[0m\u001b[0m\n\u001b[1;32m      5\u001b[0m \u001b[0;34m\u001b[0m\u001b[0m\n\u001b[0;32m----> 6\u001b[0;31m \u001b[0mgeneral_test\u001b[0m\u001b[0;34m(\u001b[0m\u001b[0;36m1\u001b[0m\u001b[0;34m,\u001b[0m\u001b[0;36m2\u001b[0m\u001b[0;34m,\u001b[0m\u001b[0;36m3\u001b[0m\u001b[0;34m,\u001b[0m\u001b[0;36m4\u001b[0m\u001b[0;34m,\u001b[0m\u001b[0;36m5\u001b[0m\u001b[0;34m,\u001b[0m\u001b[0;36m6\u001b[0m\u001b[0;34m)\u001b[0m\u001b[0;34m\u001b[0m\u001b[0;34m\u001b[0m\u001b[0m\n\u001b[0m",
            "\u001b[0;31mTypeError\u001b[0m: general_test() takes 2 positional arguments but 6 were given"
          ]
        }
      ]
    },
    {
      "cell_type": "code",
      "metadata": {
        "colab": {
          "base_uri": "https://localhost:8080/"
        },
        "id": "dItnnWUkqTMq",
        "outputId": "cab4017e-b700-4f94-e642-aaaf1939bada"
      },
      "source": [
        "## *args(tuple)\n",
        "def asterisk_test(a, *args):\n",
        "    print(a,args)\n",
        "    print(type(args))\n",
        "\n",
        "asterisk_test(1,2,3,4,5,6)"
      ],
      "execution_count": 21,
      "outputs": [
        {
          "output_type": "stream",
          "text": [
            "1 (2, 3, 4, 5, 6)\n",
            "<class 'tuple'>\n"
          ],
          "name": "stdout"
        }
      ]
    },
    {
      "cell_type": "code",
      "metadata": {
        "colab": {
          "base_uri": "https://localhost:8080/"
        },
        "id": "X8q_6YLGqhyF",
        "outputId": "ab693f44-0233-4c34-ebc4-e9b2f8db58d5"
      },
      "source": [
        "## **kargs(dict)\n",
        "def asterisk_test(a, **kargs):\n",
        "    print(a, kargs)\n",
        "    print(type(kargs))\n",
        "\n",
        "asterisk_test(1, b=2, c=3, d=4, e=5, f=6)"
      ],
      "execution_count": 22,
      "outputs": [
        {
          "output_type": "stream",
          "text": [
            "1 {'b': 2, 'c': 3, 'd': 4, 'e': 5, 'f': 6}\n",
            "<class 'dict'>\n"
          ],
          "name": "stdout"
        }
      ]
    },
    {
      "cell_type": "markdown",
      "metadata": {
        "id": "CiW3b4Voquf7"
      },
      "source": [
        "## (중요) Asterisk unpacking\n",
        "Tuple, dict등 자료형에 들어가 있는 값을 unpacking <br>\n",
        "함수의 입력값, zip 등에 유용하게 사용가능"
      ]
    },
    {
      "cell_type": "code",
      "metadata": {
        "colab": {
          "base_uri": "https://localhost:8080/"
        },
        "id": "i8_kvfGGrIFF",
        "outputId": "570cd4be-485d-4a38-e5e8-e78fa1815041"
      },
      "source": [
        "def asterisk_test(a, *args): # 분해된 원소들로 받음\n",
        "    print(a,args)\n",
        "    print(type(args))\n",
        "\n",
        "asterisk_test(1, *(2,3,4,5,6)) # 튜플을 분해해 입력함\n",
        "\n",
        "\n",
        "def asterisk_test(a, args): # 튜플로 받음\n",
        "    print(a,*args) # 받은 튜플이 분해됨\n",
        "    print(type(args))\n",
        "\n",
        "asterisk_test(1, (2,3,4,5,6))"
      ],
      "execution_count": 26,
      "outputs": [
        {
          "output_type": "stream",
          "text": [
            "1 (2, 3, 4, 5, 6)\n",
            "<class 'tuple'>\n",
            "1 2 3 4 5 6\n",
            "<class 'tuple'>\n"
          ],
          "name": "stdout"
        }
      ]
    },
    {
      "cell_type": "code",
      "metadata": {
        "colab": {
          "base_uri": "https://localhost:8080/"
        },
        "id": "4Nrfys-1ruji",
        "outputId": "d462780a-0653-4a8b-fd32-2b3f624631b1"
      },
      "source": [
        "a, b, c = ([1,2],[3,4],[5,6])\n",
        "print(a,b,c)\n",
        "\n",
        "data = ([1,2],[3,4],[5,6])\n",
        "print(*data)"
      ],
      "execution_count": 27,
      "outputs": [
        {
          "output_type": "stream",
          "text": [
            "[1, 2] [3, 4] [5, 6]\n",
            "[1, 2] [3, 4] [5, 6]\n"
          ],
          "name": "stdout"
        }
      ]
    },
    {
      "cell_type": "code",
      "metadata": {
        "colab": {
          "base_uri": "https://localhost:8080/"
        },
        "id": "GzIH4-nGsfbs",
        "outputId": "2d5f914e-6a04-49e4-94d8-c47c0a7242df"
      },
      "source": [
        "def asterisk_test(a,b,c,d):\n",
        "    print(a,b,c,d)\n",
        "\n",
        "data = {'b':1,'c':2,'d':3}\n",
        "asterisk_test(10, **data)"
      ],
      "execution_count": 28,
      "outputs": [
        {
          "output_type": "stream",
          "text": [
            "10 1 2 3\n"
          ],
          "name": "stdout"
        }
      ]
    },
    {
      "cell_type": "code",
      "metadata": {
        "colab": {
          "base_uri": "https://localhost:8080/"
        },
        "id": "oXhWPgPxsqtD",
        "outputId": "b1061bf1-833a-46eb-9f51-76d6bfc82aca"
      },
      "source": [
        "# 튜플을 분해하고 다시 집으로 묶음\n",
        "for data in zip(*([1,2],[3,4],[5,6])):\n",
        "    print(data)"
      ],
      "execution_count": 29,
      "outputs": [
        {
          "output_type": "stream",
          "text": [
            "(1, 3, 5)\n",
            "(2, 4, 6)\n"
          ],
          "name": "stdout"
        }
      ]
    },
    {
      "cell_type": "markdown",
      "metadata": {
        "id": "b-e7q3MGs0M6"
      },
      "source": [
        "# Exception Handling\n",
        "프로그램 사용할 때 일어나는 오류들"
      ]
    },
    {
      "cell_type": "markdown",
      "metadata": {
        "id": "h9twJilQthAC"
      },
      "source": [
        "## try ~ except 문법\n",
        "예외가 발생하도 코드를 실행함 <br>\n",
        "try: <br>\n",
        "    예외 발생 가능 코드 <br>\n",
        "except \\<Exception type>: <br>\n",
        "    예외 발생시 대응하는 코드"
      ]
    },
    {
      "cell_type": "code",
      "metadata": {
        "colab": {
          "base_uri": "https://localhost:8080/",
          "height": 190
        },
        "id": "OpH83uA4txL6",
        "outputId": "e57fe16d-0088-4f56-d1a4-b178ffd2da94"
      },
      "source": [
        "for i in range(10):\n",
        "    print(10/i)"
      ],
      "execution_count": 30,
      "outputs": [
        {
          "output_type": "error",
          "ename": "ZeroDivisionError",
          "evalue": "ignored",
          "traceback": [
            "\u001b[0;31m---------------------------------------------------------------------------\u001b[0m",
            "\u001b[0;31mZeroDivisionError\u001b[0m                         Traceback (most recent call last)",
            "\u001b[0;32m<ipython-input-30-d943bf0d4a08>\u001b[0m in \u001b[0;36m<module>\u001b[0;34m()\u001b[0m\n\u001b[1;32m      1\u001b[0m \u001b[0;32mfor\u001b[0m \u001b[0mi\u001b[0m \u001b[0;32min\u001b[0m \u001b[0mrange\u001b[0m\u001b[0;34m(\u001b[0m\u001b[0;36m10\u001b[0m\u001b[0;34m)\u001b[0m\u001b[0;34m:\u001b[0m\u001b[0;34m\u001b[0m\u001b[0;34m\u001b[0m\u001b[0m\n\u001b[0;32m----> 2\u001b[0;31m     \u001b[0mprint\u001b[0m\u001b[0;34m(\u001b[0m\u001b[0;36m10\u001b[0m\u001b[0;34m/\u001b[0m\u001b[0mi\u001b[0m\u001b[0;34m)\u001b[0m\u001b[0;34m\u001b[0m\u001b[0;34m\u001b[0m\u001b[0m\n\u001b[0m",
            "\u001b[0;31mZeroDivisionError\u001b[0m: division by zero"
          ]
        }
      ]
    },
    {
      "cell_type": "code",
      "metadata": {
        "colab": {
          "base_uri": "https://localhost:8080/"
        },
        "id": "NwpYJd33uyvA",
        "outputId": "f26d4dca-5238-4de2-821b-71aa24166414"
      },
      "source": [
        "for i in range(10):\n",
        "    try:\n",
        "        print(10/i)\n",
        "    except:\n",
        "        continue"
      ],
      "execution_count": 34,
      "outputs": [
        {
          "output_type": "stream",
          "text": [
            "10.0\n",
            "5.0\n",
            "3.3333333333333335\n",
            "2.5\n",
            "2.0\n",
            "1.6666666666666667\n",
            "1.4285714285714286\n",
            "1.25\n",
            "1.1111111111111112\n"
          ],
          "name": "stdout"
        }
      ]
    },
    {
      "cell_type": "code",
      "metadata": {
        "colab": {
          "base_uri": "https://localhost:8080/"
        },
        "id": "BZ16i-Fouofl",
        "outputId": "d4d82816-abdd-4f0a-fc8e-36383758a9d1"
      },
      "source": [
        "for i in range(10):\n",
        "    try:\n",
        "        print(10/i)\n",
        "    except ZeroDivisionError:\n",
        "        print('Not divided by 0')"
      ],
      "execution_count": 31,
      "outputs": [
        {
          "output_type": "stream",
          "text": [
            "Not divided by 0\n",
            "10.0\n",
            "5.0\n",
            "3.3333333333333335\n",
            "2.5\n",
            "2.0\n",
            "1.6666666666666667\n",
            "1.4285714285714286\n",
            "1.25\n",
            "1.1111111111111112\n"
          ],
          "name": "stdout"
        }
      ]
    },
    {
      "cell_type": "markdown",
      "metadata": {
        "id": "HfYCxxwtu2V6"
      },
      "source": [
        "![image.png](data:image/png;base64,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)"
      ]
    },
    {
      "cell_type": "code",
      "metadata": {
        "colab": {
          "base_uri": "https://localhost:8080/"
        },
        "id": "sIPplUtDvF3K",
        "outputId": "d7ab2184-9cee-4f20-b4ca-040900b5484c"
      },
      "source": [
        "for i in range(10):\n",
        "    try:\n",
        "        print(10/i)\n",
        "    except ZeroDivisionError as e:\n",
        "        print('에러정보: ',e)\n",
        "        print('Not divided by 0')"
      ],
      "execution_count": 36,
      "outputs": [
        {
          "output_type": "stream",
          "text": [
            "에러정보:  division by zero\n",
            "Not divided by 0\n",
            "10.0\n",
            "5.0\n",
            "3.3333333333333335\n",
            "2.5\n",
            "2.0\n",
            "1.6666666666666667\n",
            "1.4285714285714286\n",
            "1.25\n",
            "1.1111111111111112\n"
          ],
          "name": "stdout"
        }
      ]
    },
    {
      "cell_type": "markdown",
      "metadata": {
        "id": "bgXs8wVMvT-4"
      },
      "source": [
        "## raise 구문\n",
        "raise \\<Exception Type>(예외정보) <br>\n",
        "직접 해당 에러를 발생시키고 싶을 때"
      ]
    },
    {
      "cell_type": "code",
      "metadata": {
        "colab": {
          "base_uri": "https://localhost:8080/",
          "height": 370
        },
        "id": "n2bVe9tfvpNR",
        "outputId": "e903c41f-4380-48f5-ce03-1c09d6e7114d"
      },
      "source": [
        "while True:\n",
        "    value = input('변환할 정수 값을 입력해주세요:')\n",
        "    print(type(value))\n",
        "    for digit in value:\n",
        "        if digit not in '0123456789':\n",
        "            raise ValueError('숫자값을 입력하지 않으셨습니다.')\n",
        "    print('정수값으로 변환된 숫자 - ', int(value))"
      ],
      "execution_count": 38,
      "outputs": [
        {
          "output_type": "stream",
          "text": [
            "변환할 정수 값을 입력해주세요:10\n",
            "<class 'str'>\n",
            "정수값으로 변환된 숫자 -  10\n",
            "변환할 정수 값을 입력해주세요:2\n",
            "<class 'str'>\n",
            "정수값으로 변환된 숫자 -  2\n",
            "변환할 정수 값을 입력해주세요:/\n",
            "<class 'str'>\n"
          ],
          "name": "stdout"
        },
        {
          "output_type": "error",
          "ename": "ValueError",
          "evalue": "ignored",
          "traceback": [
            "\u001b[0;31m---------------------------------------------------------------------------\u001b[0m",
            "\u001b[0;31mValueError\u001b[0m                                Traceback (most recent call last)",
            "\u001b[0;32m<ipython-input-38-e210a3bb5cda>\u001b[0m in \u001b[0;36m<module>\u001b[0;34m()\u001b[0m\n\u001b[1;32m      4\u001b[0m     \u001b[0;32mfor\u001b[0m \u001b[0mdigit\u001b[0m \u001b[0;32min\u001b[0m \u001b[0mvalue\u001b[0m\u001b[0;34m:\u001b[0m\u001b[0;34m\u001b[0m\u001b[0;34m\u001b[0m\u001b[0m\n\u001b[1;32m      5\u001b[0m         \u001b[0;32mif\u001b[0m \u001b[0mdigit\u001b[0m \u001b[0;32mnot\u001b[0m \u001b[0;32min\u001b[0m \u001b[0;34m'0123456789'\u001b[0m\u001b[0;34m:\u001b[0m\u001b[0;34m\u001b[0m\u001b[0;34m\u001b[0m\u001b[0m\n\u001b[0;32m----> 6\u001b[0;31m             \u001b[0;32mraise\u001b[0m \u001b[0mValueError\u001b[0m\u001b[0;34m(\u001b[0m\u001b[0;34m'숫자값을 입력하지 않으셨습니다.'\u001b[0m\u001b[0;34m)\u001b[0m\u001b[0;34m\u001b[0m\u001b[0;34m\u001b[0m\u001b[0m\n\u001b[0m\u001b[1;32m      7\u001b[0m     \u001b[0mprint\u001b[0m\u001b[0;34m(\u001b[0m\u001b[0;34m'정수값으로 변환된 숫자 - '\u001b[0m\u001b[0;34m,\u001b[0m \u001b[0mint\u001b[0m\u001b[0;34m(\u001b[0m\u001b[0mvalue\u001b[0m\u001b[0;34m)\u001b[0m\u001b[0;34m)\u001b[0m\u001b[0;34m\u001b[0m\u001b[0;34m\u001b[0m\u001b[0m\n",
            "\u001b[0;31mValueError\u001b[0m: 숫자값을 입력하지 않으셨습니다."
          ]
        }
      ]
    }
  ]
}