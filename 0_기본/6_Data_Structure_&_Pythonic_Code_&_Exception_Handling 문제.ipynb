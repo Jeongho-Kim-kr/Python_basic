{
  "nbformat": 4,
  "nbformat_minor": 0,
  "metadata": {
    "colab": {
      "name": "003_12170621_20210430.ipynb",
      "provenance": [],
      "authorship_tag": "ABX9TyO8KhCqb343OFDLRcCJCGcc",
      "include_colab_link": true
    },
    "kernelspec": {
      "name": "python3",
      "display_name": "Python 3"
    },
    "language_info": {
      "name": "python"
    }
  },
  "cells": [
    {
      "cell_type": "markdown",
      "metadata": {
        "id": "view-in-github",
        "colab_type": "text"
      },
      "source": [
        "<a href=\"https://colab.research.google.com/github/Jeongho-Kim-kr/Python_basic/blob/main/0_%EA%B8%B0%EB%B3%B8/6_Data_Structure_%26_Pythonic_Code_%26_Exception_Handling%20%EB%AC%B8%EC%A0%9C.ipynb\" target=\"_parent\"><img src=\"https://colab.research.google.com/assets/colab-badge.svg\" alt=\"Open In Colab\"/></a>"
      ]
    },
    {
      "cell_type": "markdown",
      "metadata": {
        "id": "eQ8zXtII3SkM"
      },
      "source": [
        "### 과제 1"
      ]
    },
    {
      "cell_type": "code",
      "metadata": {
        "id": "ZuzkRFr_2uWl"
      },
      "source": [
        "a = [0,1,3,10]\n",
        "b = (0,1,3,10)\n",
        "c = {0:0, 1:1, 2:3, 3:10}"
      ],
      "execution_count": 34,
      "outputs": []
    },
    {
      "cell_type": "markdown",
      "metadata": {
        "id": "P5qkHKqe3dMF"
      },
      "source": [
        "### 과제 2"
      ]
    },
    {
      "cell_type": "code",
      "metadata": {
        "colab": {
          "base_uri": "https://localhost:8080/"
        },
        "id": "3X01fiYR26Jz",
        "outputId": "bd2dedc9-b719-4995-ea41-bda3f35e528f"
      },
      "source": [
        "from collections import deque\n",
        "A = deque([1,2,3,4,5,6,7,8,9,10])\n",
        "A.extend(deque(reversed(A)))\n",
        "A.remove(10)\n",
        "B = A\n",
        "B"
      ],
      "execution_count": 35,
      "outputs": [
        {
          "output_type": "execute_result",
          "data": {
            "text/plain": [
              "deque([1, 2, 3, 4, 5, 6, 7, 8, 9, 10, 9, 8, 7, 6, 5, 4, 3, 2, 1])"
            ]
          },
          "metadata": {
            "tags": []
          },
          "execution_count": 35
        }
      ]
    },
    {
      "cell_type": "markdown",
      "metadata": {
        "id": "PJesgrU_3Obr"
      },
      "source": [
        "### 과제 3"
      ]
    },
    {
      "cell_type": "code",
      "metadata": {
        "id": "FFv603O43m2u"
      },
      "source": [
        "text = 'A Counter is a dict subclass for counting hashable objects. It is an unordered collection where elements are stored as dictionary keys and their counts are stored as dictionary values. Counts are allowed to be any integer value including zero or negative counts. The Counter class is similar to bags or multisets in other languages.'"
      ],
      "execution_count": 36,
      "outputs": []
    },
    {
      "cell_type": "code",
      "metadata": {
        "colab": {
          "base_uri": "https://localhost:8080/"
        },
        "id": "HmyflkKf36hz",
        "outputId": "ecea54be-77cc-4088-aca3-a42ec01ffab7"
      },
      "source": [
        "text.lower()\n",
        "text.count('are')"
      ],
      "execution_count": 37,
      "outputs": [
        {
          "output_type": "execute_result",
          "data": {
            "text/plain": [
              "3"
            ]
          },
          "metadata": {
            "tags": []
          },
          "execution_count": 37
        }
      ]
    },
    {
      "cell_type": "markdown",
      "metadata": {
        "id": "8rCC_jIa3gTT"
      },
      "source": [
        "### 과제 4"
      ]
    },
    {
      "cell_type": "code",
      "metadata": {
        "id": "izFV807G3nVW"
      },
      "source": [
        "def function(x,y,z):\n",
        "    return (x*z+y*z)/z"
      ],
      "execution_count": 38,
      "outputs": []
    },
    {
      "cell_type": "code",
      "metadata": {
        "id": "KBidujSF4L5v"
      },
      "source": [
        "lambda_function = lambda x,y,z: (x*z+y*z)/z"
      ],
      "execution_count": 39,
      "outputs": []
    },
    {
      "cell_type": "code",
      "metadata": {
        "colab": {
          "base_uri": "https://localhost:8080/"
        },
        "id": "iIgdSHEd43Rh",
        "outputId": "caa55c09-1a71-4b3f-9d6f-6ea7a8609a37"
      },
      "source": [
        "lambda_function(1,2,3)"
      ],
      "execution_count": 40,
      "outputs": [
        {
          "output_type": "execute_result",
          "data": {
            "text/plain": [
              "3.0"
            ]
          },
          "metadata": {
            "tags": []
          },
          "execution_count": 40
        }
      ]
    },
    {
      "cell_type": "markdown",
      "metadata": {
        "id": "z8KGDxAs3gou"
      },
      "source": [
        "### 과제 5"
      ]
    },
    {
      "cell_type": "code",
      "metadata": {
        "id": "_lDBNl4-3nv5"
      },
      "source": [
        "def function(x,y,z):\n",
        "    try:\n",
        "        return (x*z+y*z)/z\n",
        "    except ZeroDivisionError:\n",
        "        print('z는 0이 될수 없습니다')"
      ],
      "execution_count": 41,
      "outputs": []
    },
    {
      "cell_type": "code",
      "metadata": {
        "colab": {
          "base_uri": "https://localhost:8080/"
        },
        "id": "xTw6m3Ff4xt8",
        "outputId": "ff4d2b0f-c1f9-4ce0-d37c-471d2778b98d"
      },
      "source": [
        "function(3,7,0)"
      ],
      "execution_count": 43,
      "outputs": [
        {
          "output_type": "stream",
          "text": [
            "z는 0이 될수 없습니다\n"
          ],
          "name": "stdout"
        }
      ]
    },
    {
      "cell_type": "code",
      "metadata": {
        "id": "4iggY39b4z8C"
      },
      "source": [
        ""
      ],
      "execution_count": null,
      "outputs": []
    }
  ]
}