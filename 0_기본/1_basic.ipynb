{
 "metadata": {
  "language_info": {
   "codemirror_mode": {
    "name": "ipython",
    "version": 3
   },
   "file_extension": ".py",
   "mimetype": "text/x-python",
   "name": "python",
   "nbconvert_exporter": "python",
   "pygments_lexer": "ipython3",
   "version": "3.9.2-final"
  },
  "orig_nbformat": 2,
  "kernelspec": {
   "name": "python3",
   "display_name": "Python 3.9.2 64-bit",
   "metadata": {
    "interpreter": {
     "hash": "63fd5069d213b44bf678585dea6b12cceca9941eaf7f819626cde1f2670de90d"
    }
   }
  }
 },
 "nbformat": 4,
 "nbformat_minor": 2,
 "cells": [
  {
   "source": [
    "# 파이썬 기본 문법\n",
    "점프 투 파이썬 https://wikidocs.net/book/1 <br>\n",
    "파이썬 기본 문법 https://www.youtube.com/watch?v=kWiCuklohdY (나도코딩 파이썬 기본)\n",
    "## 목차\n",
    "숫자형 <br>\n",
    "문자형 <br>\n",
    "참 / 거짓 <br>\n",
    "변수 <br>\n",
    "quiz 1 변수형식 활용 <br>\n",
    "연산자 <br>\n",
    "수식 <br>\n",
    "숫자처리함수 <br>\n",
    "랜덤 함수 <br>\n",
    "퀴즈 2 랜덤 추출 <br>\n",
    "문자열 <br>\n",
    "슬라이싱(필요한 부분만 잘라오기) <br>\n",
    "문자열 처리 함수 <br>\n",
    "문자열 포맷 <br>\n",
    "탈출문자 <br>\n",
    "퀴즈3 변수내 인덱스(주소) 활용 <br>\n",
    "리스트 <br>\n",
    "사전 <br>\n",
    "튜플 <br>\n",
    "집합(set) 중복 안됨, 순서 없음 <br>\n",
    "자료구조의 변경 <br>\n",
    "zip(두 리스트 원소들 짝지어 함치기) <br>\n",
    "퀴즈 4 랜덤 추출, range로 숫자 생성 <br>\n",
    "if 조건문 <br>\n",
    "for 반복문 <br>\n",
    "while 반복문 <br>\n",
    "continue와 break <br>\n",
    "enumerate(인덱스와 함수값 사용) <br>\n",
    "이중 for문 즉시 탈출(고급) <br>\n",
    "for문 활용. 변수에 함수 반복 적용 <br>\n",
    "퀴즈5 for, if <br>\n",
    "함수(입금, 출금 예시) <br>\n",
    "함수(기본값 설정) <br>\n",
    "함수(키워드값: 키워드=으로 정의하면 순서가 안맞아도 호출 가능하다) <br>\n",
    "함수(가변인자) <br>\n",
    "함수(지역변수, 전역변수 / 함수내와 밖은 서로 변수를 공유하지 않음 그러므로 외부의 변수를 사용하려면 'global 변수(전역변수)'를 함수 내부에 정의해 줘야 함) <br>\n",
    "퀴즈 6 함수 <br>\n",
    "표준 입출력(입출력 형식 수정하기, 꾸미기) <br>\n",
    "다양한 출력포멧 <br>\n",
    "파일 입출력(불러오기, 내보내기) <br>\n",
    "pickle(사용하는 데이터를 파일 형태로 저장) <br>\n",
    "with(pickle이나 여러 파일을 읽거나 쓰고 닫음) <br>\n",
    "퀴즈 7 파일 <br>\n",
    "클래스 <br>\n",
    "클래스(__init__)(위에서 만든 Unit 클래스 이용) <br>\n",
    "클래스(멤버 변수: 밖에서도 한 변수에게만 이용과 추가 가능)(위에서 만든 Unit 클래스 이용) <br>\n",
    "클래스(메소드: 클래스에 함수를 넣어 변수에 내장하는 방법) <br>\n",
    "클래스(상속) <br>\n",
    "클래스(다중 상속) <br>\n",
    "클래스(메소드 오버라이딩: 자식 클래스가 부모 클래스 메소드 함수를 가져와서 덧씌워 사용) <br>\n",
    "pass <br>\n",
    "클래스(super: 부모 클래스 변수 상속받는 다른 방법, 다중 상속시 사용 불가) <br>\n",
    "클래스(isinstance: 여러 변수 중 해당 클래스로 만든 변수를 지정 검색), 클래스 종합 정리(클래스를 이용한 스타크래프트) <br>\n",
    "퀴즈8(클래스) <br>\n",
    "예외처리(try, except) <br>\n",
    "예외처리(원하지 않는 상황에서 일부러 에러 발생시키기)(try, raise, except) <br>\n",
    "예외처리(사용자 정의)(class, try, raise, except) <br>\n",
    "예외처리(finally: try구문이 잘 작동 하던지 오류로 except로 빠지던지, except로 정의되지 않은 오류로 프로그램이 작동 안하던지 모든 게 끝난 후 작동하는 구문) <br>\n",
    "퀴즈9(예외mmmmmmm처리) <br>\n",
    "모듈 <br>\n",
    "패키지: 모듈들을 모아둔 폴더 <br>\n",
    "__all__(패키지의 디폴트 모듈 사용 지정) <br>\n",
    "모듈 직접 실행(__name__을 모듈에 넣어서 확인 가능 'thailand.py'모듈 확인) <br>\n",
    "패키지, 모듈 위치 확인(inspect 패키지) <br>\n",
    "pip install(패키지 설치하기, pypi를 이용해 패키지를 검색) <br>\n",
    "내장함수(구글에 'list of python builtins'를 검색해 확인 가능) <br>\n",
    "외장함수(import해서 이용, 구글에서 'list of python modules'를 검색해 확인 가능) <br>\n",
    "퀴즈10(모듈, 패키지)(quiz10.py확인) <br>"
   ],
   "cell_type": "markdown",
   "metadata": {}
  },
  {
   "cell_type": "code",
   "execution_count": 1,
   "metadata": {},
   "outputs": [
    {
     "output_type": "stream",
     "name": "stdout",
     "text": [
      "5\n-10\n3.14\n1000\n8\n16\n12\n"
     ]
    }
   ],
   "source": [
    "## 숫자형\n",
    "print(5)\n",
    "print(-10)\n",
    "print(3.14)\n",
    "print(1000)\n",
    "print(5+3)\n",
    "print(2*8)\n",
    "print(3*(3+1))"
   ]
  },
  {
   "cell_type": "code",
   "execution_count": 2,
   "metadata": {},
   "outputs": [
    {
     "output_type": "stream",
     "name": "stdout",
     "text": [
      "풍선\n나비\nㅋㅋㅋㅋㅋㅋㅋㅋㅋ\nㅋㅋㅋㅋㅋㅋㅋㅋㅋ\n"
     ]
    }
   ],
   "source": [
    "## 문자형\n",
    "print('풍선')\n",
    "print(\"나비\")\n",
    "print('ㅋㅋㅋㅋㅋㅋㅋㅋㅋ')\n",
    "print('ㅋ'*9)"
   ]
  },
  {
   "cell_type": "code",
   "execution_count": 12,
   "metadata": {},
   "outputs": [
    {
     "output_type": "stream",
     "name": "stdout",
     "text": [
      "False\nTrue\nTrue\nFalse\nFalse\nTrue\nTrue\n"
     ]
    }
   ],
   "source": [
    "## 참 / 거짓\n",
    "print(5 > 10)\n",
    "print(5 < 10)\n",
    "print(True)\n",
    "print(False)\n",
    "print(not True)\n",
    "print(not False)\n",
    "print(not (5 > 10))"
   ]
  },
  {
   "cell_type": "code",
   "execution_count": 11,
   "metadata": {},
   "outputs": [
    {
     "output_type": "stream",
     "name": "stdout",
     "text": [
      "우리집 강아지의 이름은 연탄이예요\n연탄이는 4살이며, 산책을 아주 좋아해요\n연탄이는 어른일까요? Ture\n우리집 강아지의 이름은 연탄이예요\n연탄이 는  4 살이며,  낮잠 을 아주 좋아해요\n연탄이는 어른일까요? True\n"
     ]
    }
   ],
   "source": [
    "## 변수\n",
    "animal = '강아지'\n",
    "name = '연탄이'\n",
    "age = 4\n",
    "hobby = '산책'\n",
    "is_adult = age >= 3\n",
    "\n",
    "print('우리집 강아지의 이름은 연탄이예요')\n",
    "print('연탄이는 4살이며, 산책을 아주 좋아해요')\n",
    "print('연탄이는 어른일까요? Ture')\n",
    "\n",
    "print('우리집 ' + animal + '의 이름은 ' + name + '예요')\n",
    "\n",
    "hobby = '낮잠'\n",
    "# print(name + '는 ' + str(age) + '살이며, ' + hobby + '을 아주 좋아해요')\n",
    "print(name, '는 ', age, '살이며, ', hobby, '을 아주 좋아해요') # 이 경우 형식을 str로 변환 안해도 되지만 변수간 띄어쓰기가 생긴다\n",
    "print(name + '는 어른일까요? ' + str(is_adult))"
   ]
  },
  {
   "cell_type": "code",
   "execution_count": 13,
   "metadata": {},
   "outputs": [
    {
     "output_type": "stream",
     "name": "stdout",
     "text": [
      "사당행 열차가 들어오고 있습니다.\n신도림행 열차가 들어오고 있습니다.\n인천공항행 열차가 들어오고 있습니다.\n"
     ]
    }
   ],
   "source": [
    "## quiz 1 변수형식 활용\n",
    "station = '사당'\n",
    "print(station + '행 열차가 들어오고 있습니다.')\n",
    "station = '신도림'\n",
    "print(station + '행 열차가 들어오고 있습니다.')\n",
    "station = '인천공항'\n",
    "print(station + '행 열차가 들어오고 있습니다.')"
   ]
  },
  {
   "cell_type": "code",
   "execution_count": 14,
   "metadata": {},
   "outputs": [
    {
     "output_type": "stream",
     "name": "stdout",
     "text": [
      "2\n1\n10\n2.0\n8\n2\n1\nTrue\nFalse\nFalse\nTrue\nTrue\nTrue\nTrue\nFalse\nTrue\nTrue\nTrue\nTrue\n"
     ]
    }
   ],
   "source": [
    "## 연산자\n",
    "print(1+1)\n",
    "print(3-2)\n",
    "print(5*2)\n",
    "print(6/3)\n",
    "\n",
    "print(2**3) # 2^3 = 8\n",
    "print(2%5) # 나머지 구하기 2\n",
    "print(5//3) # 몫 구하기 1\n",
    "\n",
    "print(10 > 3)\n",
    "print(4 >= 7)\n",
    "print(10 < 3)\n",
    "print(5 <= 5)\n",
    "\n",
    "print(3 == 3) # 앞뒤가 같으면 True\n",
    "print(3 + 4 == 7) # True\n",
    "print(1 != 3) # 앞뒤가 다르면 True\n",
    "print(not(1 != 3)) # False\n",
    "\n",
    "print((3 > 0) and (3 < 5)) # and 교집합 True\n",
    "print((3 > 0) & (3 < 5)) # and 교집합 Ture\n",
    "\n",
    "print((3 > 0) or (3 > 5)) # or 합집합 Ture\n",
    "print((3 > 0) | (3 > 5)) # or 합집합 Ture"
   ]
  },
  {
   "cell_type": "code",
   "execution_count": 16,
   "metadata": {},
   "outputs": [],
   "source": [
    "## 수식\n",
    "number = 2 + 3 * 4 # 14\n",
    "number = number + 2 # 16\n",
    "number += 2 # 18 (number = number + 2)\n",
    "number *= 2 # 36 (number = number * 2)\n",
    "number /= 2 # 18\n",
    "number -= 2 # 16\n",
    "number %= 5 # 1"
   ]
  },
  {
   "cell_type": "code",
   "execution_count": 17,
   "metadata": {},
   "outputs": [
    {
     "output_type": "stream",
     "name": "stdout",
     "text": [
      "5\n16\n12\n5\n3\n4\n4\n4.0\n"
     ]
    }
   ],
   "source": [
    "## 숫자처리함수\n",
    "print(abs(-5)) # 5 절댓값\n",
    "print(pow(4, 2)) # 4^2 = 16\n",
    "print(max(5, 12)) # 12 최댓값\n",
    "print(min(5, 12)) # 5 최솟값\n",
    "print(round(3.14)) # 3 반올림\n",
    "\n",
    "from math import * # 매스 라이브러리\n",
    "print(floor(4.99)) # 4 내림\n",
    "print(ceil(3.14)) # 4 올림\n",
    "print(sqrt(16)) # 4 제곱근"
   ]
  },
  {
   "cell_type": "code",
   "execution_count": 18,
   "metadata": {},
   "outputs": [
    {
     "output_type": "stream",
     "name": "stdout",
     "text": [
      "0.15621508875408652\n9.525748691955618\n7\n10\n6\n14\n"
     ]
    }
   ],
   "source": [
    "## 랜덤 함수\n",
    "from random import *\n",
    "\n",
    "print(random()) # 0.0 ~ 1.0 미만의 임의의 값 생성\n",
    "print(random() * 10) # 0.0 ~ 10.0 미만의 임의의 값 생성\n",
    "print(int(random() * 10)) # 0 ~ 10 미만의 임의의 값 생성\n",
    "print(int(random() * 10 + 1)) # 0 ~ 10 이하의 임의의 값 생성\n",
    "\n",
    "print(randrange(1, 46)) # 1 ~ 46 미만의 임의의 값 생성\n",
    "\n",
    "print(randint(1, 45)) # 1 ~ 45 이하의 임의의 값 생성"
   ]
  },
  {
   "cell_type": "code",
   "execution_count": 19,
   "metadata": {},
   "outputs": [
    {
     "output_type": "stream",
     "name": "stdout",
     "text": [
      "오프라인 스터디 모임 날짜는 매월 18일로 선정되었습니다.\n"
     ]
    }
   ],
   "source": [
    "## 퀴즈 2 랜덤 추출\n",
    "from random import *\n",
    "date = randint(4, 28)\n",
    "print('오프라인 스터디 모임 날짜는 매월 ' + str(date) + '일로 선정되었습니다.')"
   ]
  },
  {
   "cell_type": "code",
   "execution_count": 20,
   "metadata": {},
   "outputs": [
    {
     "output_type": "stream",
     "name": "stdout",
     "text": [
      "나는 소년입니다\n파이썬은 쉬워요\n\n나는 소년이고,\n파이썬은 쉬워요\n\n"
     ]
    }
   ],
   "source": [
    "## 문자열\n",
    "sentence = '나는 소년입니다'\n",
    "print(sentence)\n",
    "sentence2 = \"파이썬은 쉬워요\"\n",
    "print(sentence2)\n",
    "sentence3 = \"\"\"\n",
    "나는 소년이고,\n",
    "파이썬은 쉬워요\n",
    "\"\"\"\n",
    "print(sentence3)"
   ]
  },
  {
   "cell_type": "code",
   "execution_count": 2,
   "metadata": {},
   "outputs": [
    {
     "output_type": "stream",
     "name": "stdout",
     "text": [
      "[1, 2, 3, 4]\n[5, 6, 7, 8]\n성별 : 1\n연 : 99\n월 : 01\n일 : 20\n생년월일 : 990120\n뒤 7자리 : 1234567\n뒤 7자리 (뒤에서부터) :1234567\n"
     ]
    }
   ],
   "source": [
    "## 슬라이싱(필요한 부분만 잘라오기)\n",
    "# End point가 -1이 되는 이유(중요)\n",
    "# end point에서 숫자와 start point의 숫자가 같으면 이어지게 하기 위해서\n",
    "# [2:4]이면 [2][3]가 출력, 두 인덱스를 빼면 출력되는 갯수가 나옴 / [:4] 면 [0][1][2][3] 4개 인덱스가 출력\n",
    "# 아래는 0 ~ 3 까지 4개 출력 후 4 ~ 끝까지 출력\n",
    "number = [1,2,3,4,5,6,7,8]\n",
    "print(number[:4])\n",
    "print(number[4:])\n",
    "\n",
    "jumin = \"990120-1234567\" # 주민번호\n",
    "print(\"성별 : \" + jumin[7]) # 맨앞에 위치는 0번째\n",
    "print(\"연 : \" + jumin[0:2]) # 0 ~ 2 직전위치 까지(0, 1위치)\n",
    "print(\"월 : \" + jumin[2:4])\n",
    "print(\"일 : \" + jumin[4:6])\n",
    "print(\"생년월일 : \" + jumin[:6]) # 처음부터 6직전위치 까지\n",
    "print(\"뒤 7자리 : \" + jumin[7:])\n",
    "print('뒤 7자리 (뒤에서부터) :' + jumin[-7:]) # -들어가면 역방향으로 감"
   ]
  },
  {
   "cell_type": "code",
   "execution_count": 22,
   "metadata": {},
   "outputs": [
    {
     "output_type": "stream",
     "name": "stdout",
     "text": [
      "python is amazing\nPYTHON IS AMAZING\nTrue\n17\nJava is Amazing\n5\n15\n5\n2\n"
     ]
    }
   ],
   "source": [
    "## 문자열 처리 함수\n",
    "python = 'Python is Amazing'\n",
    "print(python.lower()) # 모든문자 소문자\n",
    "print(python.upper()) # 모든문자 대문자\n",
    "print(python[0].isupper()) # 해당위치 대문자 판단\n",
    "print(len(python)) # 길이\n",
    "print(python.replace(\"Python\", \"Java\")) # 변수 변환 해당 글자를 찾아 2번째 문자로 변경\n",
    "\n",
    "index = python.index('n') # 첫번째 해당 변수를 찾아 해당 위치로 변환\n",
    "print(index)\n",
    "index = python.index('n', index + 1) # 첫번째 변수 위치 이후에 해당 변수를 찾아 위치로 변환\n",
    "print(index)\n",
    "\n",
    "print(python.find('n')) # index: 위치로 변환, find: 찾아 위치로 변환\n",
    "print(python.count('n')) # 몇변 들어갔는지 count"
   ]
  },
  {
   "cell_type": "code",
   "execution_count": 23,
   "metadata": {},
   "outputs": [
    {
     "output_type": "stream",
     "name": "stdout",
     "text": [
      "나는 20살입니다.\n나는 파이썬을 좋아해요.\nApple은 A로 시작해요.\n나는 파란색과 빨간색을 좋아해요.\n나는 20살입니다.\n나는 파란색과 빨간색을 좋아해요.\n나는 파란색과 빨간색을 좋아해요.\n나는 빨간색과 파란색을 좋아해요.\n나는 20살이며, 빨간색을 좋아해요.\n나는 20살이며, 빨간색을 좋아해요.\n"
     ]
    }
   ],
   "source": [
    "## 문자열 포맷\n",
    "print('나는 %d살입니다.' % 20)\n",
    "print('나는 %s을 좋아해요.' % '파이썬')\n",
    "print('Apple은 %c로 시작해요.' %'A')\n",
    "print('나는 %s색과 %s색을 좋아해요.' % ('파란', '빨간'))\n",
    "print('나는 {}살입니다.'.format(20))\n",
    "print('나는 {}색과 {}색을 좋아해요.'.format('파란', '빨간'))\n",
    "print('나는 {0}색과 {1}색을 좋아해요.'.format('파란', '빨간'))\n",
    "print('나는 {1}색과 {0}색을 좋아해요.'.format('파란', '빨간'))\n",
    "print('나는 {age}살이며, {color}색을 좋아해요.'.format(age = 20, color = '빨간'))\n",
    "age = 20\n",
    "color = '빨간'\n",
    "print(f'나는 {age}살이며, {color}색을 좋아해요.')"
   ]
  },
  {
   "cell_type": "code",
   "execution_count": 24,
   "metadata": {},
   "outputs": [
    {
     "output_type": "stream",
     "name": "stdout",
     "text": [
      "백문이 불여일견\n 백견이 불여일타\n저는 \"나도코딩\" 입니다.\n저는 \"나도코딩\"입니다.\n Pine\nRedApple\nRed\tApple\n"
     ]
    }
   ],
   "source": [
    "## 탈출문자\n",
    "print('백문이 불여일견\\n 백견이 불여일타') # \\n : 줄바꿈\n",
    "print('저는 \"나도코딩\" 입니다.') # 저는 \"나도코딩\"입니다.\n",
    "print(\"저는 \\\"나도코딩\\\"입니다.\") # \\는 다음 부호를 문장내에 사용 ex) \\\\: 문장내에서 \\\n",
    "print('Red Apple\\r Pine') # \\r: 커서를 맨 앞으로 이동 이때는 \\r이후 앞으로 가서 Pine을 Red 에 덮어씀\n",
    "print('Redd\\bApple') # \\b: 백스페이스(한글자 삭제)\n",
    "print('Red\\tApple') # \\t: 탭"
   ]
  },
  {
   "cell_type": "code",
   "execution_count": 25,
   "metadata": {},
   "outputs": [
    {
     "output_type": "stream",
     "name": "stdout",
     "text": [
      "http://naver.com 의 비밀번호는 nav51! 입니다.\n"
     ]
    }
   ],
   "source": [
    "## 퀴즈3 변수내 인덱스(주소) 활용\n",
    "url = 'http://naver.com'\n",
    "my_str = url.replace(\"http://\", \"\") # 규칙 1\n",
    "my_str = my_str[:my_str.index(\".\")] # 규칙 2\n",
    "password = my_str[:3] + str(len(my_str)) + str(my_str.count('e')) + '!'\n",
    "print('{} 의 비밀번호는 {} 입니다.'.format(url, password))"
   ]
  },
  {
   "cell_type": "code",
   "execution_count": 26,
   "metadata": {},
   "outputs": [
    {
     "output_type": "stream",
     "name": "stdout",
     "text": [
      "['유재석', '조세호', '박명수']\n1\n['유재석', '조세호', '박명수', '하하']\n하하\n['유재석', '정형돈', '조세호', '박명수']\n['유재석', '정형돈', '조세호', '박명수', '유재석']\n2\n[1, 2, 3, 4, 5]\n[5, 4, 3, 2, 1]\n<list_reverseiterator object at 0x0000026634B60BE0>\n[]\n['조세호', 20, True]\n['조세호', 20, True]\n"
     ]
    }
   ],
   "source": [
    "## 리스트\n",
    "subway = ['유재석', '조세호', '박명수']\n",
    "print(subway)\n",
    "print(subway.index('조세호'))\n",
    "\n",
    "subway.append('하하') # 리스트 마지막 위치에 추가\n",
    "print(subway)\n",
    "subway.insert(1, '정형돈') # 리스트 0과 1 사이 위치에 추가\n",
    "\n",
    "print(subway.pop()) # 가장 뒤에 있는 변수를 빼냄\n",
    "print(subway)\n",
    "\n",
    "subway.append('유재석')\n",
    "print(subway)\n",
    "print(subway.count('유재석')) # 변수 갯수 새기\n",
    "\n",
    "num_list = [5,2,3,1,4]\n",
    "num_list.sort() # 리스트내 정렬\n",
    "print(num_list)\n",
    "\n",
    "num_list.reverse() # 리스트내 역정렬\n",
    "print(num_list)\n",
    "\n",
    "num_list1 = reversed(num_list) # 기존 리스트(num_list)에 영향 없이 역정렬\n",
    "print(num_list1)\n",
    "\n",
    "num_list.clear() # 리스트내 지우기\n",
    "print(num_list)\n",
    "\n",
    "mix_list = [\"조세호\", 20, True]\n",
    "print(mix_list)\n",
    "\n",
    "num_list.extend(mix_list) # 두 리스트 합치기\n",
    "print(num_list)"
   ]
  },
  {
   "cell_type": "code",
   "execution_count": 27,
   "metadata": {},
   "outputs": [
    {
     "output_type": "stream",
     "name": "stdout",
     "text": [
      "유재석\n김태호\n유재석\nNone\n사용 가능\nTrue\nFalse\n{'A-3': '유재석', 'B-100': '김태호'}\ndict_keys(['B-100', 'C-20'])\ndict_values(['김태호', '조새호'])\ndict_items([('B-100', '김태호'), ('C-20', '조새호')])\n"
     ]
    }
   ],
   "source": [
    "## 사전\n",
    "cabinet = {3:'유재석', 100:'김태호'} # 중괄호 시 변수에 키를 부여할 수 있음 \n",
    "print(cabinet[3])\n",
    "print(cabinet[100])\n",
    "\n",
    "print(cabinet.get(3))\n",
    "print(cabinet.get(5)) # print(cabinet[5]) 이면 오류가 나지만 .get이용시 none이 출력된다.\n",
    "print(cabinet.get(5, '사용 가능')) # .get을 이용해 키에 해당하는 변수 바로 지정\n",
    "print(3 in cabinet) # True\n",
    "print(4 in cabinet) # False\n",
    "\n",
    "cabinet = {'A-3':'유재석', 'B-100':'김태호'} # 문자도 키로 지정 가능\n",
    "print(cabinet)\n",
    "cabinet['A-3'] = '김종국' # 유재석이 빠지고 김종국이 해당키로 업데이트\n",
    "cabinet['C-20'] = '조새호'\n",
    "del cabinet['A-3'] # 해당 키 삭제\n",
    "print(cabinet.keys()) # 들어있는 키를 확인\n",
    "print(cabinet.values()) # 들어있는 값을 확인\n",
    "print(cabinet.items()) # 키:값 으로 출력\n",
    "cabinet.clear() # 초기화"
   ]
  },
  {
   "cell_type": "code",
   "execution_count": 28,
   "metadata": {},
   "outputs": [
    {
     "output_type": "stream",
     "name": "stdout",
     "text": [
      "돈까스\n치즈까스\n김종국 20 코딩\n"
     ]
    }
   ],
   "source": [
    "## 튜플\n",
    "# 튜플은 리스트와 비슷한데 추가, 삭제 등 과 같은 함수가 되지 않는다.\n",
    "menu = ('돈까스', '치즈까스')\n",
    "print(menu[0])\n",
    "print(menu[1])\n",
    "# menu.add(\"생선까스\") 튜플은 .add로 추가 불가\n",
    "\n",
    "(name, age, hobby) = ('김종국', 20, '코딩') # 한번에 정의 가능\n",
    "print(name, age, hobby)"
   ]
  },
  {
   "cell_type": "code",
   "execution_count": 29,
   "metadata": {},
   "outputs": [
    {
     "output_type": "stream",
     "name": "stdout",
     "text": [
      "{1, 2, 3}\n{'유재석'}\n{'유재석'}\n{'유재석', '박명수', '양세형', '김태호'}\n{'유재석', '박명수', '양세형', '김태호'}\n{'양세형', '김태호'}\n{'양세형', '김태호'}\n"
     ]
    }
   ],
   "source": [
    "## 집합(set) 중복 안됨, 순서 없음\n",
    "my_set = {1,2,3,3,3}\n",
    "print(my_set)\n",
    "\n",
    "java = {'유재석', '김태호', '양세형'}\n",
    "python = set(['유재석', '박명수'])\n",
    "\n",
    "print(java & python) # 교집합\n",
    "print(java.intersection(python)) # 교집합\n",
    "\n",
    "print(java | python) # 합집합\n",
    "print(java.union(python)) # 합집합\n",
    "\n",
    "print(java - python) # 차집합\n",
    "print(java.difference(python)) # 차집합\n",
    "\n",
    "python.add('김태호') # 집합에 원소 추가\n",
    "java.remove('김태호')# 집합에 원소 제거"
   ]
  },
  {
   "cell_type": "code",
   "execution_count": 30,
   "metadata": {},
   "outputs": [
    {
     "output_type": "stream",
     "name": "stdout",
     "text": [
      "{'주스', '우유', '커피'} <class 'set'>\n['주스', '우유', '커피'] <class 'list'>\n('주스', '우유', '커피') <class 'tuple'>\n{'주스', '우유', '커피'} <class 'set'>\n"
     ]
    }
   ],
   "source": [
    "## 자료구조의 변경\n",
    "menu = {'커피', '우유', '주스'}\n",
    "print(menu, type(menu))\n",
    "\n",
    "menu = list(menu)\n",
    "print(menu, type(menu))\n",
    "\n",
    "menu = tuple(menu)\n",
    "print(menu, type(menu))\n",
    "\n",
    "menu = set(menu)\n",
    "print(menu, type(menu))"
   ]
  },
  {
   "cell_type": "code",
   "execution_count": 31,
   "metadata": {},
   "outputs": [
    {
     "output_type": "stream",
     "name": "stdout",
     "text": [
      "[('사과', 'apple'), ('바나나', 'banana'), ('오렌지', 'orange')]\n[('사과', '바나나', '오렌지'), ('apple', 'banana', 'orange')]\n('사과', '바나나', '오렌지')\n('apple', 'banana', 'orange')\n"
     ]
    }
   ],
   "source": [
    "## zip(두 리스트 원소들 짝지어 함치기)\n",
    "kor = ['사과', '바나나', '오렌지']\n",
    "eng = ['apple', 'banana', 'orange']\n",
    "print(list(zip(kor, eng))) # [('사과', 'apple'), ('바나나', 'banana'), ('오렌지', 'orange')] 두 리스트를 각 원소끼리 튜플로 묶어서 합친다\n",
    "\n",
    "mixed = [('사과', 'apple'), ('바나나', 'banana'), ('오렌지', 'orange')]\n",
    "print(list(zip(*mixed))) # 합친걸 한 리스트 내에 두 그룹의 튜플로 분리한다.\n",
    "kor2, eng2 = zip(*mixed) # 분리한 후 바로 각각에 튜플로 집어넣는다\n",
    "print(kor2) # ('사과', '바나나', '오렌지')\n",
    "print(eng2) # ('apple', 'banana', 'orange')"
   ]
  },
  {
   "cell_type": "code",
   "execution_count": 32,
   "metadata": {},
   "outputs": [
    {
     "output_type": "stream",
     "name": "stdout",
     "text": [
      "[1, 2, 3, 4, 5, 6, 7, 8, 9, 10, 11, 12, 13, 14, 15, 16, 17, 18, 19, 20]\n[12, 15, 8, 10, 9, 19, 3, 18, 6, 7, 4, 14, 16, 17, 1, 5, 2, 11, 13, 20]\n-- 당첨자 발표 --\n치킨 당첨자: 4\n커피 당첨자: [9, 8, 6]\n-- 축하합니다 --\n"
     ]
    }
   ],
   "source": [
    "## 퀴즈 4 랜덤 추출, range로 숫자 생성\n",
    "users = range(1, 21) # 1부터 21직전까지 숫자를 생성\n",
    "users = list(users)\n",
    "print(users)\n",
    "\n",
    "from random import *\n",
    "shuffle(users)\n",
    "print(users)\n",
    "\n",
    "winners = sample(users, 4)\n",
    "\n",
    "print('-- 당첨자 발표 --')\n",
    "print('치킨 당첨자: {}'.format(winners[0]))\n",
    "print('커피 당첨자: {}'.format(winners[1:]))\n",
    "print('-- 축하합니다 --')"
   ]
  },
  {
   "cell_type": "code",
   "execution_count": 34,
   "metadata": {},
   "outputs": [
    {
     "output_type": "stream",
     "name": "stdout",
     "text": [
      "우산을 챙기세요\n",
      "너무 더워요. 나가지 마세요\n"
     ]
    }
   ],
   "source": [
    "## if 조건문\n",
    "weather = input('오늘 날씨는 어때요? ')\n",
    "if weather == '비':\n",
    "    print('우산을 챙기세요')\n",
    "elif weather == \"미세먼지\":\n",
    "    print('마스크를 챙기세요')\n",
    "else:\n",
    "    print('준비물 필요 없어요')\n",
    "\n",
    "temp = int(input('기온은 어때요? '))\n",
    "if 30 <= temp:\n",
    "    print('너무 더워요. 나가지 마세요')\n",
    "elif 10 <= temp and temp <30:\n",
    "    print('괜찮은 날씨에요')\n",
    "elif 0 <= temo <10:\n",
    "    print('외투를 챙기세요')\n",
    "else:\n",
    "    print('너무 추워요. 나가지 마세요')"
   ]
  },
  {
   "cell_type": "code",
   "execution_count": 37,
   "metadata": {},
   "outputs": [
    {
     "output_type": "stream",
     "name": "stdout",
     "text": [
      "대기번호 : 1\n대기번호 : 2\n대기번호 : 3\n대기번호 : 4\n대기번호 : 5\n아이언맨, 커피가 준비되었습니다.\n토르, 커피가 준비되었습니다.\n그루트, 커피가 준비되었습니다.\n"
     ]
    }
   ],
   "source": [
    "## for 반복문\n",
    "for wating_no in range(1, 6):\n",
    "    print('대기번호 : {0}'.format(wating_no))\n",
    "\n",
    "starbucks = ['아이언맨', '토르', '그루트']\n",
    "for customer in starbucks:\n",
    "    print('{0}, 커피가 준비되었습니다.'.format(customer))"
   ]
  },
  {
   "cell_type": "code",
   "execution_count": 47,
   "metadata": {},
   "outputs": [
    {
     "output_type": "stream",
     "name": "stdout",
     "text": [
      "토르, 커피가 준비 되었습니다. 5번 남았어요.\n",
      "토르, 커피가 준비 되었습니다. 4번 남았어요.\n",
      "토르, 커피가 준비 되었습니다. 3번 남았어요.\n",
      "토르, 커피가 준비 되었습니다. 2번 남았어요.\n",
      "토르, 커피가 준비 되었습니다. 1번 남았어요.\n",
      "커피는 페기처분 되었습니다.\n",
      "토르, 커피가 준비 되었습니다.\n",
      "커피 맛있게 드세요\n"
     ]
    }
   ],
   "source": [
    "## while 반복문\n",
    "# for에 끝내는 if 조건을 추가하고 싶을 때\n",
    "# 정확히 실행할 횟수를 모를 때\n",
    "customer = '토르'\n",
    "index = 5\n",
    "while index >= 1:\n",
    "    print('{0}, 커피가 준비 되었습니다. {1}번 남았어요.'.format(customer, index))\n",
    "    index -= 1\n",
    "    if index == 0:\n",
    "        print('커피는 페기처분 되었습니다.')\n",
    "        \n",
    "## customer = '아이언맨'\n",
    "## index = 1\n",
    "## while True:\n",
    "##     print('{0}, 커피가 준비 되었습니다. 호출 {1}회.'.format(customer, index))\n",
    "##     index += 1\n",
    "## 무한 루프시 Ctrl + C를 눌러서 강제종료\n",
    "\n",
    "customer = '토르'\n",
    "person = 'Unknown'\n",
    "while person != customer:\n",
    "    print('{0}, 커피가 준비 되었습니다.'.format(customer))\n",
    "    person = input('이름이 어떻게 되세요?')\n",
    "    print('커피 맛있게 드세요')"
   ]
  },
  {
   "cell_type": "code",
   "execution_count": 48,
   "metadata": {},
   "outputs": [
    {
     "output_type": "stream",
     "name": "stdout",
     "text": [
      "1, 책을 읽어봐\n3, 책을 읽어봐\n4, 책을 읽어봐\n6, 책을 읽어봐\n7, 책을 읽어봐\n오늘 수업 여기까지. 8는 교무실로 따라와.\n"
     ]
    }
   ],
   "source": [
    "## continue와 break\n",
    "absent = [2, 5] # 결석\n",
    "no_book = [8] # 책을 안가져옴\n",
    "for student in range(1, 11):\n",
    "    if student in absent:\n",
    "        continue\n",
    "    elif student in no_book:\n",
    "        print('오늘 수업 여기까지. {0}는 교무실로 따라와.'.format(student))\n",
    "        break\n",
    "    print('{0}, 책을 읽어봐'.format(student))"
   ]
  },
  {
   "cell_type": "code",
   "execution_count": 49,
   "metadata": {},
   "outputs": [
    {
     "output_type": "stream",
     "name": "stdout",
     "text": [
      "0 가\n1 나\n2 다\n"
     ]
    }
   ],
   "source": [
    "## enumerate(값의 순서를 이용할 때 사용, 해당 변수의 인덱스 값과 element 값을 앞의 벨류에 넣는다.)\n",
    "lst = ['가', '나', '다']\n",
    "\n",
    "for lst_idx, lst_val in enumerate(lst): # lst안의 인덱스(순서)와 값이 들어감\n",
    "    print(lst_idx, lst_val) # 해당 elemnt의 인덱스값, 값 순서로 출력"
   ]
  },
  {
   "cell_type": "code",
   "execution_count": 52,
   "metadata": {},
   "outputs": [
    {
     "output_type": "stream",
     "name": "stdout",
     "text": [
      "ball: 1\nweapons:  11\nweapons:  22\nweapons:  3\nweapons:  44\nball: 2\nweapons:  11\nweapons:  22\nweapons:  3\nweapons:  44\nball: 3\nweapons:  11\nweapons:  22\nweapons:  3\n공과 무기가 충돌\nball: 4\nweapons:  11\nweapons:  22\nweapons:  3\nweapons:  44\nball: 1\nweapons:  11\nweapons:  22\nweapons:  3\nweapons:  44\nball: 2\nweapons:  11\nweapons:  22\nweapons:  3\nweapons:  44\nball: 3\nweapons:  11\nweapons:  22\nweapons:  3\n공과 무기가 충돌\n바깥 for 문 break\n"
     ]
    }
   ],
   "source": [
    "## 이중 for문 즉시 탈출(고급)\n",
    "balls = [1, 2, 3, 4]\n",
    "weapons = [11, 22, 3, 44]\n",
    "\n",
    "# 이때 break는 안에 있는 for문만 탈출하므로 44만 출력 안하고 탈출 하지만 다시 위의 for문을 실행해 ball 4 와 안의 weapon이 출력된다\n",
    "for ball_idx, ball_val in enumerate(balls):\n",
    "    print('ball:', ball_val)\n",
    "    for weapon_idx, weapon_val in enumerate(weapons):\n",
    "        print('weapons: ', weapon_val)\n",
    "        if ball_val == weapon_val: # 충돌 체크\n",
    "            print('공과 무기가 충돌')\n",
    "            break\n",
    "\n",
    "# for문 즉시 탈출 문제 해결책\n",
    "# 따라서 안의 for에서 즉시 탈출을 명시하고 싶으면 안쪽 for문이 동작하지 않을 때(break) 넘어가는 else를 이용한다(안쪽 for문이 제대로 동작하면 else에 도착할 일이 없이 잘 작동된다). else에는 continue가 있어 else에 오게 되면 이후 break를 받고 전체가 종료된다.\n",
    "for ball_idx, ball_val in enumerate(balls):\n",
    "    print('ball:', ball_val)\n",
    "    for weapon_idx, weapon_val in enumerate(weapons):\n",
    "        print('weapons: ', weapon_val)\n",
    "        if ball_val == weapon_val: # 충돌 체크\n",
    "            print('공과 무기가 충돌')\n",
    "            break\n",
    "    else:\n",
    "        continue # 안쪽 for 문 조건이 맞지 않으면 continue. 바깥 for 문 계속 수행\n",
    "    print('바깥 for 문 break')\n",
    "    break # 안쪽 for 문에서 break를 만나면 여기로 진입 가능. 2중 for문을 한번에 탈출\n",
    "\n",
    "# 구조\n",
    "# for 바깥조건:\n",
    "#     바깥동작\n",
    "#     for 안쪽조건:\n",
    "#         안쪽 동작\n",
    "#         if 충돌조건:\n",
    "#             break\n",
    "#     else:\n",
    "#         continue\n",
    "#     break"
   ]
  },
  {
   "cell_type": "code",
   "execution_count": 53,
   "metadata": {},
   "outputs": [
    {
     "output_type": "stream",
     "name": "stdout",
     "text": [
      "[1, 2, 3, 4, 5]\n[101, 102, 103, 104, 105]\n[8, 4, 5]\n['IRON MAN', 'THOR', 'GROOT']\n"
     ]
    }
   ],
   "source": [
    "## for문 활용. 변수에 함수 반복 적용\n",
    "students = [1,2,3,4,5]\n",
    "print(students)\n",
    "students = [i+100 for i in students]\n",
    "print(students)\n",
    "\n",
    "students = ['Iron man', 'Thor', 'Groot']\n",
    "students = [len(i) for i in students] # 길이로 변환\n",
    "print(students)\n",
    "\n",
    "students = ['Iron man', 'Thor', 'Groot']\n",
    "students = [i.upper()for i in students] # 대문자로 변환\n",
    "print(students)"
   ]
  },
  {
   "cell_type": "code",
   "execution_count": 54,
   "metadata": {},
   "outputs": [
    {
     "output_type": "stream",
     "name": "stdout",
     "text": [
      "[ ] 1번째 손님 (소요시간 : 38분)\n[ ] 2번째 손님 (소요시간 : 48분)\n[O] 3번째 손님 (소요시간 : 14분)\n[ ] 4번째 손님 (소요시간 : 45분)\n[ ] 5번째 손님 (소요시간 : 41분)\n[ ] 6번째 손님 (소요시간 : 16분)\n[O] 7번째 손님 (소요시간 : 15분)\n[ ] 8번째 손님 (소요시간 : 19분)\n[ ] 9번째 손님 (소요시간 : 49분)\n[ ] 10번째 손님 (소요시간 : 20분)\n[ ] 11번째 손님 (소요시간 : 48분)\n[O] 12번째 손님 (소요시간 : 12분)\n[O] 13번째 손님 (소요시간 : 5분)\n[ ] 14번째 손님 (소요시간 : 44분)\n[O] 15번째 손님 (소요시간 : 14분)\n[ ] 16번째 손님 (소요시간 : 24분)\n[ ] 17번째 손님 (소요시간 : 41분)\n[ ] 18번째 손님 (소요시간 : 18분)\n[O] 19번째 손님 (소요시간 : 11분)\n[ ] 20번째 손님 (소요시간 : 35분)\n[O] 21번째 손님 (소요시간 : 6분)\n[ ] 22번째 손님 (소요시간 : 23분)\n[ ] 23번째 손님 (소요시간 : 21분)\n[ ] 24번째 손님 (소요시간 : 20분)\n[ ] 25번째 손님 (소요시간 : 44분)\n[O] 26번째 손님 (소요시간 : 6분)\n[ ] 27번째 손님 (소요시간 : 49분)\n[ ] 28번째 손님 (소요시간 : 38분)\n[ ] 29번째 손님 (소요시간 : 20분)\n[ ] 30번째 손님 (소요시간 : 24분)\n[ ] 31번째 손님 (소요시간 : 17분)\n[ ] 32번째 손님 (소요시간 : 17분)\n[O] 33번째 손님 (소요시간 : 8분)\n[ ] 34번째 손님 (소요시간 : 29분)\n[ ] 35번째 손님 (소요시간 : 38분)\n[ ] 36번째 손님 (소요시간 : 30분)\n[O] 37번째 손님 (소요시간 : 12분)\n[ ] 38번째 손님 (소요시간 : 28분)\n[ ] 39번째 손님 (소요시간 : 41분)\n[O] 40번째 손님 (소요시간 : 14분)\n[ ] 41번째 손님 (소요시간 : 23분)\n[ ] 42번째 손님 (소요시간 : 39분)\n[ ] 43번째 손님 (소요시간 : 34분)\n[ ] 44번째 손님 (소요시간 : 21분)\n[O] 45번째 손님 (소요시간 : 9분)\n[ ] 46번째 손님 (소요시간 : 41분)\n[ ] 47번째 손님 (소요시간 : 26분)\n[ ] 48번째 손님 (소요시간 : 33분)\n[ ] 49번째 손님 (소요시간 : 40분)\n[ ] 50번째 손님 (소요시간 : 40분)\n총 탑승 승객 : 12 분\n"
     ]
    }
   ],
   "source": [
    "## 퀴즈5 for, if\n",
    "from random import *\n",
    "cnt = 0\n",
    "for i in range(1, 51):\n",
    "    time = randrange(5, 51)\n",
    "    if 5 <= time <= 15:\n",
    "        print(\"[O] {0}번째 손님 (소요시간 : {1}분)\".format(i, time))\n",
    "        cnt += 1\n",
    "    else:\n",
    "        print(\"[ ] {0}번째 손님 (소요시간 : {1}분)\".format(i, time))\n",
    "\n",
    "print(\"총 탑승 승객 : {0} 분\".format(cnt))"
   ]
  },
  {
   "cell_type": "code",
   "execution_count": 55,
   "metadata": {},
   "outputs": [
    {
     "output_type": "stream",
     "name": "stdout",
     "text": [
      "새로운 계좌가 생성되었습니다.\n입금이 완료되었습니다. 잔액은 3000 원입니다.\n출금이 완료되었습니다. 잔액은 1000 원입니다.\n잔액이 부족합니다. 수수료 100 원이며, 잔액은 1000 원입니다.\n"
     ]
    }
   ],
   "source": [
    "## 함수(입금, 출금 예시)\n",
    "def open_account():\n",
    "    print('새로운 계좌가 생성되었습니다.')\n",
    "\n",
    "def deposit(balance, money): # 입금\n",
    "    print('입금이 완료되었습니다. 잔액은 {0} 원입니다.'.format(balance + money))\n",
    "    return balance + money\n",
    "\n",
    "def withdraw(balance, money): # 출금\n",
    "    if balance >= money:\n",
    "        print('출금이 완료되었습니다. 잔액은 {0} 원입니다.'.format(balance - money))\n",
    "        return balance - money\n",
    "    else:\n",
    "        print('잔액이 부족합니다. 잔액은 {0} 원입니다.'.format(balance))\n",
    "        return balance\n",
    "\n",
    "def withdraw_night(balance, money): # 저녁에 출금\n",
    "    commission = 100 # 수수료 100원\n",
    "    if balance >= (money + commission):\n",
    "        print('출금이 완료되었습니다. 수수료 {0} 원이며, 잔액은 {1} 원입니다.'.format(commission, balance - money - commission))\n",
    "        return commission, balance - money - commission\n",
    "    else:\n",
    "        print('잔액이 부족합니다. 수수료 {0} 원이며, 잔액은 {1} 원입니다.'.format(commission, balance))\n",
    "        return commission, balance\n",
    "\n",
    "account = open_account()\n",
    "balance = 0\n",
    "balance = deposit(balance, 3000)\n",
    "balance = withdraw(balance, 2000)\n",
    "balance = withdraw_night(balance, 1000)"
   ]
  },
  {
   "cell_type": "code",
   "execution_count": 56,
   "metadata": {},
   "outputs": [
    {
     "output_type": "stream",
     "name": "stdout",
     "text": [
      "이름: 유재석\t나이: 20\t주 사용 언어: 파이썬\n이름: 김태호\t나이: 25\t주 사용 언어: 자바\n이름: 유재석\t나이: 17\t주 사용 언어: 파이썬\n이름: 김태호\t나이: 17\t주 사용 언어: 파이썬\n"
     ]
    }
   ],
   "source": [
    "## 함수(기본값 설정)\n",
    "def profile(name, age, main_lang):\n",
    "    print('이름: {0}\\t나이: {1}\\t주 사용 언어: {2}'\\\n",
    "        .format(name, age, main_lang))\n",
    "\n",
    "profile('유재석', 20, '파이썬')\n",
    "profile('김태호', 25, '자바')\n",
    "\n",
    "# 같은 학교 같은 학년 같은 반 같은 수업 일시 기본값을 지정\n",
    "\n",
    "def profile(name, age = 17, main_lang = '파이썬'): # 전달받지 않을 시 기본값을 사용\n",
    "    print('이름: {0}\\t나이: {1}\\t주 사용 언어: {2}'\\\n",
    "        .format(name, age, main_lang))\n",
    "\n",
    "profile('유재석')\n",
    "profile('김태호')"
   ]
  },
  {
   "cell_type": "code",
   "execution_count": 57,
   "metadata": {},
   "outputs": [
    {
     "output_type": "stream",
     "name": "stdout",
     "text": [
      "유재석 20 파이썬\n김태호 25 자바\n"
     ]
    }
   ],
   "source": [
    "## 함수(키워드값: 키워드=으로 정의하면 순서가 안맞아도 호출 가능하다)\n",
    "def profile(name, age, main_lang):\n",
    "    print(name, age, main_lang)\n",
    "\n",
    "profile(name = '유재석', main_lang = '파이썬', age = 20)\n",
    "profile(main_lang = '자바', age = 25, name = '김태호')"
   ]
  },
  {
   "cell_type": "code",
   "execution_count": 58,
   "metadata": {},
   "outputs": [
    {
     "output_type": "stream",
     "name": "stdout",
     "text": [
      "이름: 유재석\t 나이: 20\t Python Java C C++ C#\n이름: 김태호\t 나이: 25\t Kotlin Swift   \n이름: 유재석\t 나이: 20\t Python Java C C++ C# javaScript \n이름: 김태호\t 나이: 25\t Kotlin Swift \n"
     ]
    }
   ],
   "source": [
    "## 함수(가변인자)\n",
    "def profile(name, age, lang1, lang2, lang3, lang4, lang5):\n",
    "    print('이름: {0}\\t 나이: {1}\\t'.format(name, age), end = \" \") # end = \" \"을 넣으면 다음 출력이 한줄에 같이 나옴\n",
    "    print(lang1, lang2, lang3, lang4, lang5)\n",
    "\n",
    "profile('유재석', 20, 'Python', 'Java', 'C', 'C++', 'C#')\n",
    "profile('김태호', 25, 'Kotlin', 'Swift', '', '', '')\n",
    "\n",
    "def profile(name, age, *language): ## *로 인자의 갯수를 가변해 늘리거나 줄임\n",
    "    print('이름: {0}\\t 나이: {1}\\t'.format(name, age), end = \" \")\n",
    "    for lang in language:\n",
    "        print(lang, end = \" \")\n",
    "    print()\n",
    "\n",
    "profile('유재석', 20, 'Python', 'Java', 'C', 'C++', 'C#', 'javaScript')\n",
    "profile('김태호', 25, 'Kotlin', 'Swift')"
   ]
  },
  {
   "cell_type": "code",
   "execution_count": 60,
   "metadata": {},
   "outputs": [
    {
     "output_type": "stream",
     "name": "stdout",
     "text": [
      "전체 총: 10\n[함수 내] 남은 총: 18\n남은 총: 10\n전체 총: 10\n[함수 내] 남은 총: 8\n남은 총: 8\n[함수 내] 남은 총: 8\n"
     ]
    }
   ],
   "source": [
    "## 함수(지역변수, 전역변수 / 함수내와 밖은 서로 변수를 공유하지 않음 그러므로 외부의 변수를 사용하려면 'global 변수(전역변수)'를 함수 내부에 정의해 줘야 함)\n",
    "gun = 10 # 전역변수\n",
    "def checkpoint(soldiers): # 경계근무\n",
    "    gun = 20 # 지역변수(함수는 내부에 정의를 필요로함)\n",
    "    gun = gun - soldiers\n",
    "    print(\"[함수 내] 남은 총: {0}\".format(gun))\n",
    "\n",
    "print('전체 총: {0}'.format(gun))\n",
    "checkpoint(2) # 2명이 경계 근무 나감\n",
    "print('남은 총: {0}'.format(gun))\n",
    "\n",
    "\n",
    "gun = 10\n",
    "def checkpoint(soldiers):\n",
    "    global gun # 전역공간에 있는 gun 사용(일반적으로 사용 x)\n",
    "    gun = gun - soldiers\n",
    "    print(\"[함수 내] 남은 총: {0}\".format(gun))\n",
    "\n",
    "print('전체 총: {0}'.format(gun))\n",
    "checkpoint(2) # 2명이 경계 근무 나감\n",
    "print('남은 총: {0}'.format(gun))\n",
    "\n",
    "# 가장 좋은 함수 내 변수 처리\n",
    "gun = 10\n",
    "def checkpoint_ret(gun, soldiers): # 값을 받고 리턴함 사용시는 변수에 덮어씌움(전역변수 사용보다 바람직한 방법)\n",
    "    gun = gun - soldiers\n",
    "    print(\"[함수 내] 남은 총: {0}\".format(gun))\n",
    "    return gun\n",
    "\n",
    "gun = checkpoint_ret(gun, 2) # 외부에서 gun 값을 받아 함수에 적용 후 리턴값을 변수에 저장(일반적 방법)"
   ]
  },
  {
   "cell_type": "code",
   "execution_count": 61,
   "metadata": {},
   "outputs": [
    {
     "output_type": "stream",
     "name": "stdout",
     "text": [
      "키 175cm 남자의 표준 체중은 67.38kg 입니다.\n"
     ]
    }
   ],
   "source": [
    "## 퀴즈 6 함수\n",
    "def std_weight(height, gender):\n",
    "    if gender == '남자':\n",
    "        return height * height * 22\n",
    "    else:\n",
    "        return height * height * 21\n",
    "\n",
    "height = 175\n",
    "gender = '남자'\n",
    "weight = round(std_weight(height / 100, gender), 2)\n",
    "print('키 {0}cm {1}의 표준 체중은 {2}kg 입니다.'.format(height, gender, weight))"
   ]
  },
  {
   "cell_type": "code",
   "execution_count": 62,
   "metadata": {},
   "outputs": [
    {
     "output_type": "stream",
     "name": "stderr",
     "text": [
      "Python Java\n",
      "Python, Java\n",
      "Python vs Java? 무엇이 더 재밌을까요\n",
      "Python Java\n",
      "수학      :   0\n",
      "영어      :  50\n",
      "코딩      : 100\n",
      "대기번호: 001\n",
      "대기번호: 002\n",
      "대기번호: 003\n",
      "대기번호: 004\n",
      "대기번호: 005\n",
      "대기번호: 006\n",
      "대기번호: 007\n",
      "대기번호: 008\n",
      "대기번호: 009\n",
      "대기번호: 010\n",
      "대기번호: 011\n",
      "대기번호: 012\n",
      "대기번호: 013\n",
      "대기번호: 014\n",
      "대기번호: 015\n",
      "대기번호: 016\n",
      "대기번호: 017\n",
      "대기번호: 018\n",
      "대기번호: 019\n",
      "대기번호: 020\n",
      "입력하신 값은 21입니다.\n"
     ]
    }
   ],
   "source": [
    "## 표준 입출력(입출력 형식 수정하기, 꾸미기)\n",
    "print('Python', 'Java', sep = \", \") # sep는 seperate로 값 사이에 넣을 값을 정할 수 있음\n",
    "print('Python', 'Java', sep = \" vs \", end = \"? \") # 끝에 들어갈 내용을 정하고 뒤 출력을 같이 한 줄에 출력\n",
    "print('무엇이 더 재밌을까요')\n",
    "\n",
    "import sys\n",
    "print('Python', 'Java', file = sys.stdout) # 표준 출력으로 출력\n",
    "print('Python', 'Java', file = sys.stderr) # 표준 에러로 출력\n",
    "\n",
    "scores = {'수학':0, '영어':50, '코딩':100} # 시험성적\n",
    "for subject, score in scores.items():\n",
    "    # print(subject, score) # 정렬 안한 출력\n",
    "    print(subject.ljust(8), str(score).rjust(4), sep=':') # 문자열을 정렬하는데 내부 숫자 만큼 공간을 확보함 r과 l이 있음\n",
    "\n",
    "# 은행 대기 순번표 같이 앞을 정형화 되게 숫자 자리수를 정하기\n",
    "# 001, 002, 003, ...\n",
    "for num in range(1, 21):\n",
    "    print('대기번호: ' + str(num).zfill(3))\n",
    "\n",
    "answer = input('아무 값이나 입력하세요: ') # 입력받는 변수는 무조건 문자형\n",
    "print('입력하신 값은 ' + answer + '입니다.') # 입력받은 변수가 문자형이므로 숫자를 입력받아도 +로 출력이 됨\n"
   ]
  },
  {
   "cell_type": "code",
   "execution_count": 64,
   "metadata": {},
   "outputs": [
    {
     "output_type": "stream",
     "name": "stdout",
     "text": [
      "       500\n      +500\n      -500\n500_______\n1,000,000,000,000\n+1,000,000,000,000\n-1,000,000,000,000\n-1,000,000,000,000^^^^^^^^^^^^\n1.666667\n1.67\n"
     ]
    }
   ],
   "source": [
    "## 다양한 출력포멧\n",
    "# 빈자리는 빈공간으로 두고, 오른쪽 정렬을 하되, 총 10자리 공간을 확보\n",
    "print('{0: >10}'.format(500))\n",
    "# 양수일 땐 +로 표시, 음수일 땐 -로 표시\n",
    "print('{0: >+10}'.format(500))\n",
    "print('{0: >+10}'.format(-500))\n",
    "# 왼쪽 정렬하고, 빈칸으로 _로 채움\n",
    "print('{0:_<10}'.format(500))\n",
    "# 3자리 마다 콤마를 찍어주기\n",
    "print('{0:,}'.format(1000000000000))\n",
    "# 3자리 마다 콤마를 찍어주고, 부호 구분\n",
    "print('{0:+,}'.format(1000000000000))\n",
    "print('{0:+,}'.format(-1000000000000))\n",
    "# 3자리 마다 콤마를 찍어주고, 부호 구분, 자릿수 확보, 빈자리는 ^로 채워주기\n",
    "print('{0:^<+30,}'.format(-1000000000000))\n",
    "# 소수점 출력\n",
    "print('{0:f}'.format(5/3))\n",
    "# 소수점을 둘째 자리수 까지만 표시\n",
    "print('{0:.2f}'.format(5/3))"
   ]
  },
  {
   "cell_type": "code",
   "execution_count": 73,
   "metadata": {},
   "outputs": [
    {
     "output_type": "stream",
     "name": "stdout",
     "text": [
      "수학: 0\n영어: 50\n과학: 80\n코딩: 100\n수학: 0\n\n영어: 50\n\n과학: 80\n코딩: 100\n수학: 0\n영어: 50\n과학: 80\n코딩: 100수학: 0\n영어: 50\n과학: 80\n코딩: 100"
     ]
    }
   ],
   "source": [
    "## 파일 입출력(불러오기, 내보내기)\n",
    "score_file = open('score.txt', 'w', encoding='utf8') # w는 새파일 쓰기, utf8 한글읽는 형식\n",
    "print('수학: 0', file = score_file)\n",
    "print('영어: 50', file = score_file)\n",
    "score_file.close()\n",
    "\n",
    "score_file = open('score.txt', 'a', encoding='utf8') # a는 append로 덮어쓰기\n",
    "score_file.write('과학: 80')\n",
    "score_file.write('\\n코딩: 100') #.write는 띄어쓰기가 안됨\n",
    "score_file.close()\n",
    "\n",
    "# 읽어오기 1\n",
    "score_file = open('score.txt', 'r', encoding='utf8') # r은 읽어오기\n",
    "print(score_file.read())\n",
    "score_file.close()\n",
    "\n",
    "# 읽어오기 2\n",
    "score_file = open('score.txt', 'r', encoding='utf8')\n",
    "print(score_file.readline()) # 줄별로 읽기, 한 줄 읽고 커서는 다음 줄로 이동\n",
    "print(score_file.readline())\n",
    "print(score_file.readline(), end='')\n",
    "print(score_file.readline())\n",
    "score_file.close()\n",
    "\n",
    "# 읽어오기 3(while이용)\n",
    "score_file = open('score.txt', 'r', encoding='utf8') # 몇줄일 지 모를 때 반복문으로 한줄 씩 모두 읽기\n",
    "while True:\n",
    "    line = score_file.readline()\n",
    "    if not line:\n",
    "        break\n",
    "    print(line, end='')\n",
    "score_file.close()\n",
    "\n",
    "# 읽어오기 4(for로 한줄씩 가져오는걸 반복, 가장 좋은 방법)\n",
    "score_file = open('score.txt', 'r', encoding='utf8')\n",
    "lines = score_file.readlines() # list 형태로 저장\n",
    "for line in lines:\n",
    "    print(line, end = \"\")\n",
    "score_file.close()"
   ]
  },
  {
   "cell_type": "code",
   "execution_count": 74,
   "metadata": {},
   "outputs": [
    {
     "output_type": "stream",
     "name": "stdout",
     "text": [
      "{'이름': '박명수', '나이': 30, '취미': ['축구', '골프', '코딩']}\n{'이름': '박명수', '나이': 30, '취미': ['축구', '골프', '코딩']}\n"
     ]
    }
   ],
   "source": [
    "## pickle(사용하는 데이터를 파일 형태로 저장)\n",
    "import pickle\n",
    "profile_file = open('profile.pickle', 'wb') # wb 쓰기에 pickle데이터 형태인 바이너리 타입지정\n",
    "profile = {'이름':'박명수', \"나이\":30, \"취미\":['축구', \"골프\", \"코딩\"]}\n",
    "print(profile)\n",
    "pickle.dump(profile, profile_file) # 변수에 있는 정보를 file에 저장\n",
    "profile_file.close()\n",
    "\n",
    "profile_file = open('profile.pickle', 'rb') # rb 바이너리 읽어오기\n",
    "profile = pickle.load(profile_file) # file에 있는 정보를 변수에 불러오기\n",
    "print(profile)\n",
    "profile_file.close()"
   ]
  },
  {
   "cell_type": "code",
   "execution_count": 81,
   "metadata": {},
   "outputs": [
    {
     "output_type": "stream",
     "name": "stdout",
     "text": [
      "파이썬을 열심히 공부하고 있어요\n{'이름': '박명수', '나이': 30, '취미': ['축구', '골프', '코딩']}\n"
     ]
    }
   ],
   "source": [
    "## with(pickle이나 여러 파일을 읽거나 쓰고 닫음)\n",
    "with open('study.txt', 'w', encoding = 'utf8') as study_file:\n",
    "    study_file.write('파이썬을 열심히 공부하고 있어요')\n",
    "\n",
    "with open('study.txt', 'r', encoding = 'utf8') as study_file:\n",
    "    print(study_file.read())\n",
    "\n",
    "with open('profile.pickle', 'rb') as profile_file:\n",
    "    print(pickle.load(profile_file))"
   ]
  },
  {
   "cell_type": "code",
   "execution_count": 82,
   "metadata": {},
   "outputs": [],
   "source": [
    "## 퀴즈 7 파일\n",
    "for i in range(1,51):\n",
    "    with open(str(i)+'주차.txt', 'w', encoding='utf8') as tmp_week:\n",
    "        tmp_week.write('- {0} 주차 주간보고 -'.format(i))\n",
    "        tmp_week.write('\\n부서:')\n",
    "        tmp_week.write('\\n이름:')\n",
    "        tmp_week.write('\\n업무 요약:')"
   ]
  },
  {
   "cell_type": "code",
   "execution_count": 83,
   "metadata": {},
   "outputs": [
    {
     "output_type": "stream",
     "name": "stdout",
     "text": [
      "마린 유닛이 생성되었습니다.\n체력 40, 공격력 5\n\n탱크 유닛이 생성되었습니다.\n체력 150, 공격력 35\n\n마린: 1시 방향으로 적군을 공격 합니다. [공격력 5]\n탱크: 1시 방향으로 적군을 공격 합니다. [공격력 35]\n마린 유닛이 생성 되었습니다.\n체력 40, 공격력 5\n마린 유닛이 생성 되었습니다.\n체력 40, 공격력 5\n탱크 유닛이 생성 되었습니다.\n체력 150, 공격력 35\n"
     ]
    }
   ],
   "source": [
    "## 클래스(스타크래프트 유닛이 예시)\n",
    "# 클래스 미사용 시\n",
    "# 마린: 공격 유닛\n",
    "name = '마린'\n",
    "hp = 40\n",
    "damage = 5\n",
    "print('{} 유닛이 생성되었습니다.'.format(name))\n",
    "print('체력 {0}, 공격력 {1}\\n'.format(hp, damage))\n",
    "\n",
    "# 탱크: 공격 유닛\n",
    "tank_name = '탱크'\n",
    "tank_hp = 150\n",
    "tank_damage = 35\n",
    "\n",
    "print('{0} 유닛이 생성되었습니다.'.format(tank_name))\n",
    "print('체력 {0}, 공격력 {1}\\n'.format(tank_hp, tank_damage))\n",
    "\n",
    "def attack(name, location, damage):\n",
    "    print('{0}: {1} 방향으로 적군을 공격 합니다. [공격력 {2}]'.format( \\\n",
    "        name, location, damage))\n",
    "\n",
    "attack(name, '1시', damage)\n",
    "attack(tank_name, '1시', tank_damage)\n",
    "\n",
    "# 같은 종류 유닛을 여럿 생성시 클래스 이용\n",
    "class Unit: # 일반 유닛 클래스(중요)\n",
    "    def __init__(self, name, hp, damage): # 클래스서 self는 클래스위치의 변수를 의미하며, 항상 들어가야함\n",
    "        self.name = name\n",
    "        self.hp = hp\n",
    "        self.damage = damage\n",
    "        print('{0} 유닛이 생성 되었습니다.'.format(self.name))\n",
    "        print('체력 {0}, 공격력 {1}'.format(self.hp, self.damage))\n",
    "\n",
    "marine1 = Unit('마린', 40, 5)\n",
    "marine2 = Unit('마린', 40, 5)\n",
    "tank = Unit('탱크', 150, 35)"
   ]
  },
  {
   "source": [
    "### 클래스(__init__)(위에서 만든 Unit 클래스 이용)\n",
    "__init__은 클래스의 기본 골격 함수이고 __init__으로 정의한 모든 변수를 보내줘야 결과를 내보낸다 <br>\n",
    "둘다 변수가 적어서 오류가 난다. <br>\n",
    "marine1 = Unit('마린') <br>\n",
    "marine2 = Unit('마린', 40) <br>"
   ],
   "cell_type": "markdown",
   "metadata": {}
  },
  {
   "cell_type": "code",
   "execution_count": 86,
   "metadata": {},
   "outputs": [
    {
     "output_type": "stream",
     "name": "stdout",
     "text": [
      "레이스 유닛이 생성 되었습니다.\n체력 80, 공격력 5\n유닛 이름: 레이스, 공격력: 5\n빼앗은 레이스 유닛이 생성 되었습니다.\n체력 80, 공격력 5\n빼앗은 레이스는 현재 클로킹 상태 입니다.\n"
     ]
    }
   ],
   "source": [
    "## 클래스(멤버 변수: 밖에서도 한 변수에게만 이용과 추가 가능)(위에서 만든 Unit 클래스 이용)\n",
    "# self.변수서 변수가 멤버 변수이다.\n",
    "wraith1 = Unit('레이스', 80, 5) # 스타 레이스 유닛 생성\n",
    "print('유닛 이름: {0}, 공격력: {1}'.format(wraith1.name, wraith1.damage)) # 클래스 밖에서도 멤버 변수를 쓸 수 있다.\n",
    "\n",
    "wraith2 = Unit('빼앗은 레이스', 80, 5)\n",
    "wraith2.clocking = True # 이 변수에게 멤버 변수로 밖에서 내용 추가(전체 클래스가 아니라 이 변수에게만 적용)\n",
    "\n",
    "if wraith2.clocking == True:\n",
    "    print('{0}는 현재 클로킹 상태 입니다.'.format(wraith2.name))\n",
    "\n",
    "# if wraith1.clocking == True:\n",
    "#     print('{0}는 현재 클로킹 상태 입니다.'.format(wraith1.name)) # 이 변수에는 해당 멤버 변수가 없어 오류가 난다."
   ]
  },
  {
   "cell_type": "code",
   "execution_count": 87,
   "metadata": {},
   "outputs": [
    {
     "output_type": "stream",
     "name": "stdout",
     "text": [
      "파이어뱃: 5시 방향으로 적군을 공격 합니다. [공격력 16]\n파이어뱃: 25 데미지를 입었습니다.\n파이어뱃: 현재 체력은 25 입니다.\n파이어뱃: 25 데미지를 입었습니다.\n파이어뱃: 현재 체력은 0 입니다.\n파이어뱃: 파괴되었습니다.\n"
     ]
    }
   ],
   "source": [
    "## 클래스(메소드: 클래스에 함수를 넣어 변수에 내장하는 방법)\n",
    "class AttackUnit: # 공격유닛 클래스(중요)\n",
    "    def __init__(self, name, hp, damage):\n",
    "        self.name = name\n",
    "        self.hp = hp\n",
    "        self.damage = damage\n",
    "    \n",
    "    def attack(self, location): # attack이란 함수로 클래스로 만든 변수에 내장되어 변수.attack으로 호출한다\n",
    "        print('{0}: {1} 방향으로 적군을 공격 합니다. [공격력 {2}]'\\\n",
    "            .format(self.name, location, self.damage)) # name과 damage는 클래스 내부의 것을 쓰고 location은 외부에서 받아 사용하므로 self.이 앞에 없다.\n",
    "        \n",
    "    def damaged(self, damage):\n",
    "        print('{0}: {1} 데미지를 입었습니다.'.format(self.name, damage))\n",
    "        self.hp -=damage\n",
    "        print('{0}: 현재 체력은 {1} 입니다.'.format(self.name, self.hp))\n",
    "        if self.hp <= 0:\n",
    "            print('{0}: 파괴되었습니다.'.format(self.name))\n",
    "\n",
    "# 파이어뱃: 공격 유닛\n",
    "firebat1 = AttackUnit('파이어뱃', 50, 16)\n",
    "firebat1.attack('5시') # AttackUnit클래스로 만든 변수에 내장된 attack 함수를 호출\n",
    "\n",
    "# 공격을 2번 받고 파괴된다고 가정\n",
    "firebat1.damaged(25) # AttackUnit클래스로 만든 변수에 내장된 damaged 함수를 호출\n",
    "firebat1.damaged(25)"
   ]
  },
  {
   "cell_type": "code",
   "execution_count": 88,
   "metadata": {},
   "outputs": [],
   "source": [
    "## 클래스(상속)\n",
    "# 공격유닛 클래스에 일반유닛 클래스 내용을 상속\n",
    "class Unit: ## 상속하는 부모 클래스\n",
    "    def __init__(self, name, hp):\n",
    "        self.name = name\n",
    "        self.hp = hp\n",
    "\n",
    "class AttackUnit(Unit): # Unit에서 self.name과 self.hp 골격을 상속받아 만든 AttackUnit 클래스(자식 클래스)\n",
    "    def __init__(self, name, hp, damage):\n",
    "        Unit.__init__(self, name, hp) # Unit의 __init__함수와 변수 상속을 명시 \n",
    "        self.damage = damage"
   ]
  },
  {
   "cell_type": "code",
   "execution_count": 89,
   "metadata": {},
   "outputs": [
    {
     "output_type": "stream",
     "name": "stdout",
     "text": [
      "발키리: 3시 방향으로 날아갑니다. [속도 5]\n"
     ]
    }
   ],
   "source": [
    "## 클래스(다중 상속)\n",
    "# Unit - AttackUnit - FlyableAttackUnit\n",
    "# Flyable - FlyableAttackUnit 둘을 상속\n",
    "class Unit: # 일반 유닛 클래스\n",
    "    def __init__(self, name, hp):\n",
    "        self.name = name\n",
    "        self.hp = hp\n",
    "\n",
    "class AttackUnit(Unit): # 일반유닛 클래스를 상속받은 공격 유닛 클래스\n",
    "    def __init__(self, name, hp, damage):\n",
    "        Unit.__init__(self, name, hp)\n",
    "        self.damage = damage\n",
    "\n",
    "class Flyable: # 공중 유닛 클래스\n",
    "    def __init__(self, flying_speed):\n",
    "        self.fyling_speed = flying_speed\n",
    "    \n",
    "    def fly(self, name, location):\n",
    "        print('{0}: {1} 방향으로 날아갑니다. [속도 {2}]'\\\n",
    "            .format(name, location, self.fyling_speed))\n",
    "\n",
    "class FlyableAttackUnit(AttackUnit, Flyable): # 공격 유닛과 공중 유닛 클래스 둘을 상속받아 합친 공중 공격 유닛 클래스\n",
    "    def __init__(self, name, hp, damage, flying_speed):\n",
    "        AttackUnit.__init__(self, name, hp, damage)\n",
    "        Flyable.__init__(self, flying_speed)\n",
    "\n",
    "# 발키리: 공중 공격유닛\n",
    "valkyrie = FlyableAttackUnit('발키리', 200, 6, 5)\n",
    "valkyrie.fly(valkyrie.name, '3시')"
   ]
  },
  {
   "cell_type": "code",
   "execution_count": 90,
   "metadata": {},
   "outputs": [
    {
     "output_type": "stream",
     "name": "stdout",
     "text": [
      "[지상 유닛 이동]\n벌쳐: 11시 방향으로 이동합니다. [속도 10]\n[공중 유닛 이동]\n배틀크루저: 9시 방향으로 날아갑니다. [속도 3]\n"
     ]
    }
   ],
   "source": [
    "## 클래스(메소드 오버라이딩: 자식 클래스가 부모 클래스 메소드 함수를 가져와서 덧씌워 사용)\n",
    "# 자식 클래스에서 매소드 오버라이딩 시 메소드 이름이 겹치면 부모에게 상속받은 메소가 아니라 오버라이딩(수정) 된 매소드가 호출된다.\n",
    "class Unit: # 일반 유닛 클래스\n",
    "    def __init__(self, name, hp, speed):\n",
    "        self.name = name\n",
    "        self.hp = hp\n",
    "        self.speed = speed\n",
    "\n",
    "    def move(self, location):\n",
    "        print('[지상 유닛 이동]')\n",
    "        print('{0}: {1} 방향으로 이동합니다. [속도 {2}]'\\\n",
    "            .format(self.name, location, self.speed))\n",
    "\n",
    "class AttackUnit(Unit): # 공격 유닛 클래스\n",
    "    def __init__(self, name, hp, speed, damage):\n",
    "        Unit.__init__(self, name, hp, speed)\n",
    "        self.damage = damage\n",
    "\n",
    "class Flyable: # 공중 유닛 클래스\n",
    "    def __init__(self, flying_speed):\n",
    "        self.fyling_speed = flying_speed\n",
    "    \n",
    "    def fly(self, name, location):\n",
    "        print('{0}: {1} 방향으로 날아갑니다. [속도 {2}]'\\\n",
    "            .format(name, location, self.fyling_speed))\n",
    "\n",
    "class FlyableAttackUnit(AttackUnit, Flyable): # 공중 공격 유닛 클래스\n",
    "    def __init__(self, name, hp, damage, flying_speed):\n",
    "        AttackUnit.__init__(self, name, hp, 0, damage) # Flyable에 공중 speed 내용이 있으므로 지상 speed에는 0을 넣어 준다.\n",
    "        Flyable.__init__(self, flying_speed)\n",
    "\n",
    "    def move(self, location): # 부모 클래스에 있는 fly함수 매소드를 자식 클래스에 오버라이딩해서 상속받은 함수 기능에 덧씌움\n",
    "        print('[공중 유닛 이동]')\n",
    "        self.fly(self.name, location)\n",
    "\n",
    "# 벌쳐: 지상 공격 유닛\n",
    "vulture = AttackUnit('벌쳐', 80, 10, 20)\n",
    "\n",
    "# 배틀크루져: 공중 공격 유닛\n",
    "battlecruiser = FlyableAttackUnit('배틀크루저', 500, 25, 3)\n",
    "\n",
    "vulture.move('11시')\n",
    "# battlecruiser.fly(battlecruiser.name, '9시') # FlyableAttackUnit 자식 클래스에 Flyable 부모 클래스의 메소드를 오버라이딩 하지 않았다면 fly를 계속 사용해 지상유닛 move와 햇갈린다.\n",
    "battlecruiser.move('9시') # 메소드 오버라이딩으로 fly를 move로 변경하고 메시지 출력도 추가 되었다."
   ]
  },
  {
   "cell_type": "code",
   "execution_count": 91,
   "metadata": {},
   "outputs": [
    {
     "output_type": "stream",
     "name": "stdout",
     "text": [
      "[알림] 새로운 게임을 시작합니다.\n[알림] 새로운 게임을 시작합니다.\n"
     ]
    }
   ],
   "source": [
    "## pass\n",
    "def game_start():\n",
    "    print('[알림] 새로운 게임을 시작합니다.')\n",
    "\n",
    "def game_over():\n",
    "    pass # 해당 내용을 넘어감\n",
    "\n",
    "game_start()\n",
    "game_over()\n",
    "game_start()"
   ]
  },
  {
   "cell_type": "code",
   "execution_count": 92,
   "metadata": {},
   "outputs": [
    {
     "output_type": "stream",
     "name": "stdout",
     "text": [
      "Unit 생성자\n"
     ]
    }
   ],
   "source": [
    "## 클래스(super: 부모 클래스 변수 상속받는 다른 방법, 다중 상속시 사용 불가)\n",
    "class Unit: # 일반 유닛 클래스\n",
    "    def __init__(self, name, hp, speed):\n",
    "        self.name = name\n",
    "        self.hp = hp\n",
    "        self.speed = speed\n",
    "\n",
    "class BuildingUnit(Unit): # 건물 유닛 클래스\n",
    "    def __init__(self, name, hp, location):\n",
    "        # Unit.__init__(self, name, hp, 0) 보통 상속받을 때 초기화\n",
    "        super().__init__(name, hp, 0) # super로 초기화 시 상속 내용서 self를 초기화 안함\n",
    "        self.location = location\n",
    "\n",
    "# 다중 상속 시 super는 맨처음 상속받는 클래스만 상속\n",
    "class Unit:\n",
    "    def __init__(self):\n",
    "        print('Unit 생성자')\n",
    "\n",
    "class Flyable:\n",
    "    def __init__(self):\n",
    "        print('Flyable 생성자')\n",
    "\n",
    "class FlyableUnit(Unit, Flyable): # 처음 부모 클래스 Unit 만 상속\n",
    "    def __init__(self):\n",
    "        super().__init__()\n",
    "        # Unit.__init__(self)\n",
    "        # Flyable.__init__(self)\n",
    "\n",
    "dropship = FlyableUnit()"
   ]
  },
  {
   "cell_type": "code",
   "execution_count": 93,
   "metadata": {},
   "outputs": [
    {
     "output_type": "stream",
     "name": "stdout",
     "text": [
      "[알림] 새로운 게임을 시작합니다.\n마린 유닛이 생성되었습니다.\n마린 유닛이 생성되었습니다.\n마린 유닛이 생성되었습니다.\n탱크 유닛이 생성되었습니다.\n탱크 유닛이 생성되었습니다.\n레이스 유닛이 생성되었습니다.\n마린: 1시 방향으로 이동합니다. [속도 1]\n마린: 1시 방향으로 이동합니다. [속도 1]\n마린: 1시 방향으로 이동합니다. [속도 1]\n탱크: 1시 방향으로 이동합니다. [속도 1]\n탱크: 1시 방향으로 이동합니다. [속도 1]\n레이스: 1시 방향으로 날아갑니다. [속도 5]\n[알림] 탱크 시즈 모드 개발이 완료되었습니다.\n마린: 스팀팩을 사용합니다. (HP 10 감소)\n마린: 스팀팩을 사용합니다. (HP 10 감소)\n마린: 스팀팩을 사용합니다. (HP 10 감소)\n탱크: 시즈모드로 전환합니다.\n탱크: 시즈모드로 전환합니다.\n레이스: 클로킹 모드 설정합니다.\n마린: 1시 방향으로 적군을 공격 합니다. [공격력 5]\n마린: 1시 방향으로 적군을 공격 합니다. [공격력 5]\n마린: 1시 방향으로 적군을 공격 합니다. [공격력 5]\n탱크: 1시 방향으로 적군을 공격 합니다. [공격력 70]\n탱크: 1시 방향으로 적군을 공격 합니다. [공격력 70]\n레이스: 1시 방향으로 적군을 공격 합니다. [공격력 20]\n마린: 6 데미지를 입었습니다.\n마린: 현재 체력은 24 입니다.\n마린: 8 데미지를 입었습니다.\n마린: 현재 체력은 22 입니다.\n마린: 15 데미지를 입었습니다.\n마린: 현재 체력은 15 입니다.\n탱크: 7 데미지를 입었습니다.\n탱크: 현재 체력은 143 입니다.\n탱크: 16 데미지를 입었습니다.\n탱크: 현재 체력은 134 입니다.\n레이스: 14 데미지를 입었습니다.\n레이스: 현재 체력은 66 입니다.\nPlayer: gg\n[Player] 님이 게임에서 퇴장하셨습니다.\n"
     ]
    }
   ],
   "source": [
    "## 클래스(isinstance: 여러 변수 중 해당 클래스로 만든 변수를 지정 검색), 클래스 종합 정리(클래스를 이용한 스타크래프트)\n",
    "# 게임에 필요한 클래스 정의\n",
    "from random import *\n",
    "\n",
    "class Unit: # 일반 유닛 클래스\n",
    "    def __init__(self, name, hp, speed):\n",
    "        self.name = name\n",
    "        self.hp = hp\n",
    "        self.speed = speed\n",
    "        print('{0} 유닛이 생성되었습니다.'.format(name))\n",
    "\n",
    "    def move(self, location):\n",
    "        print('{0}: {1} 방향으로 이동합니다. [속도 {2}]'\\\n",
    "            .format(self.name, location, self.speed))\n",
    "    \n",
    "    def damaged(self, damage):\n",
    "        print('{0}: {1} 데미지를 입었습니다.'.format(self.name, damage))\n",
    "        self.hp -=damage\n",
    "        print('{0}: 현재 체력은 {1} 입니다.'.format(self.name, self.hp))\n",
    "        if self.hp <= 0:\n",
    "            print('{0}: 파괴되었습니다.'.format(self.name))\n",
    "\n",
    "class AttackUnit(Unit): # 공격 유닛 클래스\n",
    "    def __init__(self, name, hp, speed, damage):\n",
    "        Unit.__init__(self, name, hp, speed)\n",
    "        self.damage = damage\n",
    "    \n",
    "    def attack(self, location):\n",
    "        print('{0}: {1} 방향으로 적군을 공격 합니다. [공격력 {2}]'\\\n",
    "            .format(self.name, location, self.damage))\n",
    "\n",
    "class Marine(AttackUnit): # 공격 유닛 마린 클래스\n",
    "    def __init__(self): # 상속 받지만 변수는 지정해 주므로 self만 정의\n",
    "        AttackUnit.__init__(self, '마린', 40, 1, 5)\n",
    "    \n",
    "    def stimpack(self): # 유닛 기능 스팀팩\n",
    "        if self.hp > 10:\n",
    "            self.hp -= 10\n",
    "            print('{0}: 스팀팩을 사용합니다. (HP 10 감소)'.format(self.name))\n",
    "        else:\n",
    "            print('{0}: 체력이 부족하여 스팀팩을 사용하지 않습니다.'.format(self.name))\n",
    "\n",
    "class Tank(AttackUnit): # 공격 유닛 탱크 클래스\n",
    "    seize_developed = False # 유닛 기능 시즈모드 개발여부(False가 디폴트)\n",
    "\n",
    "    def __init__(self):\n",
    "        AttackUnit.__init__(self, '탱크', 150, 1, 35)\n",
    "        self.seize_mode = False # 밑에서 시즈모드 변수를 써야 하므로 정의\n",
    "    \n",
    "    def set_seize_mode(self): # 유닛 기능 시즈모드\n",
    "        if Tank.seize_developed == False: # 시즈모드 미개발 일때\n",
    "            return\n",
    "\n",
    "        if self.seize_mode == False: # 시즈모드가 아닐때\n",
    "            print('{0}: 시즈모드로 전환합니다.'.format(self.name))\n",
    "            self.damage *= 2\n",
    "            self.seize_mode = True\n",
    "        \n",
    "        else:\n",
    "            print('{0}: 시즈모드를 해제합니다.'.format(self.name))\n",
    "            self.damage /= 2\n",
    "            self.seize_mode = False\n",
    "\n",
    "class Flyable: # 공중 유닛 클래스\n",
    "    def __init__(self, flying_speed):\n",
    "        self.fyling_speed = flying_speed\n",
    "    \n",
    "    def fly(self, name, location):\n",
    "        print('{0}: {1} 방향으로 날아갑니다. [속도 {2}]'\\\n",
    "            .format(name, location, self.fyling_speed))\n",
    "\n",
    "class FlyableAttackUnit(AttackUnit, Flyable): # 공중 공격 유닛 클래스\n",
    "    def __init__(self, name, hp, damage, flying_speed):\n",
    "        AttackUnit.__init__(self, name, hp, 0, damage)\n",
    "        Flyable.__init__(self, flying_speed)\n",
    "\n",
    "    def move(self, location):\n",
    "        self.fly(self.name, location)\n",
    "\n",
    "class Wraith(FlyableAttackUnit): # 공중 공격 유닛 레이스 클래스\n",
    "    def __init__(self):\n",
    "        FlyableAttackUnit.__init__(self, '레이스', 80, 20, 5)\n",
    "        self.clocked = False # 유닛 기능 클로킹\n",
    "    \n",
    "    def clocking(self): # 유닛 기능 클로킹\n",
    "        if self.clocked == True:\n",
    "            print('{0}: 클로킹 모드 해제합니다.'.format(self.name))\n",
    "            self.clocked = False\n",
    "        else:\n",
    "            print('{0}: 클로킹 모드 설정합니다.'.format(self.name))\n",
    "            self.clocked = True\n",
    "\n",
    "def game_start():\n",
    "    print('[알림] 새로운 게임을 시작합니다.')\n",
    "\n",
    "def game_over():\n",
    "    print('Player: gg')\n",
    "    print('[Player] 님이 게임에서 퇴장하셨습니다.')\n",
    "\n",
    "# 실제 게임 진행\n",
    "game_start() # 게임 시작\n",
    "\n",
    "m1 = Marine() # 마린 3기 생성\n",
    "m2 = Marine()\n",
    "m3 = Marine()\n",
    "\n",
    "t1 = Tank() # 탱크 2기 생성\n",
    "t2 = Tank()\n",
    "\n",
    "w1 = Wraith() # 레이스 1기 생성\n",
    "\n",
    "attack_units = [] # 유닛 일괄 관리(리스트 생성)\n",
    "attack_units.append(m1)\n",
    "attack_units.append(m2)\n",
    "attack_units.append(m3)\n",
    "attack_units.append(t1)\n",
    "attack_units.append(t2)\n",
    "attack_units.append(w1)\n",
    "\n",
    "for unit in attack_units: # 전 유닛 이동\n",
    "    unit.move('1시')\n",
    "\n",
    "Tank.seize_developed = True # 탱크 시즈모드 개발\n",
    "print('[알림] 탱크 시즈 모드 개발이 완료되었습니다.')\n",
    "\n",
    "for unit in attack_units: # 공격 준비(마린: 스팀팩, 탱크: 시즈모드, 레이스: 클로킹)\n",
    "    if isinstance(unit, Marine): # 여러 변수 중 해당 클래스로 만든 변수를 지정 검색\n",
    "        unit.stimpack()\n",
    "    elif isinstance(unit, Tank):\n",
    "        unit.set_seize_mode()\n",
    "    elif isinstance(unit, Wraith):\n",
    "        unit.clocking()\n",
    "\n",
    "for unit in attack_units: # 전 유닛 공격\n",
    "    unit.attack('1시')\n",
    "\n",
    "for unit in attack_units: # 공격 중 유닛 피해\n",
    "    unit.damaged(randint(5, 20)) # 공격은 랜덤으로 받음 (5 ~ 20)\n",
    "\n",
    "game_over() # 게임 종료"
   ]
  },
  {
   "cell_type": "code",
   "execution_count": 94,
   "metadata": {},
   "outputs": [
    {
     "output_type": "stream",
     "name": "stdout",
     "text": [
      "총 3대의 매물이 있습니다.\n강남 아파트 매매 10억 2010년\n마포 오피스텔 전세 5억 2007년\n송파 빌라 월세 500/50 2000년\n"
     ]
    }
   ],
   "source": [
    "## 퀴즈8 (클래스)\n",
    "class House:\n",
    "    def __init__(self, location, house_type, deal_type, price, completion_year):\n",
    "        self.location = location\n",
    "        self.house_type = house_type\n",
    "        self.deal_type = deal_type\n",
    "        self.price = price\n",
    "        self.completion_year = completion_year\n",
    "    \n",
    "    def show_detail(self):\n",
    "        print(self.location, self.house_type, self.deal_type, self.price, self.completion_year)\n",
    "    \n",
    "houses = []\n",
    "house1 = House('강남', '아파트', '매매', '10억', '2010년')\n",
    "house2 = House('마포', '오피스텔', '전세', '5억', '2007년')\n",
    "house3 = House('송파', '빌라', '월세', '500/50', '2000년')\n",
    "\n",
    "houses.append(house1)\n",
    "houses.append(house2)\n",
    "houses.append(house3)\n",
    "\n",
    "print('총 {0}대의 매물이 있습니다.'.format(len(houses)))\n",
    "for house in houses:\n",
    "    house.show_detail()"
   ]
  },
  {
   "cell_type": "code",
   "execution_count": 98,
   "metadata": {},
   "outputs": [
    {
     "output_type": "stream",
     "name": "stdout",
     "text": [
      "나누기 전용 계산기입니다.\n",
      "30 / 5 = 6\n"
     ]
    }
   ],
   "source": [
    "## 예외처리(try, except)\n",
    "try:\n",
    "    print('나누기 전용 계산기입니다.')\n",
    "    nums = []\n",
    "    nums.append(int(input('첫 번째 숫자를 입력하세요: ')))\n",
    "    nums.append(int(input('두 번째 숫자를 입력하세요: ')))\n",
    "    nums.append(int(nums[0] / nums[1]))\n",
    "    print('{0} / {1} = {2}'.format(nums[0], nums[1], nums[2]))\n",
    "except ValueError: # 변수형식 에러가 발생하면 아래 값을 실행한다.\n",
    "    print('에러! 잘못된 값을 입력하였습니다.')\n",
    "except ZeroDivisionError as err: # 0으로 나누면 아래 값을 실행\n",
    "    print(err) # 위 에러 알람을 프린트\n",
    "except:\n",
    "    print('알 수 없는 에러가 발생하였습니다.')"
   ]
  },
  {
   "cell_type": "code",
   "execution_count": 99,
   "metadata": {},
   "outputs": [
    {
     "output_type": "stream",
     "name": "stdout",
     "text": [
      "한 자리 숫자 나누기 전용 계산기입니다.\n",
      "6 / 5 = 1\n"
     ]
    }
   ],
   "source": [
    "## 원하지 않는 상황에서 일부러 에러 발생시키기(try, raise, except)\n",
    "try:\n",
    "    print('한 자리 숫자 나누기 전용 계산기입니다.')\n",
    "    num1 = int(input('첫 번째 숫자를 입력하세요:'))\n",
    "    num2 = int(input('두 번째 숫자를 입력하세요:'))\n",
    "    if num1 >= 10 or num2 >= 10:\n",
    "        raise ValueError # raise를 이용해서 벨류 에러로 넘긴다.\n",
    "    print('{0} / {1} = {2}'.format(num1, num2, int(num1 / num2)))\n",
    "except ValueError:\n",
    "    print('잘못된 값을 입력하였습니다. 한 자리 숫자만 입력하세요.')"
   ]
  },
  {
   "cell_type": "code",
   "execution_count": 100,
   "metadata": {},
   "outputs": [
    {
     "output_type": "stream",
     "name": "stdout",
     "text": [
      "한 자리 숫자 나누기 전용 계산기입니다.\n",
      "6 / 5 = 1\n"
     ]
    }
   ],
   "source": [
    "## 예외처리(사용자 정의)(class, try, raise, except)\n",
    "class BigNumberError(Exception):\n",
    "    def __init__(self, msg):\n",
    "        self.msg = msg\n",
    "\n",
    "    def __str__(self):\n",
    "        return self.msg\n",
    "\n",
    "try:\n",
    "    print('한 자리 숫자 나누기 전용 계산기입니다.')\n",
    "    num1 = int(input('첫 번째 숫자를 입력하세요:'))\n",
    "    num2 = int(input('두 번째 숫자를 입력하세요:'))\n",
    "    if num1 >= 10 or num2 >= 10:\n",
    "        raise BigNumberError('입력값: {0}, {1}'.format(num1, num2))\n",
    "    print('{0} / {1} = {2}'.format(num1, num2, int(num1 / num2)))\n",
    "except BigNumberError as err:\n",
    "    print('에러가 발생하였습니다. 한 자리 숫자만 입력하세요.')\n",
    "    print(err)"
   ]
  },
  {
   "cell_type": "code",
   "execution_count": 101,
   "metadata": {},
   "outputs": [
    {
     "output_type": "stream",
     "name": "stdout",
     "text": [
      "한 자리 숫자 나누기 전용 계산기입니다.\n",
      "2 / 4 = 0\n",
      "계산기를 이용해 주셔서 감사합니다.\n"
     ]
    }
   ],
   "source": [
    "## 예외처리(finally: try구문이 잘 작동 하던지 오류로 except로 빠지던지, except로 정의되지 않은 오류로 프로그램이 작동 안하던지 모든 게 끝난 후 작동하는 구문)\n",
    "class BigNumberError(Exception): # Exception을 상속받아 에러 코드로 만든다.\n",
    "    def __init__(self, msg):\n",
    "        self.msg = msg\n",
    "\n",
    "    def __str__(self):\n",
    "        return self.msg\n",
    "\n",
    "try:\n",
    "    print('한 자리 숫자 나누기 전용 계산기입니다.')\n",
    "    num1 = int(input('첫 번째 숫자를 입력하세요:'))\n",
    "    num2 = int(input('두 번째 숫자를 입력하세요:'))\n",
    "    if num1 >= 10 or num2 >= 10:\n",
    "        raise BigNumberError('입력값: {0}, {1}'.format(num1, num2))\n",
    "    print('{0} / {1} = {2}'.format(num1, num2, int(num1 / num2)))\n",
    "except BigNumberError as err:\n",
    "    print('에러가 발생하였습니다. 한 자리 숫자만 입력하세요.')\n",
    "    print(err)\n",
    "finally:\n",
    "    print('계산기를 이용해 주셔서 감사합니다.')"
   ]
  },
  {
   "cell_type": "code",
   "execution_count": 103,
   "metadata": {},
   "outputs": [
    {
     "output_type": "stream",
     "name": "stdout",
     "text": [
      "[남은 치킨: 10]\n",
      "[대기번호 1] 5 마리 주문이 완료되었습니다.\n",
      "[남은 치킨: 5]\n",
      "[대기번호 2] 4 마리 주문이 완료되었습니다.\n",
      "[남은 치킨: 1]\n",
      "[대기번호 3] 1 마리 주문이 완료되었습니다.\n",
      "재고가 소진되어 더 이상 주문을 받지 않습니다.\n"
     ]
    }
   ],
   "source": [
    "## 퀴즈9(예외처리)\n",
    "class SoldOutError(Exception): # Exception을 상속받아 에러 코드로 만든다.\n",
    "    pass\n",
    "\n",
    "chicken = 10\n",
    "waiting = 1\n",
    "while(True):\n",
    "    try:\n",
    "        print('[남은 치킨: {0}]'.format(chicken))\n",
    "        order = int(input('치킨 몇 마리 주문하시겠습니까?'))\n",
    "        if order > chicken:\n",
    "            print('재료가 부족합니다.')\n",
    "        elif order <= 0:\n",
    "            raise ValueError\n",
    "        else:\n",
    "            print('[대기번호 {0}] {1} 마리 주문이 완료되었습니다.'.format(waiting, order))\n",
    "            waiting += 1\n",
    "            chicken -= order\n",
    "\n",
    "        if chicken == 0:\n",
    "            raise SoldOutError\n",
    "    except ValueError:\n",
    "        print('잘못된 값을 입력하였습니다.')\n",
    "    except SoldOutError:\n",
    "        print('재고가 소진되어 더 이상 주문을 받지 않습니다.')\n",
    "        break"
   ]
  },
  {
   "cell_type": "code",
   "execution_count": 104,
   "metadata": {},
   "outputs": [
    {
     "output_type": "stream",
     "name": "stdout",
     "text": [
      "3명 가격은 30000원 입니다.\n4명 조조 할인 가격은 24000원 입니다.\n5명 군인 할인 가격은 20000원 입니다.\n3명 가격은 30000원 입니다.\n4명 조조 할인 가격은 24000원 입니다.\n5명 군인 할인 가격은 20000원 입니다.\n3명 가격은 30000원 입니다.\n4명 조조 할인 가격은 24000원 입니다.\n5명 군인 할인 가격은 20000원 입니다.\n3명 가격은 30000원 입니다.\n4명 조조 할인 가격은 24000원 입니다.\n5명 군인 할인 가격은 20000원 입니다.\n5명 군인 할인 가격은 20000원 입니다.\n"
     ]
    }
   ],
   "source": [
    "## 모듈\n",
    "# 모듈은 같은 워크스페이스에 있어야 사용 가능\n",
    "import theater_module_ex # 저장된 파일을 모듈로 호출\n",
    "theater_module_ex.price(3) # 3명이서 영화 보러 갔을 때 가격\n",
    "theater_module_ex.price_morning(4) # 4 명이서 조조 할인 영화 보러 갔을 때\n",
    "theater_module_ex.price_soldier(5) # 5 명이서 군인 할인 영화 보러 갔을 때\n",
    "\n",
    "import theater_module_ex as mv # 모듈을 mv 이름으로 호출\n",
    "mv.price(3)\n",
    "mv.price_morning(4)\n",
    "mv.price_soldier(5)\n",
    "\n",
    "from theater_module_ex import * # 모듈을 파일에 적용해 그대로 사용\n",
    "price(3) # from import로 위치가 필요 없음\n",
    "price_morning(4)\n",
    "price_soldier(5)\n",
    "\n",
    "from theater_module_ex import price, price_morning # 모듈에서 내가 원하는 함수만 호출\n",
    "price(3)\n",
    "price_morning(4)\n",
    "price_soldier(5) # 사용 불가\n",
    "\n",
    "from theater_module_ex import price_soldier as price # 모듈 내 함수를 price 이름으로 호출\n",
    "price(5) # 이 price는 price_soldier이다."
   ]
  },
  {
   "cell_type": "code",
   "execution_count": 105,
   "metadata": {},
   "outputs": [
    {
     "output_type": "stream",
     "name": "stdout",
     "text": [
      "Thailand 외부에서 모듈 호출\n[태국 패키지 3박 5일] 방콕, 파타야 여행(야시장 투어) 50만원\n[태국 패키지 3박 5일] 방콕, 파타야 여행(야시장 투어) 50만원\n[베트남 패키지 3박 5일] 다낭 효도 여행 60만원\n"
     ]
    }
   ],
   "source": [
    "## 패키지: 모듈들을 모아둔 폴더\n",
    "import travel_package_ex.thailand # import에서는 모듈과 패키지명만 들어올 수 있다.\n",
    "trip_to = travel_package_ex.thailand.ThailandPackage()\n",
    "trip_to.detail()\n",
    "\n",
    "# import travel_package_ex.thailand.ThailandPackage # 모듈 내 함수나 클래스를 바로 써서 오류가 난다\n",
    "\n",
    "from travel_package_ex.thailand import ThailandPackage # from import는 모듈 내 클래스, 함수를 바로 호출 가능\n",
    "trip_to = ThailandPackage()\n",
    "trip_to.detail()\n",
    "\n",
    "from travel_package_ex import vietnam\n",
    "trip_to = vietnam.VietnamPackage()\n",
    "trip_to.detail()"
   ]
  },
  {
   "cell_type": "code",
   "execution_count": 106,
   "metadata": {},
   "outputs": [
    {
     "output_type": "stream",
     "name": "stdout",
     "text": [
      "[태국 패키지 3박 5일] 방콕, 파타야 여행(야시장 투어) 50만원\n[베트남 패키지 3박 5일] 다낭 효도 여행 60만원\n"
     ]
    }
   ],
   "source": [
    "## __all__(패키지의 디폴트 모듈 사용 지정)\n",
    "# 패키지가 디폴트 모듈 지정을 안해두면 'from 패키지 import *'은 어떤 모듈을 가져올 지 모르기 때문에 아무것도 안가져 온다.\n",
    "# 대신 패키지 내 __init__파일이 __all__ = ['모듈', '모듈', ...]을 지정하면 그 모듈이 호출됨\n",
    "# travel_package_ex\\__init__.py의 내용확인\n",
    "from travel_package_ex import *\n",
    "trip_to = thailand.ThailandPackage()\n",
    "trip_to.detail()\n",
    "\n",
    "trip_to = vietnam.VietnamPackage() # 이건 패키지가 경로 지정을 안해서 호출이 안됨\n",
    "trip_to.detail()"
   ]
  },
  {
   "cell_type": "code",
   "execution_count": 107,
   "metadata": {},
   "outputs": [
    {
     "output_type": "stream",
     "name": "stdout",
     "text": [
      "[태국 패키지 3박 5일] 방콕, 파타야 여행(야시장 투어) 50만원\n"
     ]
    }
   ],
   "source": [
    "## 모듈 직접 실행(__name__을 모듈에 넣어서 확인 가능 'thailand.py'모듈 확인)\n",
    "from travel_package_ex import *\n",
    "trip_to = thailand.ThailandPackage()\n",
    "trip_to.detail()"
   ]
  },
  {
   "cell_type": "code",
   "execution_count": 108,
   "metadata": {},
   "outputs": [
    {
     "output_type": "stream",
     "name": "stdout",
     "text": [
      "C:\\Python39\\lib\\random.py\nc:\\Users\\KJH\\OneDrive - 인하대학교\\0 정리\\1 깃허브 업로드\\Python_basic\\0_기본\\travel_package_ex\\thailand.py\n"
     ]
    }
   ],
   "source": [
    "## 패키지, 모듈 위치 확인(inspect 패키지)\n",
    "import inspect\n",
    "import random\n",
    "from travel_package_ex import *\n",
    "print(inspect.getfile(random))\n",
    "print(inspect.getfile(thailand))"
   ]
  },
  {
   "source": [
    "### pip install(패키지 설치하기, pypi를 이용해 패키지를 검색) <br>\n",
    "Terminal에 pip install '패키지'입력 시 설치 <br>\n",
    "설치 후 from '패키지' import '모듈' 로 적용 <br>\n",
    "Terminal에 pip list입력 시 설치된 패키지 목록 확인 <br>\n",
    "Terminal에 pip show '패키지'입력 시 패키지 정보 확인 <br>\n",
    "Terminal에 pip install --upgrade '패키지'입력 시 패키지 업그레이드 <br>\n",
    "Terminal에 pip uninstall '패키지'입력 시 패키지 삭제 <br>"
   ],
   "cell_type": "markdown",
   "metadata": {}
  },
  {
   "cell_type": "code",
   "execution_count": 110,
   "metadata": {},
   "outputs": [
    {
     "output_type": "stream",
     "name": "stdout",
     "text": [
      "v은 아주 좋은 언어입니다!\n['AttackUnit', 'BigNumberError', 'BuildingUnit', 'Flyable', 'FlyableAttackUnit', 'FlyableUnit', 'House', 'In', 'Marine', 'Out', 'Random', 'SoldOutError', 'SystemRandom', 'Tank', 'ThailandPackage', 'Unit', 'Wraith', '_', '_VSCODE_builtins', '_VSCODE_getVariableInfo', '_VSCODE_getVariableProperties', '_VSCODE_json', '__', '___', '__builtin__', '__builtins__', '__doc__', '__loader__', '__name__', '__package__', '__spec__', '_dh', '_i', '_i1', '_i10', '_i100', '_i101', '_i102', '_i103', '_i104', '_i105', '_i106', '_i107', '_i108', '_i109', '_i11', '_i110', '_i12', '_i13', '_i14', '_i15', '_i16', '_i17', '_i18', '_i19', '_i2', '_i20', '_i21', '_i22', '_i23', '_i24', '_i25', '_i26', '_i27', '_i28', '_i29', '_i3', '_i30', '_i31', '_i32', '_i33', '_i34', '_i35', '_i36', '_i37', '_i38', '_i39', '_i4', '_i40', '_i41', '_i42', '_i43', '_i44', '_i45', '_i46', '_i47', '_i48', '_i49', '_i5', '_i50', '_i51', '_i52', '_i53', '_i54', '_i55', '_i56', '_i57', '_i58', '_i59', '_i6', '_i60', '_i61', '_i62', '_i63', '_i64', '_i65', '_i66', '_i67', '_i68', '_i69', '_i7', '_i70', '_i71', '_i72', '_i73', '_i74', '_i75', '_i76', '_i77', '_i78', '_i79', '_i8', '_i80', '_i81', '_i82', '_i83', '_i84', '_i85', '_i86', '_i87', '_i88', '_i89', '_i9', '_i90', '_i91', '_i92', '_i93', '_i94', '_i95', '_i96', '_i97', '_i98', '_i99', '_ih', '_ii', '_iii', '_oh', '_rwho_ls', 'absent', 'account', 'acos', 'acosh', 'age', 'animal', 'answer', 'asin', 'asinh', 'atan', 'atan2', 'atanh', 'attack', 'attack_units', 'balance', 'ball_idx', 'ball_val', 'balls', 'battlecruiser', 'betavariate', 'cabinet', 'ceil', 'checkpoint', 'checkpoint_ret', 'chicken', 'choice', 'choices', 'cnt', 'color', 'comb', 'copysign', 'cos', 'cosh', 'customer', 'damage', 'date', 'degrees', 'deposit', 'dist', 'dropship', 'e', 'eng', 'eng2', 'erf', 'erfc', 'exit', 'exp', 'expm1', 'expovariate', 'fabs', 'factorial', 'firebat1', 'floor', 'fmod', 'frexp', 'fsum', 'game_over', 'game_start', 'gamma', 'gammavariate', 'gauss', 'gcd', 'gender', 'get_ipython', 'getrandbits', 'getstate', 'gun', 'height', 'hobby', 'house', 'house1', 'house2', 'house3', 'houses', 'hp', 'hypot', 'i', 'index', 'inf', 'inspect', 'is_adult', 'isclose', 'isfinite', 'isinf', 'isnan', 'isqrt', 'java', 'jumin', 'kor', 'kor2', 'language', 'lcm', 'ldexp', 'lgamma', 'line', 'lines', 'log', 'log10', 'log1p', 'log2', 'lognormvariate', 'lst', 'lst_idx', 'lst_val', 'm1', 'm2', 'm3', 'marine1', 'marine2', 'menu', 'mix_list', 'mixed', 'modf', 'mv', 'my_set', 'my_str', 'name', 'nan', 'nextafter', 'no_book', 'normalvariate', 'num', 'num1', 'num2', 'num_list', 'num_list1', 'number', 'nums', 'open_account', 'order', 'os', 'paretovariate', 'password', 'perm', 'person', 'pi', 'pickle', 'pow', 'price', 'price_morning', 'price_soldier', 'prod', 'profile', 'profile_file', 'python', 'quit', 'radians', 'randbytes', 'randint', 'random', 'randrange', 'remainder', 'sample', 'score', 'score_file', 'scores', 'seed', 'sentence', 'sentence2', 'sentence3', 'setstate', 'shuffle', 'sin', 'sinh', 'sqrt', 'starbucks', 'station', 'std_weight', 'student', 'students', 'study_file', 'subject', 'subway', 'sys', 't1', 't2', 'tan', 'tanh', 'tank', 'tank_damage', 'tank_hp', 'tank_name', 'tau', 'temp', 'thailand', 'theater_module_ex', 'time', 'tmp_week', 'travel_package_ex', 'triangular', 'trip_to', 'trunc', 'ulp', 'uniform', 'unit', 'url', 'users', 'valkyrie', 'vietnam', 'vonmisesvariate', 'vulture', 'w1', 'waiting', 'wating_no', 'weapon_idx', 'weapon_val', 'weapons', 'weather', 'weibullvariate', 'weight', 'winners', 'withdraw', 'withdraw_night', 'wraith1', 'wraith2']\n['AttackUnit', 'BigNumberError', 'BuildingUnit', 'Flyable', 'FlyableAttackUnit', 'FlyableUnit', 'House', 'In', 'Marine', 'Out', 'Random', 'SoldOutError', 'SystemRandom', 'Tank', 'ThailandPackage', 'Unit', 'Wraith', '_', '_VSCODE_builtins', '_VSCODE_getVariableInfo', '_VSCODE_getVariableProperties', '_VSCODE_json', '__', '___', '__builtin__', '__builtins__', '__doc__', '__loader__', '__name__', '__package__', '__spec__', '_dh', '_i', '_i1', '_i10', '_i100', '_i101', '_i102', '_i103', '_i104', '_i105', '_i106', '_i107', '_i108', '_i109', '_i11', '_i110', '_i12', '_i13', '_i14', '_i15', '_i16', '_i17', '_i18', '_i19', '_i2', '_i20', '_i21', '_i22', '_i23', '_i24', '_i25', '_i26', '_i27', '_i28', '_i29', '_i3', '_i30', '_i31', '_i32', '_i33', '_i34', '_i35', '_i36', '_i37', '_i38', '_i39', '_i4', '_i40', '_i41', '_i42', '_i43', '_i44', '_i45', '_i46', '_i47', '_i48', '_i49', '_i5', '_i50', '_i51', '_i52', '_i53', '_i54', '_i55', '_i56', '_i57', '_i58', '_i59', '_i6', '_i60', '_i61', '_i62', '_i63', '_i64', '_i65', '_i66', '_i67', '_i68', '_i69', '_i7', '_i70', '_i71', '_i72', '_i73', '_i74', '_i75', '_i76', '_i77', '_i78', '_i79', '_i8', '_i80', '_i81', '_i82', '_i83', '_i84', '_i85', '_i86', '_i87', '_i88', '_i89', '_i9', '_i90', '_i91', '_i92', '_i93', '_i94', '_i95', '_i96', '_i97', '_i98', '_i99', '_ih', '_ii', '_iii', '_oh', '_rwho_ls', 'absent', 'account', 'acos', 'acosh', 'age', 'animal', 'answer', 'asin', 'asinh', 'atan', 'atan2', 'atanh', 'attack', 'attack_units', 'balance', 'ball_idx', 'ball_val', 'balls', 'battlecruiser', 'betavariate', 'cabinet', 'ceil', 'checkpoint', 'checkpoint_ret', 'chicken', 'choice', 'choices', 'cnt', 'color', 'comb', 'copysign', 'cos', 'cosh', 'customer', 'damage', 'date', 'degrees', 'deposit', 'dist', 'dropship', 'e', 'eng', 'eng2', 'erf', 'erfc', 'exit', 'exp', 'expm1', 'expovariate', 'fabs', 'factorial', 'firebat1', 'floor', 'fmod', 'frexp', 'fsum', 'game_over', 'game_start', 'gamma', 'gammavariate', 'gauss', 'gcd', 'gender', 'get_ipython', 'getrandbits', 'getstate', 'gun', 'height', 'hobby', 'house', 'house1', 'house2', 'house3', 'houses', 'hp', 'hypot', 'i', 'index', 'inf', 'inspect', 'is_adult', 'isclose', 'isfinite', 'isinf', 'isnan', 'isqrt', 'java', 'jumin', 'kor', 'kor2', 'language', 'lcm', 'ldexp', 'lgamma', 'line', 'lines', 'log', 'log10', 'log1p', 'log2', 'lognormvariate', 'lst', 'lst_idx', 'lst_val', 'm1', 'm2', 'm3', 'marine1', 'marine2', 'menu', 'mix_list', 'mixed', 'modf', 'mv', 'my_set', 'my_str', 'name', 'nan', 'nextafter', 'no_book', 'normalvariate', 'num', 'num1', 'num2', 'num_list', 'num_list1', 'number', 'nums', 'open_account', 'order', 'os', 'paretovariate', 'password', 'perm', 'person', 'pi', 'pickle', 'pow', 'price', 'price_morning', 'price_soldier', 'prod', 'profile', 'profile_file', 'python', 'quit', 'radians', 'randbytes', 'randint', 'random', 'randrange', 'remainder', 'sample', 'score', 'score_file', 'scores', 'seed', 'sentence', 'sentence2', 'sentence3', 'setstate', 'shuffle', 'sin', 'sinh', 'sqrt', 'starbucks', 'station', 'std_weight', 'student', 'students', 'study_file', 'subject', 'subway', 'sys', 't1', 't2', 'tan', 'tanh', 'tank', 'tank_damage', 'tank_hp', 'tank_name', 'tau', 'temp', 'thailand', 'theater_module_ex', 'time', 'tmp_week', 'travel_package_ex', 'triangular', 'trip_to', 'trunc', 'ulp', 'uniform', 'unit', 'url', 'users', 'valkyrie', 'vietnam', 'vonmisesvariate', 'vulture', 'w1', 'waiting', 'wating_no', 'weapon_idx', 'weapon_val', 'weapons', 'weather', 'weibullvariate', 'weight', 'winners', 'withdraw', 'withdraw_night', 'wraith1', 'wraith2']\n['AttackUnit', 'BigNumberError', 'BuildingUnit', 'Flyable', 'FlyableAttackUnit', 'FlyableUnit', 'House', 'In', 'Marine', 'Out', 'Random', 'SoldOutError', 'SystemRandom', 'Tank', 'ThailandPackage', 'Unit', 'Wraith', '_', '_VSCODE_builtins', '_VSCODE_getVariableInfo', '_VSCODE_getVariableProperties', '_VSCODE_json', '__', '___', '__builtin__', '__builtins__', '__doc__', '__loader__', '__name__', '__package__', '__spec__', '_dh', '_i', '_i1', '_i10', '_i100', '_i101', '_i102', '_i103', '_i104', '_i105', '_i106', '_i107', '_i108', '_i109', '_i11', '_i110', '_i12', '_i13', '_i14', '_i15', '_i16', '_i17', '_i18', '_i19', '_i2', '_i20', '_i21', '_i22', '_i23', '_i24', '_i25', '_i26', '_i27', '_i28', '_i29', '_i3', '_i30', '_i31', '_i32', '_i33', '_i34', '_i35', '_i36', '_i37', '_i38', '_i39', '_i4', '_i40', '_i41', '_i42', '_i43', '_i44', '_i45', '_i46', '_i47', '_i48', '_i49', '_i5', '_i50', '_i51', '_i52', '_i53', '_i54', '_i55', '_i56', '_i57', '_i58', '_i59', '_i6', '_i60', '_i61', '_i62', '_i63', '_i64', '_i65', '_i66', '_i67', '_i68', '_i69', '_i7', '_i70', '_i71', '_i72', '_i73', '_i74', '_i75', '_i76', '_i77', '_i78', '_i79', '_i8', '_i80', '_i81', '_i82', '_i83', '_i84', '_i85', '_i86', '_i87', '_i88', '_i89', '_i9', '_i90', '_i91', '_i92', '_i93', '_i94', '_i95', '_i96', '_i97', '_i98', '_i99', '_ih', '_ii', '_iii', '_oh', '_rwho_ls', 'absent', 'account', 'acos', 'acosh', 'age', 'animal', 'answer', 'asin', 'asinh', 'atan', 'atan2', 'atanh', 'attack', 'attack_units', 'balance', 'ball_idx', 'ball_val', 'balls', 'battlecruiser', 'betavariate', 'cabinet', 'ceil', 'checkpoint', 'checkpoint_ret', 'chicken', 'choice', 'choices', 'cnt', 'color', 'comb', 'copysign', 'cos', 'cosh', 'customer', 'damage', 'date', 'degrees', 'deposit', 'dist', 'dropship', 'e', 'eng', 'eng2', 'erf', 'erfc', 'exit', 'exp', 'expm1', 'expovariate', 'fabs', 'factorial', 'firebat1', 'floor', 'fmod', 'frexp', 'fsum', 'game_over', 'game_start', 'gamma', 'gammavariate', 'gauss', 'gcd', 'gender', 'get_ipython', 'getrandbits', 'getstate', 'gun', 'height', 'hobby', 'house', 'house1', 'house2', 'house3', 'houses', 'hp', 'hypot', 'i', 'index', 'inf', 'inspect', 'is_adult', 'isclose', 'isfinite', 'isinf', 'isnan', 'isqrt', 'java', 'jumin', 'kor', 'kor2', 'language', 'lcm', 'ldexp', 'lgamma', 'line', 'lines', 'log', 'log10', 'log1p', 'log2', 'lognormvariate', 'lst', 'lst_idx', 'lst_val', 'm1', 'm2', 'm3', 'marine1', 'marine2', 'menu', 'mix_list', 'mixed', 'modf', 'mv', 'my_set', 'my_str', 'name', 'nan', 'nextafter', 'no_book', 'normalvariate', 'num', 'num1', 'num2', 'num_list', 'num_list1', 'number', 'nums', 'open_account', 'order', 'os', 'paretovariate', 'password', 'perm', 'person', 'pi', 'pickle', 'pow', 'price', 'price_morning', 'price_soldier', 'prod', 'profile', 'profile_file', 'python', 'quit', 'radians', 'randbytes', 'randint', 'random', 'randrange', 'remainder', 'sample', 'score', 'score_file', 'scores', 'seed', 'sentence', 'sentence2', 'sentence3', 'setstate', 'shuffle', 'sin', 'sinh', 'sqrt', 'starbucks', 'station', 'std_weight', 'student', 'students', 'study_file', 'subject', 'subway', 'sys', 't1', 't2', 'tan', 'tanh', 'tank', 'tank_damage', 'tank_hp', 'tank_name', 'tau', 'temp', 'thailand', 'theater_module_ex', 'time', 'tmp_week', 'travel_package_ex', 'triangular', 'trip_to', 'trunc', 'ulp', 'uniform', 'unit', 'url', 'users', 'valkyrie', 'vietnam', 'vonmisesvariate', 'vulture', 'w1', 'waiting', 'wating_no', 'weapon_idx', 'weapon_val', 'weapons', 'weather', 'weibullvariate', 'weight', 'winners', 'withdraw', 'withdraw_night', 'wraith1', 'wraith2']\n['BPF', 'LOG4', 'NV_MAGICCONST', 'RECIP_BPF', 'Random', 'SG_MAGICCONST', 'SystemRandom', 'TWOPI', '_Sequence', '_Set', '__all__', '__builtins__', '__cached__', '__doc__', '__file__', '__loader__', '__name__', '__package__', '__spec__', '_accumulate', '_acos', '_bisect', '_ceil', '_cos', '_e', '_exp', '_floor', '_inst', '_log', '_os', '_pi', '_random', '_repeat', '_sha512', '_sin', '_sqrt', '_test', '_test_generator', '_urandom', '_warn', 'betavariate', 'choice', 'choices', 'expovariate', 'gammavariate', 'gauss', 'getrandbits', 'getstate', 'lognormvariate', 'normalvariate', 'paretovariate', 'randbytes', 'randint', 'random', 'randrange', 'sample', 'seed', 'setstate', 'shuffle', 'triangular', 'uniform', 'vonmisesvariate', 'weibullvariate']\n['__add__', '__class__', '__class_getitem__', '__contains__', '__delattr__', '__delitem__', '__dir__', '__doc__', '__eq__', '__format__', '__ge__', '__getattribute__', '__getitem__', '__gt__', '__hash__', '__iadd__', '__imul__', '__init__', '__init_subclass__', '__iter__', '__le__', '__len__', '__lt__', '__mul__', '__ne__', '__new__', '__reduce__', '__reduce_ex__', '__repr__', '__reversed__', '__rmul__', '__setattr__', '__setitem__', '__sizeof__', '__str__', '__subclasshook__', 'append', 'clear', 'copy', 'count', 'extend', 'index', 'insert', 'pop', 'remove', 'reverse', 'sort']\n['__add__', '__class__', '__contains__', '__delattr__', '__dir__', '__doc__', '__eq__', '__format__', '__ge__', '__getattribute__', '__getitem__', '__getnewargs__', '__gt__', '__hash__', '__init__', '__init_subclass__', '__iter__', '__le__', '__len__', '__lt__', '__mod__', '__mul__', '__ne__', '__new__', '__reduce__', '__reduce_ex__', '__repr__', '__rmod__', '__rmul__', '__setattr__', '__sizeof__', '__str__', '__subclasshook__', 'capitalize', 'casefold', 'center', 'count', 'encode', 'endswith', 'expandtabs', 'find', 'format', 'format_map', 'index', 'isalnum', 'isalpha', 'isascii', 'isdecimal', 'isdigit', 'isidentifier', 'islower', 'isnumeric', 'isprintable', 'isspace', 'istitle', 'isupper', 'join', 'ljust', 'lower', 'lstrip', 'maketrans', 'partition', 'removeprefix', 'removesuffix', 'replace', 'rfind', 'rindex', 'rjust', 'rpartition', 'rsplit', 'rstrip', 'split', 'splitlines', 'startswith', 'strip', 'swapcase', 'title', 'translate', 'upper', 'zfill']\n"
     ]
    }
   ],
   "source": [
    "## 내장함수(구글에 'list of python builtins'를 검색해 확인 가능)\n",
    "\n",
    "# 예시들\n",
    "# input: 사용자 입력을 받는 함수\n",
    "language = input('무슨 언어를 좋아하세요?')\n",
    "print('{0}은 아주 좋은 언어입니다!'.format(language))\n",
    "\n",
    "# dir: 어떤 객체를 너겨줬을 때 그 객체가 어떤 변수와 함수를 가지고 있는지 표시\n",
    "print(dir())\n",
    "import random # 외장 함수\n",
    "print(dir()) # random 이 추가됨\n",
    "import pickle\n",
    "print(dir()) # pickle 이 추가됨\n",
    "\n",
    "print(dir(random)) # random 안에 있는 변수, 함수\n",
    "\n",
    "lst = [1, 2, 3]\n",
    "print(dir(lst)) # lst안에 있는 변수, 함수\n",
    "\n",
    "name = 'Jim'\n",
    "print(dir(name))"
   ]
  },
  {
   "cell_type": "code",
   "execution_count": 111,
   "metadata": {},
   "outputs": [
    {
     "output_type": "stream",
     "name": "stdout",
     "text": [
      "['1_practice.py', 'quiz10.py', 'theater_module_ex.py']\nc:\\Users\\KJH\\OneDrive - 인하대학교\\0 정리\\1 깃허브 업로드\\Python_basic\\0_기본\nsample_dir 폴더를 생성하였습니다.\n['1_basic.ipynb', '1_practice.py', 'quiz10.py', 'sample_dir', 'theater_module_ex.py', 'travel_package_ex', '__pycache__']\ntime.struct_time(tm_year=2021, tm_mon=3, tm_mday=12, tm_hour=20, tm_min=41, tm_sec=13, tm_wday=4, tm_yday=71, tm_isdst=0)\n2021-03-12 20:41:13\n오늘 날짜는 2021-03-12\n우리가 만난지 100 2021-06-20\n"
     ]
    }
   ],
   "source": [
    "## 외장함수(import해서 이용, 구글에서 'list of python modules'를 검색해 확인 가능)\n",
    "\n",
    "# 예시들\n",
    "# glob: 경로 내의 폴더 / 파일 목록 조회(윈도우에 적용하는 dir())\n",
    "import glob\n",
    "print(glob.glob('*.py')) # 확장자가 py인 모든 파일\n",
    "\n",
    "# os: 운영체제에서 제공하는 기본 기능\n",
    "import os\n",
    "print(os.getcwd()) # 현제 디렉토리\n",
    "\n",
    "folder = 'sample_dir'\n",
    "if os.path.exists(folder):\n",
    "    print('이미 존재하는 폴더입니다.')\n",
    "    os.rmdir(folder) # 폴더 삭제\n",
    "    print(folder, '폴더를 삭제하였습니다.')\n",
    "else:\n",
    "    os.makedirs(folder) # 폴더 생성\n",
    "    print(folder, '폴더를 생성하였습니다.')\n",
    "\n",
    "print(os.listdir()) # 현제 디렉토리에 있는 파일\n",
    "\n",
    "# time: 시간 관련 함수\n",
    "import time\n",
    "print(time.localtime())\n",
    "print(time.strftime('%Y-%m-%d %H:%M:%S')) # 시간출력 형식 변경\n",
    "\n",
    "import datetime\n",
    "print('오늘 날짜는', datetime.date.today())\n",
    "\n",
    "# timedelta: 두 날짜 사이의 간격\n",
    "today = datetime.date.today() # 오늘 날짜\n",
    "td = datetime.timedelta(days = 100) # 100일지정\n",
    "print('우리가 만난지 100', today + td) # 오늘 + td(100)일 후"
   ]
  },
  {
   "cell_type": "code",
   "execution_count": 112,
   "metadata": {},
   "outputs": [
    {
     "output_type": "stream",
     "name": "stdout",
     "text": [
      "이 프로그램은 나노코딩에 의해 만들어졌습니다.\n유튜브: http://youtube.com\n이메일: nadocoding@gmail.com\n"
     ]
    }
   ],
   "source": [
    "## 퀴즈10(모듈, 패키지)(quiz10.py확인)\n",
    "import quiz10\n",
    "quiz10.sign()"
   ]
  }
 ]
}