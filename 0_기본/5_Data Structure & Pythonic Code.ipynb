{
 "metadata": {
  "language_info": {
   "codemirror_mode": {
    "name": "ipython",
    "version": 3
   },
   "file_extension": ".py",
   "mimetype": "text/x-python",
   "name": "python",
   "nbconvert_exporter": "python",
   "pygments_lexer": "ipython3",
   "version": "3.9.2"
  },
  "orig_nbformat": 2,
  "kernelspec": {
   "name": "python392jvsc74a57bd063fd5069d213b44bf678585dea6b12cceca9941eaf7f819626cde1f2670de90d",
   "display_name": "Python 3.9.2 64-bit"
  }
 },
 "nbformat": 4,
 "nbformat_minor": 2,
 "cells": [
  {
   "source": [
    "# Data Structure & Pythonic Code\n",
    "## 자료구조 개요 (Data Structure)\n",
    "### 튜플 (tuple)\n",
    "값의 변경이 불가능한 리스트 <br>\n",
    "선언 시 “\\[ \\]”가 아닌 “\\( \\)”를 사용 <br>\n",
    "리스트의 연산, 인덱싱, 슬라이싱 등을 동일하게 사용 <br>\n",
    "\n",
    "왜 쓸까? <br>\n",
    "프로그램을 작동하는 동안 변경되지 않아야할 데이터를 저장 <br>\n",
    "Ex) 학번, 이름, 우편번호 등등 "
   ],
   "cell_type": "markdown",
   "metadata": {}
  },
  {
   "source": [
    "t = (1,2,3)\n",
    "print(t + t, t*2)\n",
    "len(t)"
   ],
   "cell_type": "code",
   "metadata": {},
   "execution_count": 2,
   "outputs": [
    {
     "output_type": "stream",
     "name": "stdout",
     "text": [
      "(1, 2, 3, 1, 2, 3) (1, 2, 3, 1, 2, 3)\n"
     ]
    },
    {
     "output_type": "execute_result",
     "data": {
      "text/plain": [
       "3"
      ]
     },
     "metadata": {},
     "execution_count": 2
    }
   ]
  },
  {
   "cell_type": "code",
   "execution_count": 3,
   "metadata": {},
   "outputs": [
    {
     "output_type": "error",
     "ename": "TypeError",
     "evalue": "'tuple' object does not support item assignment",
     "traceback": [
      "\u001b[1;31m---------------------------------------------------------------------------\u001b[0m",
      "\u001b[1;31mTypeError\u001b[0m                                 Traceback (most recent call last)",
      "\u001b[1;32m<ipython-input-3-c53026d12066>\u001b[0m in \u001b[0;36m<module>\u001b[1;34m\u001b[0m\n\u001b[1;32m----> 1\u001b[1;33m \u001b[0mt\u001b[0m\u001b[1;33m[\u001b[0m\u001b[1;36m1\u001b[0m\u001b[1;33m]\u001b[0m \u001b[1;33m=\u001b[0m \u001b[1;36m5\u001b[0m\u001b[1;33m\u001b[0m\u001b[1;33m\u001b[0m\u001b[0m\n\u001b[0m",
      "\u001b[1;31mTypeError\u001b[0m: 'tuple' object does not support item assignment"
     ]
    }
   ],
   "source": [
    "# 코드 오류가 나는 이유는 tuple이 immutable type이라 값이 변하지 않기 때문입니다.\n",
    "t[1] = 5"
   ]
  },
  {
   "cell_type": "code",
   "execution_count": 5,
   "metadata": {},
   "outputs": [
    {
     "output_type": "stream",
     "name": "stdout",
     "text": [
      "<class 'int'> 1\n<class 'tuple'> (1,)\n"
     ]
    }
   ],
   "source": [
    "# 튜플에 값을 하나만 넣는 경우\n",
    "t = (1)\n",
    "print(type(t), t) # tuple이 아닌 정수로 인식\n",
    "\n",
    "# 값이 하나인 튜플을 만들고 싶은 경우\n",
    "t = (1,) # 값이 하나인 tuple은 반드시 ','을 붙여야함\n",
    "print(type(t), t) # tuple로 인식"
   ]
  },
  {
   "source": [
    "### 집합 (set)\n",
    "값을 순서없이 저장, 중복 불허 하는 자료형 <br>\n",
    "Set 객체 선언을 이용하여 객체 생성"
   ],
   "cell_type": "markdown",
   "metadata": {}
  },
  {
   "cell_type": "code",
   "execution_count": 11,
   "metadata": {},
   "outputs": [
    {
     "output_type": "execute_result",
     "data": {
      "text/plain": [
       "{1, 2, 3}"
      ]
     },
     "metadata": {},
     "execution_count": 11
    }
   ],
   "source": [
    "s = set([1,2,3,1,2,3])\n",
    "s"
   ]
  },
  {
   "cell_type": "code",
   "execution_count": 12,
   "metadata": {},
   "outputs": [
    {
     "output_type": "execute_result",
     "data": {
      "text/plain": [
       "{1, 2, 3}"
      ]
     },
     "metadata": {},
     "execution_count": 12
    }
   ],
   "source": [
    "s.add(1)\n",
    "s"
   ]
  },
  {
   "cell_type": "code",
   "execution_count": 13,
   "metadata": {},
   "outputs": [
    {
     "output_type": "execute_result",
     "data": {
      "text/plain": [
       "{2, 3}"
      ]
     },
     "metadata": {},
     "execution_count": 13
    }
   ],
   "source": [
    "s.remove(1)\n",
    "s"
   ]
  },
  {
   "cell_type": "code",
   "execution_count": 14,
   "metadata": {},
   "outputs": [
    {
     "output_type": "execute_result",
     "data": {
      "text/plain": [
       "{1, 2, 3, 4, 5}"
      ]
     },
     "metadata": {},
     "execution_count": 14
    }
   ],
   "source": [
    "s.update([1,2,3,4,5])\n",
    "s"
   ]
  },
  {
   "cell_type": "code",
   "execution_count": 15,
   "metadata": {},
   "outputs": [
    {
     "output_type": "execute_result",
     "data": {
      "text/plain": [
       "set()"
      ]
     },
     "metadata": {},
     "execution_count": 15
    }
   ],
   "source": [
    "s.clear()\n",
    "s"
   ]
  },
  {
   "source": [
    "#### 집합의 연산\n",
    "수학에서 활용하는 다양한 집합연산 가능"
   ],
   "cell_type": "markdown",
   "metadata": {}
  },
  {
   "cell_type": "code",
   "execution_count": 18,
   "metadata": {},
   "outputs": [],
   "source": [
    "s1 = set([1,2,3,4,5])\n",
    "s2 = set([3,4,5,6,7])"
   ]
  },
  {
   "cell_type": "code",
   "execution_count": 19,
   "metadata": {},
   "outputs": [
    {
     "output_type": "execute_result",
     "data": {
      "text/plain": [
       "{1, 2, 3, 4, 5, 6, 7}"
      ]
     },
     "metadata": {},
     "execution_count": 19
    }
   ],
   "source": [
    "s1.union(s2) # 합집합"
   ]
  },
  {
   "cell_type": "code",
   "execution_count": 20,
   "metadata": {},
   "outputs": [
    {
     "output_type": "execute_result",
     "data": {
      "text/plain": [
       "{1, 2, 3, 4, 5, 6, 7}"
      ]
     },
     "metadata": {},
     "execution_count": 20
    }
   ],
   "source": [
    "s1|s2 # 합집합"
   ]
  },
  {
   "cell_type": "code",
   "execution_count": 22,
   "metadata": {},
   "outputs": [
    {
     "output_type": "execute_result",
     "data": {
      "text/plain": [
       "{3, 4, 5}"
      ]
     },
     "metadata": {},
     "execution_count": 22
    }
   ],
   "source": [
    "s1.intersection(s2) # 교집합"
   ]
  },
  {
   "cell_type": "code",
   "execution_count": 23,
   "metadata": {},
   "outputs": [
    {
     "output_type": "execute_result",
     "data": {
      "text/plain": [
       "{3, 4, 5}"
      ]
     },
     "metadata": {},
     "execution_count": 23
    }
   ],
   "source": [
    "s1&s2 # 교집합"
   ]
  },
  {
   "cell_type": "code",
   "execution_count": 24,
   "metadata": {},
   "outputs": [
    {
     "output_type": "execute_result",
     "data": {
      "text/plain": [
       "{1, 2}"
      ]
     },
     "metadata": {},
     "execution_count": 24
    }
   ],
   "source": [
    "s1.difference(s2) # s1 - s2 차집합"
   ]
  },
  {
   "cell_type": "code",
   "execution_count": 25,
   "metadata": {},
   "outputs": [
    {
     "output_type": "execute_result",
     "data": {
      "text/plain": [
       "{1, 2}"
      ]
     },
     "metadata": {},
     "execution_count": 25
    }
   ],
   "source": [
    "s1 - s2 # 차집합"
   ]
  },
  {
   "source": [
    "### 사전 (dictionary)\n",
    "데이터를 저장 할 때는 구분 지을 수 있는 값을 함께 저장예) 주민등록 번호, 제품 모델 번호 (SM-N930 : 갤럭시 노트7(64GB)) <br>\n",
    "구분을 위한 데이터 고유 값을 identifier 또는 Key 라고함 <br>\n",
    "Key 값을 활용하여, 데이터 값(Value)을 관리함 <br>\n",
    "\n",
    "Key와 value를 매칭하여 key로 value를 검색 <br>\n",
    "다른 언어에서는 Hash Table 이라는 용어를 사용 <br>\n",
    "{Key1:Value1, Key2:Value2, Key3:Value3…} 형태"
   ],
   "cell_type": "markdown",
   "metadata": {}
  },
  {
   "cell_type": "code",
   "execution_count": 40,
   "metadata": {},
   "outputs": [
    {
     "output_type": "execute_result",
     "data": {
      "text/plain": [
       "'김땡땡'"
      ]
     },
     "metadata": {},
     "execution_count": 40
    }
   ],
   "source": [
    "# 같은 value('김땡땡)가 있으나 key(학번)가 다르므로 따로 호출 가능\n",
    "student_info = {12150425:'김떙떙', 12170311:'박인하', 12160234:'최산공', 12120425:'김화석', 12170488:'김땡땡'}\n",
    "student_info[12170488] # key를 이용해 value를 출력"
   ]
  },
  {
   "cell_type": "code",
   "execution_count": 41,
   "metadata": {},
   "outputs": [
    {
     "output_type": "execute_result",
     "data": {
      "text/plain": [
       "{12150425: '김떙떙',\n",
       " 12170311: '박인하',\n",
       " 12160234: '최산공',\n",
       " 12120425: 'Hwa_seok',\n",
       " 12170488: '김땡땡'}"
      ]
     },
     "metadata": {},
     "execution_count": 41
    }
   ],
   "source": [
    "# dict내 value 수정\n",
    "student_info[12120425] = 'Hwa_seok' # value를 수정 가능\n",
    "student_info"
   ]
  },
  {
   "cell_type": "code",
   "execution_count": 34,
   "metadata": {},
   "outputs": [
    {
     "output_type": "execute_result",
     "data": {
      "text/plain": [
       "{'America': 1, 'Korea': 82, 'China': 86, 'Japan': 81}"
      ]
     },
     "metadata": {},
     "execution_count": 34
    }
   ],
   "source": [
    "# dict 삽입\n",
    "country_code = {} # 빈 dict 생성\n",
    "country_code = {'America':1, 'Korea':82, 'China':86, 'Japan':81}\n",
    "country_code"
   ]
  },
  {
   "cell_type": "code",
   "execution_count": 35,
   "metadata": {},
   "outputs": [
    {
     "output_type": "execute_result",
     "data": {
      "text/plain": [
       "dict_items([('America', 1), ('Korea', 82), ('China', 86), ('Japan', 81)])"
      ]
     },
     "metadata": {},
     "execution_count": 35
    }
   ],
   "source": [
    "# dict 출력\n",
    "country_code.items() # dict 데이터 출력"
   ]
  },
  {
   "cell_type": "code",
   "execution_count": 36,
   "metadata": {},
   "outputs": [
    {
     "output_type": "execute_result",
     "data": {
      "text/plain": [
       "dict_keys(['America', 'Korea', 'China', 'Japan'])"
      ]
     },
     "metadata": {},
     "execution_count": 36
    }
   ],
   "source": [
    "# dict key 출력\n",
    "country_code.keys() # dict의 key값만 출력"
   ]
  },
  {
   "cell_type": "code",
   "execution_count": 37,
   "metadata": {},
   "outputs": [
    {
     "output_type": "execute_result",
     "data": {
      "text/plain": [
       "dict_values([1, 82, 86, 81])"
      ]
     },
     "metadata": {},
     "execution_count": 37
    }
   ],
   "source": [
    "# dict value 출력\n",
    "country_code.values() # dict의 value값만 출력"
   ]
  },
  {
   "cell_type": "code",
   "execution_count": 39,
   "metadata": {},
   "outputs": [
    {
     "output_type": "execute_result",
     "data": {
      "text/plain": [
       "{'America': 1, 'Korea': 82, 'China': 86, 'Japan': 81, 'Germany': 49}"
      ]
     },
     "metadata": {},
     "execution_count": 39
    }
   ],
   "source": [
    "# dict 삽입\n",
    "country_code['Germany'] = 49 # dict 추가\n",
    "country_code"
   ]
  },
  {
   "cell_type": "code",
   "execution_count": 42,
   "metadata": {},
   "outputs": [
    {
     "output_type": "stream",
     "name": "stdout",
     "text": [
      "Key:  America\nValue:  1\nKey:  Korea\nValue:  82\nKey:  China\nValue:  86\nKey:  Japan\nValue:  81\nKey:  Germany\nValue:  49\n"
     ]
    }
   ],
   "source": [
    "# dict.items로 dict내 변수 활용\n",
    "for k,v in country_code.items():\n",
    "    print('Key: ', k)\n",
    "    print('Value: ', v)"
   ]
  },
  {
   "cell_type": "code",
   "execution_count": 44,
   "metadata": {},
   "outputs": [
    {
     "output_type": "execute_result",
     "data": {
      "text/plain": [
       "True"
      ]
     },
     "metadata": {},
     "execution_count": 44
    }
   ],
   "source": [
    "# 내부에 있는지 여부 확인\n",
    "'Korea' in country_code.keys()"
   ]
  },
  {
   "cell_type": "code",
   "execution_count": 46,
   "metadata": {},
   "outputs": [
    {
     "output_type": "execute_result",
     "data": {
      "text/plain": [
       "True"
      ]
     },
     "metadata": {},
     "execution_count": 46
    }
   ],
   "source": [
    "# 내부에 있는지 여부 확인\n",
    "82 in  country_code.values()"
   ]
  },
  {
   "source": [
    "실습 예제 1 <br>\n",
    "dict 내부 값 출력"
   ],
   "cell_type": "markdown",
   "metadata": {}
  },
  {
   "cell_type": "code",
   "execution_count": 50,
   "metadata": {},
   "outputs": [
    {
     "output_type": "stream",
     "name": "stdout",
     "text": [
      "dict_items([('greentea', 32), ('coffee', 25), ('chocolate', 17), ('icecream', 59)])\ndict_keys(['greentea', 'coffee', 'chocolate', 'icecream'])\ndict_values([32, 25, 17, 59])\n"
     ]
    }
   ],
   "source": [
    "cafe = {'greentea':32, 'coffee':25,'chocolate':17,'icecream':59}\n",
    "a = cafe.items()\n",
    "b = cafe.keys()\n",
    "c = cafe.values()\n",
    "print(a)\n",
    "print(b)\n",
    "print(c)"
   ]
  },
  {
   "source": [
    "## (중요)\n",
    "실습 예제 2 <br>\n",
    "자료 복사와 할당의 차이점('='으로는 복사할 수 없고 같은 값을 할당만 할 수 있다(같은 메모리를 사용하는 같은 값을 부르는 새로운 변수를 지정할 뿐이다.))"
   ],
   "cell_type": "markdown",
   "metadata": {}
  },
  {
   "cell_type": "code",
   "execution_count": 51,
   "metadata": {},
   "outputs": [
    {
     "output_type": "stream",
     "name": "stdout",
     "text": [
      "10\n"
     ]
    }
   ],
   "source": [
    " # 같은 메모리의 같은 값이므로 copy로 부르는 dict value도 같다\n",
    "Mydict = {'1':1, '2':2}\n",
    "copy = Mydict\n",
    "Mydict['1'] = 5 # copy, Mydict가 부르는 dict value가 변경됨\n",
    "result = Mydict['1'] + copy['1']\n",
    "print(result) # 10"
   ]
  },
  {
   "source": [
    "## Pythonic Code\n",
    "### Pythonic Code Overview\n",
    "파이썬 스타일의 코딩 기법 <br>\n",
    "파이썬 특유의 문법을 활용하여 효율적으로 코드를 표현함 <br>\n",
    "고급 코드를 작성 할수록 더 많이 필요해짐 <br>\n",
    "\n",
    "예시 : 여러 단어들을 하나로 붙일 때 <br>\n",
    "red , blue , green , yellow라는 단어들을 redbluegreenyellow 라는 하나의 단어로 붙이고 싶음"
   ],
   "cell_type": "markdown",
   "metadata": {}
  },
  {
   "cell_type": "code",
   "execution_count": 64,
   "metadata": {},
   "outputs": [
    {
     "output_type": "execute_result",
     "data": {
      "text/plain": [
       "'redbluegreenyellow'"
      ]
     },
     "metadata": {},
     "execution_count": 64
    }
   ],
   "source": [
    "# 단순 for문 이용\n",
    "colors = ['red','blue','green','yellow']\n",
    "result = ''\n",
    "for s in colors:\n",
    "    result += s\n",
    "result"
   ]
  },
  {
   "cell_type": "code",
   "execution_count": 63,
   "metadata": {},
   "outputs": [
    {
     "output_type": "execute_result",
     "data": {
      "text/plain": [
       "'redbluegreenyellow'"
      ]
     },
     "metadata": {},
     "execution_count": 63
    }
   ],
   "source": [
    "# pythonic code이용\n",
    "colors = ['red','blue','green','yellow']\n",
    "result = ''.join(colors)\n",
    "result"
   ]
  },
  {
   "source": [
    "### Split 함수\n",
    "String Type의 값을 나눠서 List 형태로 변환"
   ],
   "cell_type": "markdown",
   "metadata": {}
  },
  {
   "cell_type": "code",
   "execution_count": 56,
   "metadata": {},
   "outputs": [
    {
     "output_type": "execute_result",
     "data": {
      "text/plain": [
       "['Zero', 'one', 'two', 'three']"
      ]
     },
     "metadata": {},
     "execution_count": 56
    }
   ],
   "source": [
    "items ='Zero one two three'.split() # 빈칸을 기준으로 문자열 나누기\n",
    "items"
   ]
  },
  {
   "cell_type": "code",
   "execution_count": 60,
   "metadata": {},
   "outputs": [
    {
     "output_type": "execute_result",
     "data": {
      "text/plain": [
       "['python', 'jquery', 'javascript']"
      ]
     },
     "metadata": {},
     "execution_count": 60
    }
   ],
   "source": [
    "example = 'python,jquery,javascript' # ','을 기준으로 문자열 나누기\n",
    "example.split(',')"
   ]
  },
  {
   "cell_type": "code",
   "execution_count": 61,
   "metadata": {},
   "outputs": [
    {
     "output_type": "stream",
     "name": "stdout",
     "text": [
      "python\njquery\njavascript\n"
     ]
    }
   ],
   "source": [
    "a, b, c = example.split(',') # 리스트에 있는 각 값을 a,b,c 변수로 unpacking\n",
    "print(a)\n",
    "print(b)\n",
    "print(c)"
   ]
  },
  {
   "cell_type": "code",
   "execution_count": 59,
   "metadata": {},
   "outputs": [
    {
     "output_type": "stream",
     "name": "stdout",
     "text": [
      "cs50 inha edu\n"
     ]
    }
   ],
   "source": [
    "example = 'cs50.inha.edu'\n",
    "subdomain, domain, tld = example.split('.') # '.'을 기준으로 문자열 나누기 및 unpacking\n",
    "print(subdomain, domain, tld)"
   ]
  },
  {
   "source": [
    "### Join 함수\n",
    "String List를 합쳐 하나의 String으로 반환할 때 사용"
   ],
   "cell_type": "markdown",
   "metadata": {}
  },
  {
   "cell_type": "code",
   "execution_count": 62,
   "metadata": {},
   "outputs": [
    {
     "output_type": "execute_result",
     "data": {
      "text/plain": [
       "'redbluegreenyellow'"
      ]
     },
     "metadata": {},
     "execution_count": 62
    }
   ],
   "source": [
    "colors = ['red','blue','green','yellow']\n",
    "result = ''.join(colors)\n",
    "result"
   ]
  },
  {
   "cell_type": "code",
   "execution_count": 65,
   "metadata": {},
   "outputs": [
    {
     "output_type": "execute_result",
     "data": {
      "text/plain": [
       "'red blue green yellow'"
      ]
     },
     "metadata": {},
     "execution_count": 65
    }
   ],
   "source": [
    "colors = ['red','blue','green','yellow']\n",
    "result = ' '.join(colors) # 요소 사이에 빈칸 1칸으로 연결\n",
    "result"
   ]
  },
  {
   "cell_type": "code",
   "execution_count": 66,
   "metadata": {},
   "outputs": [
    {
     "output_type": "execute_result",
     "data": {
      "text/plain": [
       "'red, blue, green, yellow'"
      ]
     },
     "metadata": {},
     "execution_count": 66
    }
   ],
   "source": [
    "colors = ['red','blue','green','yellow']\n",
    "result = ', '.join(colors) # 요소 사이에 ', '으로 연결\n",
    "result"
   ]
  },
  {
   "cell_type": "code",
   "execution_count": 67,
   "metadata": {},
   "outputs": [
    {
     "output_type": "execute_result",
     "data": {
      "text/plain": [
       "'red-blue-green-yellow'"
      ]
     },
     "metadata": {},
     "execution_count": 67
    }
   ],
   "source": [
    "colors = ['red','blue','green','yellow']\n",
    "result = '-'.join(colors) # 요소 사이에 '-'으로 연결\n",
    "result"
   ]
  },
  {
   "source": [
    "### List Comprehensions\n",
    "기존 List를 사용하여 간단히 다른 List를 만드는 기법 <br>\n",
    "포괄적인 List, 포함되는 리스트라는 의미 <br>\n",
    "파이썬에서 가장 많이 사용되는 기법 중 하나 <br>\n",
    "일반적으로 for + append 보다 속도가 빠름 <br>"
   ],
   "cell_type": "markdown",
   "metadata": {}
  },
  {
   "source": [
    "예시) 0부터 9까지의 숫자를 result라는 리스트로 만들고 싶음 "
   ],
   "cell_type": "markdown",
   "metadata": {}
  },
  {
   "cell_type": "code",
   "execution_count": 68,
   "metadata": {},
   "outputs": [
    {
     "output_type": "execute_result",
     "data": {
      "text/plain": [
       "[0, 1, 2, 3, 4, 5, 6, 7, 8, 9]"
      ]
     },
     "metadata": {},
     "execution_count": 68
    }
   ],
   "source": [
    "# 기존 for 문을 이요한 코드\n",
    "result = []\n",
    "for i in range(10):\n",
    "    result.append(i)\n",
    "result"
   ]
  },
  {
   "cell_type": "code",
   "execution_count": 69,
   "metadata": {},
   "outputs": [
    {
     "output_type": "execute_result",
     "data": {
      "text/plain": [
       "[0, 1, 2, 3, 4, 5, 6, 7, 8, 9]"
      ]
     },
     "metadata": {},
     "execution_count": 69
    }
   ],
   "source": [
    "# List Comprehensions를 이용한 코드\n",
    "result = [i for i in range(10)]\n",
    "result"
   ]
  },
  {
   "cell_type": "code",
   "execution_count": 71,
   "metadata": {},
   "outputs": [
    {
     "output_type": "execute_result",
     "data": {
      "text/plain": [
       "[0, 2, 4, 6, 8]"
      ]
     },
     "metadata": {},
     "execution_count": 71
    }
   ],
   "source": [
    "# List Comprehensions를 이용한 코드, 조건 추가\n",
    "result = [i for i in range(10) if i % 2 == 0]\n",
    "result"
   ]
  },
  {
   "source": [
    "예시) Hello와 World를 글자별로 합쳐서 result에 넣고 싶음"
   ],
   "cell_type": "markdown",
   "metadata": {}
  },
  {
   "cell_type": "code",
   "execution_count": 72,
   "metadata": {},
   "outputs": [
    {
     "output_type": "execute_result",
     "data": {
      "text/plain": [
       "['HW',\n",
       " 'Ho',\n",
       " 'Hr',\n",
       " 'Hl',\n",
       " 'Hd',\n",
       " 'eW',\n",
       " 'eo',\n",
       " 'er',\n",
       " 'el',\n",
       " 'ed',\n",
       " 'lW',\n",
       " 'lo',\n",
       " 'lr',\n",
       " 'll',\n",
       " 'ld',\n",
       " 'lW',\n",
       " 'lo',\n",
       " 'lr',\n",
       " 'll',\n",
       " 'ld',\n",
       " 'oW',\n",
       " 'oo',\n",
       " 'or',\n",
       " 'ol',\n",
       " 'od']"
      ]
     },
     "metadata": {},
     "execution_count": 72
    }
   ],
   "source": [
    "# 기존 for 문을 이요한 코드\n",
    "word_1, word_2 = 'Hello', 'World'\n",
    "result = []\n",
    "for i in word_1:\n",
    "    for j in word_2:\n",
    "        result.append(i+j)\n",
    "result"
   ]
  },
  {
   "cell_type": "code",
   "execution_count": 73,
   "metadata": {},
   "outputs": [
    {
     "output_type": "execute_result",
     "data": {
      "text/plain": [
       "['HW',\n",
       " 'Ho',\n",
       " 'Hr',\n",
       " 'Hl',\n",
       " 'Hd',\n",
       " 'eW',\n",
       " 'eo',\n",
       " 'er',\n",
       " 'el',\n",
       " 'ed',\n",
       " 'lW',\n",
       " 'lo',\n",
       " 'lr',\n",
       " 'll',\n",
       " 'ld',\n",
       " 'lW',\n",
       " 'lo',\n",
       " 'lr',\n",
       " 'll',\n",
       " 'ld',\n",
       " 'oW',\n",
       " 'oo',\n",
       " 'or',\n",
       " 'ol',\n",
       " 'od']"
      ]
     },
     "metadata": {},
     "execution_count": 73
    }
   ],
   "source": [
    "# List Comprehensions를 이용한 코드\n",
    "word_1, word_2 = 'Hello', 'World'\n",
    "result = [i+j for i in word_1 for j in word_2] # Nested for loop\n",
    "result"
   ]
  },
  {
   "source": [
    "예시) case_1의 요소와 case_2의 요소를 합쳐서 result에 넣어주는데, 만약 두 요소가 같으면 추가하지 않음"
   ],
   "cell_type": "markdown",
   "metadata": {}
  },
  {
   "cell_type": "code",
   "execution_count": 74,
   "metadata": {},
   "outputs": [
    {
     "output_type": "execute_result",
     "data": {
      "text/plain": [
       "['AD', 'AE', 'BD', 'BE', 'BA', 'CD', 'CE', 'CA']"
      ]
     },
     "metadata": {},
     "execution_count": 74
    }
   ],
   "source": [
    "# 기존 for 문을 이요한 코드\n",
    "case_1 = ['A','B','C']\n",
    "case_2 = ['D','E','A']\n",
    "result = []\n",
    "for i in case_1:\n",
    "    for j in case_2:\n",
    "        if not(i == j):\n",
    "            result.append(i+j)\n",
    "result"
   ]
  },
  {
   "cell_type": "code",
   "execution_count": 75,
   "metadata": {},
   "outputs": [
    {
     "output_type": "execute_result",
     "data": {
      "text/plain": [
       "['AD', 'AE', 'BD', 'BE', 'BA', 'CD', 'CE', 'CA']"
      ]
     },
     "metadata": {},
     "execution_count": 75
    }
   ],
   "source": [
    "# List Comprehensions를 이용한 코드\n",
    "case_1 = ['A','B','C']\n",
    "case_2 = ['D','E','A']\n",
    "result = [i+j for i in case_1 for j in case_2 if not(i==j)]\n",
    "result"
   ]
  },
  {
   "source": [
    "예시) 문장 단어들의 대문자, 소문자, 길이를 stuff에 list로 추가하고 싶음"
   ],
   "cell_type": "markdown",
   "metadata": {}
  },
  {
   "cell_type": "code",
   "execution_count": 79,
   "metadata": {},
   "outputs": [
    {
     "output_type": "execute_result",
     "data": {
      "text/plain": [
       "[['THE', 'the', 3],\n",
       " ['QUICK', 'quick', 5],\n",
       " ['BROWN', 'brown', 5],\n",
       " ['FOX', 'fox', 3],\n",
       " ['JUMPS', 'jumps', 5],\n",
       " ['OVER', 'over', 4],\n",
       " ['THE', 'the', 3],\n",
       " ['LAZY', 'lazy', 4],\n",
       " ['DOG', 'dog', 3]]"
      ]
     },
     "metadata": {},
     "execution_count": 79
    }
   ],
   "source": [
    "# 기존 for 문을 이요한 코드\n",
    "words = 'The quick brown fox jumps over the lazy dog'.split()\n",
    "stuff = []\n",
    "for w in words:\n",
    "    stuff.append([w.upper(), w.lower(), len(w)])\n",
    "stuff"
   ]
  },
  {
   "cell_type": "code",
   "execution_count": 81,
   "metadata": {},
   "outputs": [
    {
     "output_type": "execute_result",
     "data": {
      "text/plain": [
       "[['THE', 'the', 3],\n",
       " ['QUICK', 'quick', 5],\n",
       " ['BROWN', 'brown', 5],\n",
       " ['FOX', 'fox', 3],\n",
       " ['JUMPS', 'jumps', 5],\n",
       " ['OVER', 'over', 4],\n",
       " ['THE', 'the', 3],\n",
       " ['LAZY', 'lazy', 4],\n",
       " ['DOG', 'dog', 3]]"
      ]
     },
     "metadata": {},
     "execution_count": 81
    }
   ],
   "source": [
    "# List Comprehensions를 이용한 코드\n",
    "words = 'The quick brown fox jumps over the lazy dog'.split()\n",
    "stuff = [[w.upper(), w.lower(), len(w)] for w in words]\n",
    "stuff"
   ]
  },
  {
   "source": [
    "## (중요)\n",
    "### Two dimensional vs One dimensional\n",
    "예시) case_1의 인자로 구분하여 2차원의 list를 만들고 싶음"
   ],
   "cell_type": "markdown",
   "metadata": {}
  },
  {
   "cell_type": "code",
   "execution_count": 86,
   "metadata": {},
   "outputs": [
    {
     "output_type": "execute_result",
     "data": {
      "text/plain": [
       "(['A', 'B', 'C'], ['D', 'E', 'A'])"
      ]
     },
     "metadata": {},
     "execution_count": 86
    }
   ],
   "source": [
    "case_1 = ['A','B','C']\n",
    "case_2 = ['D','E','A']\n",
    "case_1, case_2"
   ]
  },
  {
   "cell_type": "code",
   "execution_count": 87,
   "metadata": {},
   "outputs": [
    {
     "output_type": "execute_result",
     "data": {
      "text/plain": [
       "['AD', 'AE', 'AA', 'BD', 'BE', 'BA', 'CD', 'CE', 'CA']"
      ]
     },
     "metadata": {},
     "execution_count": 87
    }
   ],
   "source": [
    "# one dimensional\n",
    "# i첫번째가 실시되고 j loop가 돈뒤, i두번쨰가 실시되고...\n",
    "result = [i+j for i in case_1 for j in case_2]\n",
    "result"
   ]
  },
  {
   "cell_type": "code",
   "execution_count": 88,
   "metadata": {},
   "outputs": [
    {
     "output_type": "execute_result",
     "data": {
      "text/plain": [
       "[['AD', 'BD', 'CD'], ['AE', 'BE', 'CE'], ['AA', 'BA', 'CA']]"
      ]
     },
     "metadata": {},
     "execution_count": 88
    }
   ],
   "source": [
    "# two dimensional\n",
    "# 대괄호 안에 있는 i를 우선해서 실시(i를 먼저 변경한다, i가 끝나면 j를 변경한다))\n",
    "result = [[i+j for i in case_1] for j in case_2]\n",
    "result"
   ]
  },
  {
   "source": [
    "### Enumerate\n",
    "List의 element를 추출할 때 번호를 붙여서 추출"
   ],
   "cell_type": "markdown",
   "metadata": {}
  },
  {
   "cell_type": "code",
   "execution_count": 89,
   "metadata": {},
   "outputs": [
    {
     "output_type": "stream",
     "name": "stdout",
     "text": [
      "0 tic\n1 tac\n2 toe\n"
     ]
    }
   ],
   "source": [
    "# lsit에 있는 index와 값을 unpacking\n",
    "for i, v in enumerate(['tic','tac','toe']):\n",
    "    print(i,v)"
   ]
  },
  {
   "cell_type": "code",
   "execution_count": 90,
   "metadata": {},
   "outputs": [
    {
     "output_type": "execute_result",
     "data": {
      "text/plain": [
       "[(0, 'a'), (1, 'b'), (2, 'c'), (3, 'd')]"
      ]
     },
     "metadata": {},
     "execution_count": 90
    }
   ],
   "source": [
    "mylist = ['a','b','c','d']\n",
    "list(enumerate(mylist))"
   ]
  },
  {
   "cell_type": "code",
   "execution_count": 91,
   "metadata": {},
   "outputs": [
    {
     "output_type": "execute_result",
     "data": {
      "text/plain": [
       "{0: 'Inha', 1: 'University', 2: 'is', 3: 'an', 4: 'academic', 5: 'institute'}"
      ]
     },
     "metadata": {},
     "execution_count": 91
    }
   ],
   "source": [
    "# 문장을 list로 만들고 list의 index와 element를 unpacking 하여 dict로 저장\n",
    "{i:j for i,j in enumerate('Inha University is an academic institute'.split())}"
   ]
  },
  {
   "source": [
    "### Zip\n",
    "두개의 list의 값을 병렬적으로 추출함"
   ],
   "cell_type": "markdown",
   "metadata": {}
  },
  {
   "cell_type": "code",
   "execution_count": 93,
   "metadata": {},
   "outputs": [
    {
     "output_type": "stream",
     "name": "stdout",
     "text": [
      "a1 b1\na2 b2\na3 b3\n"
     ]
    }
   ],
   "source": [
    "alist = ['a1','a2','a3']\n",
    "blist = ['b1','b2','b3']\n",
    "for a, b in zip(alist, blist): # 병렬적으로 값을 추출\n",
    "    print(a,b)"
   ]
  },
  {
   "cell_type": "code",
   "execution_count": 96,
   "metadata": {},
   "outputs": [
    {
     "output_type": "stream",
     "name": "stdout",
     "text": [
      "(1, 10, 100) (2, 20, 200) (3, 30, 300)\n"
     ]
    }
   ],
   "source": [
    "# 각 tuple의 같은 index끼리 묶음\n",
    "a,b,c = zip((1,2,3),(10,20,30),(100,200,300))\n",
    "print(a,b,c)"
   ]
  },
  {
   "cell_type": "code",
   "execution_count": 97,
   "metadata": {},
   "outputs": [
    {
     "output_type": "execute_result",
     "data": {
      "text/plain": [
       "[111, 222, 333]"
      ]
     },
     "metadata": {},
     "execution_count": 97
    }
   ],
   "source": [
    "# 각 tuple의 같은 index를 묶어 합을 list로 변환\n",
    "[sum(x) for x in zip((1,2,3),(10,20,30),(100,200,300))]"
   ]
  },
  {
   "source": [
    "### Enumerate & Zip\n",
    "List의 element를 추출할 때 번호를 붙여서 추출"
   ],
   "cell_type": "markdown",
   "metadata": {}
  },
  {
   "cell_type": "code",
   "execution_count": 102,
   "metadata": {},
   "outputs": [
    {
     "output_type": "stream",
     "name": "stdout",
     "text": [
      "0 a1 b1\n1 a2 b2\n2 a3 b3\n"
     ]
    }
   ],
   "source": [
    "alist = ['a1','a2','a3']\n",
    "blist = ['b1','b2','b3']\n",
    "for i, (a,b) in enumerate(zip(alist, blist)):\n",
    "    print(i,a,b)"
   ]
  },
  {
   "cell_type": "code",
   "execution_count": null,
   "metadata": {},
   "outputs": [],
   "source": []
  }
 ]
}