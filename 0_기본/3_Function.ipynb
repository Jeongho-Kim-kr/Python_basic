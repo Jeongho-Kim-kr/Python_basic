{
 "metadata": {
  "language_info": {
   "codemirror_mode": {
    "name": "ipython",
    "version": 3
   },
   "file_extension": ".py",
   "mimetype": "text/x-python",
   "name": "python",
   "nbconvert_exporter": "python",
   "pygments_lexer": "ipython3",
   "version": "3.9.2-final"
  },
  "orig_nbformat": 2,
  "kernelspec": {
   "name": "python3",
   "display_name": "Python 3.9.2 64-bit",
   "metadata": {
    "interpreter": {
     "hash": "63fd5069d213b44bf678585dea6b12cceca9941eaf7f819626cde1f2670de90d"
    }
   }
  }
 },
 "nbformat": 4,
 "nbformat_minor": 2,
 "cells": [
  {
   "source": [
    "# Function\n",
    "## 함수\n",
    "### 함수 선언 문법\n",
    "함수 이름, parameter, return value(optional)"
   ],
   "cell_type": "markdown",
   "metadata": {}
  },
  {
   "cell_type": "code",
   "execution_count": 1,
   "metadata": {},
   "outputs": [
    {
     "output_type": "error",
     "ename": "SyntaxError",
     "evalue": "invalid syntax (<ipython-input-1-3f293614bf4d>, line 1)",
     "traceback": [
      "\u001b[1;36m  File \u001b[1;32m\"<ipython-input-1-3f293614bf4d>\"\u001b[1;36m, line \u001b[1;32m1\u001b[0m\n\u001b[1;33m    def 함수이름 (parameter 1, 2 ...):\u001b[0m\n\u001b[1;37m                        ^\u001b[0m\n\u001b[1;31mSyntaxError\u001b[0m\u001b[1;31m:\u001b[0m invalid syntax\n"
     ]
    }
   ],
   "source": [
    "# 구조\n",
    "def 함수이름 (parameter 1, 2 ...):\n",
    "    수행문\n",
    "    수행문\n",
    "    return 반환값"
   ]
  },
  {
   "cell_type": "code",
   "execution_count": 2,
   "metadata": {},
   "outputs": [
    {
     "output_type": "stream",
     "name": "stdout",
     "text": [
      "사각형 x의 길이:  10\n사각형 y의 길이:  20\n사각형의 넓이:  200\n"
     ]
    }
   ],
   "source": [
    "# 예시\n",
    "def calculate_rectangle_area(x, y):\n",
    "    return x*y\n",
    "\n",
    "rectangle_x = 10\n",
    "rectangle_y = 20\n",
    "\n",
    "print('사각형 x의 길이: ', rectangle_x)\n",
    "print('사각형 y의 길이: ', rectangle_y)\n",
    "\n",
    "# 넓이를 구하는 함수 호출\n",
    "print('사각형의 넓이: ', calculate_rectangle_area(rectangle_x, rectangle_y))"
   ]
  },
  {
   "cell_type": "code",
   "execution_count": 3,
   "metadata": {},
   "outputs": [
    {
     "output_type": "stream",
     "name": "stdout",
     "text": [
      "11 4 15 121\n"
     ]
    }
   ],
   "source": [
    "def f(x):\n",
    "    return 2*x +7\n",
    "def g(x):\n",
    "    return x**2\n",
    "\n",
    "x = 2\n",
    "print(f(x), g(x), f(g(x)), g(f(x)))"
   ]
  },
  {
   "source": [
    "### 함수 형태"
   ],
   "cell_type": "markdown",
   "metadata": {}
  },
  {
   "cell_type": "code",
   "execution_count": 6,
   "metadata": {},
   "outputs": [
    {
     "output_type": "stream",
     "name": "stdout",
     "text": [
      "35\n35\n"
     ]
    },
    {
     "output_type": "execute_result",
     "data": {
      "text/plain": [
       "35"
      ]
     },
     "metadata": {},
     "execution_count": 6
    }
   ],
   "source": [
    "def a():                       # Parameter: X, Return: X\n",
    "    print(5 * 7)\n",
    "def b(x, y):                   # Parameter: O, Return: X\n",
    "    print(x * y)\n",
    "def c():                       # Parameter: X, Return: O\n",
    "    return(5 * 7)\n",
    "def d(x, y):                   # Parameter: O, Return: O\n",
    "    return(x * y)\n",
    "\n",
    "\n",
    "a()\n",
    "b(5, 7)\n",
    "c()\n",
    "d(5, 7)"
   ]
  },
  {
   "source": [
    "## (중요)return 값이 없으므로 None출력"
   ],
   "cell_type": "markdown",
   "metadata": {}
  },
  {
   "cell_type": "code",
   "execution_count": 7,
   "metadata": {},
   "outputs": [
    {
     "output_type": "stream",
     "name": "stdout",
     "text": [
      "35\nNone\n"
     ]
    }
   ],
   "source": [
    "def a():\n",
    "    print(5*7)\n",
    "\n",
    "print(a()) # return 값이 없으므로 None출력(중요)"
   ]
  },
  {
   "cell_type": "code",
   "execution_count": 9,
   "metadata": {},
   "outputs": [
    {
     "output_type": "stream",
     "name": "stdout",
     "text": [
      "None\n[1, 2, 3, 4, 5]\n"
     ]
    }
   ],
   "source": [
    "list_test = [5,4,3,2,1]\n",
    "\n",
    "print(list_test.sort()) # sort() 함수도 정렬을 해주는 거지 return 값은 x\n",
    "\n",
    "print(list_test)"
   ]
  },
  {
   "source": [
    "### 함수 안에서 변수의 범위\n",
    "변수가 사용되는 범위 (함수 또는 메인 프로그램) <br>\n",
    "지역변수(Local variable) : 함수 내에서만 사용 <br>\n",
    "전역변수(Global variable) : 프로그램 전체에서 사용"
   ],
   "cell_type": "markdown",
   "metadata": {}
  },
  {
   "cell_type": "code",
   "execution_count": 10,
   "metadata": {},
   "outputs": [
    {
     "output_type": "stream",
     "name": "stdout",
     "text": [
      "Before test x =  10\nIn function:  20\nAfter test x =  10\n"
     ]
    }
   ],
   "source": [
    "def test(t): # t는 지역변수\n",
    "    t = 20\n",
    "    print('In function: ', t)\n",
    "\n",
    "x = 10 # x는 전역변수\n",
    "print('Before test x = ', x)\n",
    "test(x)\n",
    "print('After test x = ', x)"
   ]
  },
  {
   "cell_type": "code",
   "execution_count": 12,
   "metadata": {},
   "outputs": [
    {
     "output_type": "stream",
     "name": "stdout",
     "text": [
      "I love London!\nI love Paris!\n"
     ]
    }
   ],
   "source": [
    "# 전역 변수는 함수에서 사용 가능\n",
    "# BUT 함수 내에 전역 변수와 같은 이름의 변수를 선언하면 새로운 지역 변수가 생김\n",
    "\n",
    "def f():\n",
    "    s = 'I love London!' # 지역변수\n",
    "    print(s)\n",
    "\n",
    "s = 'I love Paris!' # 전역변수\n",
    "f() # 위 전역변수 s를 사용할 것 같지만 함수내에 이미 같은 이름의 지역변수가 존재 그걸 사용\n",
    "print(s) # 전역변수 s를 출력"
   ]
  },
  {
   "cell_type": "code",
   "execution_count": 13,
   "metadata": {},
   "outputs": [
    {
     "output_type": "stream",
     "name": "stdout",
     "text": [
      "I love London!\nI love London!\n"
     ]
    }
   ],
   "source": [
    "# 함수 내에서 전역 변수 사용 시 global 키워드 사용\n",
    "\n",
    "def f():\n",
    "    global s # 이 함수 출력 이후 지역변수였던 s는 전역변수로 선언\n",
    "    s = 'I love London!' # 지역변수\n",
    "    print(s)\n",
    "\n",
    "s = 'I love Paris!' # 전역변수\n",
    "f() # 이 시점부터 함수내 지역변수가 전역변수가 된다.\n",
    "print(s) # 지역변수였던 s가 전역변수가 됨"
   ]
  },
  {
   "source": [
    "### 재귀함수\n",
    "자기자신을 호출하는 함수 <br>\n",
    "점화식과 같은 재귀적 수학 모형을 표현할 때 사용 <br>\n",
    "재귀 종료 조건 존재, 종료 조건까지 함수 호출 반복 <br>"
   ],
   "cell_type": "markdown",
   "metadata": {}
  },
  {
   "cell_type": "code",
   "execution_count": 14,
   "metadata": {},
   "outputs": [
    {
     "output_type": "execute_result",
     "data": {
      "text/plain": [
       "24"
      ]
     },
     "metadata": {},
     "execution_count": 14
    }
   ],
   "source": [
    "def factorial(n):\n",
    "    if n == 1:\n",
    "        return 1\n",
    "    else:\n",
    "        return n * factorial(n-1) # n이 1이될 때까지 진행\n",
    "\n",
    "a = int(input('Input number for factorial calculation: '))\n",
    "factorial(a)"
   ]
  },
  {
   "source": [
    "## Passing arguments(함수 변수 종류)\n",
    "### 1) Keyword arguments\n",
    "함수에 입력되는 parameter의 변수명을 사용, arguments를 넘김"
   ],
   "cell_type": "markdown",
   "metadata": {}
  },
  {
   "cell_type": "code",
   "execution_count": 15,
   "metadata": {},
   "outputs": [
    {
     "output_type": "stream",
     "name": "stdout",
     "text": [
      "Hello Tom, My name is David\nHello Tom, My name is David\n"
     ]
    }
   ],
   "source": [
    "def print_something(my_name, your_name): # keyword argument(변수에 이름) 지정\n",
    "    print('Hello {0}, My name is {1}'.format(your_name, my_name))\n",
    "\n",
    "print_something('David', 'Tom')\n",
    "print_something(your_name='Tom', my_name='David') # 파라미터의 변수명을 직접 지정해 넣어줌"
   ]
  },
  {
   "source": [
    "### 2) Default arguments\n",
    "parameter의 기본값을 사용, 입력하지 않을 경우 기본값 출력"
   ],
   "cell_type": "markdown",
   "metadata": {}
  },
  {
   "cell_type": "code",
   "execution_count": 16,
   "metadata": {},
   "outputs": [
    {
     "output_type": "stream",
     "name": "stdout",
     "text": [
      "Hello kate, My name is David\nHello Jay, My name is David\n"
     ]
    }
   ],
   "source": [
    "def print_something_2(my_name, your_name='kate'): # your_name 입력이 없을 때 사용하는 default값을 지정\n",
    "    print('Hello {0}, My name is {1}'.format(your_name, my_name))\n",
    "\n",
    "print_something_2('David') # your_name은 지정을 안해줘서 기본값을 사용\n",
    "print_something_2('David', 'Jay') # your_name의 default값을 사용않고 입력"
   ]
  },
  {
   "source": [
    "### 3) Variable-length arguments(입력받을 변수의 갯수를 정하지 않을 때)\n",
    "가변 인자 (Variable-length) <br> <br>\n",
    "\n",
    "개수가 정해지지 않은 변수를 함수의 parameter로 사용하는 법 <br>\n",
    "Keyword arguments와 함께, argument 추가가 가능 <br>\n",
    "Asterisk(*) 기호를 사용하여 함수의 parameter를 표시함 <br>\n",
    "입력된 값은 tuple type 으로 사용할 수 있음 <br>\n",
    "가변인자는 오직 한 개만 맨 마지막 parameter 위치에 사용 가능"
   ],
   "cell_type": "markdown",
   "metadata": {}
  },
  {
   "cell_type": "code",
   "execution_count": 17,
   "metadata": {},
   "outputs": [
    {
     "output_type": "stream",
     "name": "stdout",
     "text": [
      "15\n"
     ]
    }
   ],
   "source": [
    "def asterisk_test(a, b, *args): # *로 가변인자 지정, 이 변수는 튜플로 몇개라도 들어옴\n",
    "    return(a + b + sum(args))\n",
    "\n",
    "print(asterisk_test(1,2,3,4,5))"
   ]
  },
  {
   "cell_type": "code",
   "execution_count": 18,
   "metadata": {},
   "outputs": [
    {
     "output_type": "stream",
     "name": "stdout",
     "text": [
      "(3, 4, 5)\n"
     ]
    }
   ],
   "source": [
    "# 가변인자 반환(튜플)\n",
    "def asterisk_test(a, b, *args):\n",
    "    return args\n",
    "\n",
    "print(asterisk_test(1,2,3,4,5))"
   ]
  },
  {
   "cell_type": "code",
   "execution_count": 20,
   "metadata": {},
   "outputs": [
    {
     "output_type": "stream",
     "name": "stdout",
     "text": [
      "3\n"
     ]
    }
   ],
   "source": [
    "def asterisk_test(a, b, *args):\n",
    "    return args[0]\n",
    "\n",
    "print(asterisk_test(1,2,3,4,5))"
   ]
  },
  {
   "cell_type": "code",
   "execution_count": 22,
   "metadata": {},
   "outputs": [
    {
     "output_type": "stream",
     "name": "stdout",
     "text": [
      "(1, 2, 3)\n"
     ]
    }
   ],
   "source": [
    "# 가변인자 응용(unpacking으로 여러 변수 만들기)\n",
    "def asterisk_test_2(*args):\n",
    "    x, y, z = args\n",
    "    return x, y, z\n",
    "\n",
    "print(asterisk_test_2(1,2,3))"
   ]
  },
  {
   "cell_type": "code",
   "execution_count": 23,
   "metadata": {},
   "outputs": [
    {
     "output_type": "error",
     "ename": "ValueError",
     "evalue": "too many values to unpack (expected 3)",
     "traceback": [
      "\u001b[1;31m---------------------------------------------------------------------------\u001b[0m",
      "\u001b[1;31mValueError\u001b[0m                                Traceback (most recent call last)",
      "\u001b[1;32m<ipython-input-23-f2974d1c54d6>\u001b[0m in \u001b[0;36m<module>\u001b[1;34m\u001b[0m\n\u001b[0;32m      4\u001b[0m     \u001b[1;32mreturn\u001b[0m \u001b[0mx\u001b[0m\u001b[1;33m,\u001b[0m \u001b[0my\u001b[0m\u001b[1;33m,\u001b[0m \u001b[0mz\u001b[0m\u001b[1;33m\u001b[0m\u001b[1;33m\u001b[0m\u001b[0m\n\u001b[0;32m      5\u001b[0m \u001b[1;33m\u001b[0m\u001b[0m\n\u001b[1;32m----> 6\u001b[1;33m \u001b[0mprint\u001b[0m\u001b[1;33m(\u001b[0m\u001b[0masterisk_test_2\u001b[0m\u001b[1;33m(\u001b[0m\u001b[1;36m1\u001b[0m\u001b[1;33m,\u001b[0m\u001b[1;36m2\u001b[0m\u001b[1;33m,\u001b[0m\u001b[1;36m3\u001b[0m\u001b[1;33m,\u001b[0m \u001b[1;36m4\u001b[0m\u001b[1;33m)\u001b[0m\u001b[1;33m)\u001b[0m\u001b[1;33m\u001b[0m\u001b[1;33m\u001b[0m\u001b[0m\n\u001b[0m",
      "\u001b[1;32m<ipython-input-23-f2974d1c54d6>\u001b[0m in \u001b[0;36masterisk_test_2\u001b[1;34m(*args)\u001b[0m\n\u001b[0;32m      1\u001b[0m \u001b[1;31m# 가변인자 응용(unpacking 사용시 반드시 길이를 맞춰 입력해줘야함)\u001b[0m\u001b[1;33m\u001b[0m\u001b[1;33m\u001b[0m\u001b[1;33m\u001b[0m\u001b[0m\n\u001b[0;32m      2\u001b[0m \u001b[1;32mdef\u001b[0m \u001b[0masterisk_test_2\u001b[0m\u001b[1;33m(\u001b[0m\u001b[1;33m*\u001b[0m\u001b[0margs\u001b[0m\u001b[1;33m)\u001b[0m\u001b[1;33m:\u001b[0m\u001b[1;33m\u001b[0m\u001b[1;33m\u001b[0m\u001b[0m\n\u001b[1;32m----> 3\u001b[1;33m     \u001b[0mx\u001b[0m\u001b[1;33m,\u001b[0m \u001b[0my\u001b[0m\u001b[1;33m,\u001b[0m \u001b[0mz\u001b[0m \u001b[1;33m=\u001b[0m \u001b[0margs\u001b[0m\u001b[1;33m\u001b[0m\u001b[1;33m\u001b[0m\u001b[0m\n\u001b[0m\u001b[0;32m      4\u001b[0m     \u001b[1;32mreturn\u001b[0m \u001b[0mx\u001b[0m\u001b[1;33m,\u001b[0m \u001b[0my\u001b[0m\u001b[1;33m,\u001b[0m \u001b[0mz\u001b[0m\u001b[1;33m\u001b[0m\u001b[1;33m\u001b[0m\u001b[0m\n\u001b[0;32m      5\u001b[0m \u001b[1;33m\u001b[0m\u001b[0m\n",
      "\u001b[1;31mValueError\u001b[0m: too many values to unpack (expected 3)"
     ]
    }
   ],
   "source": [
    "# 가변인자 응용 오류(unpacking 사용시 반드시 길이를 맞춰 입력해줘야함)\n",
    "def asterisk_test_2(*args):\n",
    "    x, y, z = args\n",
    "    return x, y, z\n",
    "\n",
    "print(asterisk_test_2(1,2,3,4))"
   ]
  },
  {
   "source": [
    "### 4) 키워드 가변 인자(Keyword variable-length)(키워드와 가변인자 응용)\n",
    "Parameter 이름을 따로 지정하지 않고 입력하는 방법 <br>\n",
    "Asterisk(*) 두 개를 사용하여 함수의 parameter 를 표시함 <br>\n",
    "입력된 값은 dict type으로 사용할 수 있음 <br>\n",
    "키워드 가변 인자는 오직 한 개만 기존 가변인자 다음에 사용"
   ],
   "cell_type": "markdown",
   "metadata": {}
  },
  {
   "cell_type": "code",
   "execution_count": 26,
   "metadata": {},
   "outputs": [
    {
     "output_type": "stream",
     "name": "stdout",
     "text": [
      "{'first': 3, 'second': 4, 'third': 5}\n{'first': 3, 'second': 4, 'third': 5}\nFirst value is 3\nSecond value is 4\nThird value is 5\n"
     ]
    }
   ],
   "source": [
    "# 키워드 가변인자를 받아서 그대로 출력\n",
    "def kwargs_test_1(**kwargs): # 키워드 가변인자 지정\n",
    "    print(kwargs)\n",
    "\n",
    "def kwargs_test_2(**kwargs):\n",
    "    print(kwargs)\n",
    "    print('First value is {first}'.format(**kwargs))\n",
    "    print('Second value is {second}'.format(**kwargs))\n",
    "    print('Third value is {third}'.format(**kwargs))\n",
    "\n",
    "kwargs_test_1(first=3, second=4, third=5) # dict 형태로 넣어줘야 함\n",
    "kwargs_test_2(first=3, second=4, third=5)"
   ]
  },
  {
   "cell_type": "code",
   "execution_count": 27,
   "metadata": {},
   "outputs": [
    {
     "output_type": "stream",
     "name": "stdout",
     "text": [
      "42\n{'first': 3, 'second': 4, 'third': 5}\n"
     ]
    }
   ],
   "source": [
    "# 모든 arguments를 사용한 예\n",
    "def kwargs_test_3(one, two, *args, **kwargs):\n",
    "    print(one + two + sum(args))\n",
    "    print(kwargs)\n",
    "\n",
    "# 3,4는 one과 two에 / 5:9는 *args에 / dict형은 **kwargs에 저장\n",
    "kwargs_test_3(3,4,5,6,7,8,9, first=3, second=4, third=5)"
   ]
  }
 ]
}