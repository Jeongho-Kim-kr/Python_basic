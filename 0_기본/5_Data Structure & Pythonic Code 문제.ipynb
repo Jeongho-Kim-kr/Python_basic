{
 "cells": [
  {
   "cell_type": "code",
   "execution_count": 61,
   "metadata": {},
   "outputs": [
    {
     "output_type": "stream",
     "name": "stdout",
     "text": [
      "3 3\n6 6\n"
     ]
    }
   ],
   "source": [
    "# 1\n",
    "my_list =[1,2,3,4,5,6,7,8,9]\n",
    "my_dict = {0:1,1:2,2:3,3:4,4:5,5:6,6:7,7:8,8:9}\n",
    "print(my_list[2], my_dict[2])\n",
    "print(my_list[5], my_dict[5])"
   ]
  },
  {
   "cell_type": "code",
   "execution_count": 62,
   "metadata": {},
   "outputs": [
    {
     "output_type": "execute_result",
     "data": {
      "text/plain": [
       "{1: 0, 2: 1, 3: 2, 4: 3, 5: 4, 6: 5, 7: 6, 8: 7, 9: 8}"
      ]
     },
     "metadata": {},
     "execution_count": 62
    }
   ],
   "source": [
    "# 2\n",
    "my_dict2 = {}\n",
    "for key, value in enumerate(my_dict):\n",
    "    my_dict2[key + 1] = value\n",
    "my_dict2"
   ]
  },
  {
   "cell_type": "code",
   "execution_count": 63,
   "metadata": {},
   "outputs": [
    {
     "output_type": "stream",
     "name": "stdout",
     "text": [
      "{'the', 'dog', 'jumps', 'The'}\n"
     ]
    }
   ],
   "source": [
    "# 3\n",
    "a = 'The quick brown fox jumps over the lazy dog'\n",
    "b = 'The dog jumps into the deep black hole'\n",
    "\n",
    "set_a = set(a.split())\n",
    "set_b = set(b.split())\n",
    "print(set_a.intersection(set_b))"
   ]
  },
  {
   "cell_type": "code",
   "execution_count": 67,
   "metadata": {},
   "outputs": [
    {
     "output_type": "stream",
     "name": "stdout",
     "text": [
      "3.3421052631578947\n3.3684210526315788\n"
     ]
    }
   ],
   "source": [
    "# 4\n",
    "X1 = [3.5, 4.5 ,4.0 ,3.0 ,2.5, 2.5, 3.5]\n",
    "W1 = [3, 3, 2, 2, 3, 3, 3]\n",
    "print(sum([x*w for x, w in zip(X1, W1)])/sum(W1))\n",
    "\n",
    "\n",
    "def gpa(X, W):\n",
    "    gpa = sum([x*w for x, w in zip(X, W)])/sum(W)\n",
    "    return gpa\n",
    "\n",
    "X2 = [2.5, 0.0, 4.5, 4.0, 4.5, 4.5, 3.0]\n",
    "W2 = [1, 3, 3, 3, 3, 3, 3]\n",
    "print(gpa(X2, W2))"
   ]
  },
  {
   "cell_type": "code",
   "execution_count": 70,
   "metadata": {},
   "outputs": [
    {
     "output_type": "stream",
     "name": "stdout",
     "text": [
      "0.5595238095238094\n2.7380952380952377\n"
     ]
    }
   ],
   "source": [
    "# 5\n",
    "X1 = [3.5, 4.5 ,4.0 ,3.0 ,2.5, 2.5, 3.5]\n",
    "mean1 = sum(X1)/len(X1)\n",
    "v1 = sum((x-mean1)**2 for x in X1)/(len(X1)-1)\n",
    "print(v1)\n",
    "\n",
    "\n",
    "def var(X):\n",
    "    mean = sum(X)/len(X)\n",
    "    v = sum((x-mean)**2 for x in X)/(len(X)-1)\n",
    "    return v\n",
    "\n",
    "X2 = [2.5, 0.0, 4.5, 4.0, 4.5, 4.5, 3.0]\n",
    "print(var(X2))"
   ]
  },
  {
   "cell_type": "code",
   "execution_count": 77,
   "metadata": {},
   "outputs": [
    {
     "output_type": "stream",
     "name": "stdout",
     "text": [
      "3.215457528253737\n1.917808219178082\n"
     ]
    }
   ],
   "source": [
    "# 6\n",
    "X1 = [3.5, 4.5 ,4.0 ,3.0 ,2.5, 2.5, 3.5]\n",
    "h1 = len(X1)/sum(1/x for x in X1)\n",
    "print(h1)\n",
    "\n",
    "\n",
    "def har(X):\n",
    "    h = len(X)/sum(1/x for x in X)\n",
    "    return h\n",
    "\n",
    "X2 = [2.5, 0.5, 4.5, 4.0, 4.5, 4.5, 3.0]\n",
    "print(har(X2))"
   ]
  },
  {
   "cell_type": "code",
   "execution_count": null,
   "metadata": {},
   "outputs": [],
   "source": []
  }
 ],
 "metadata": {
  "kernelspec": {
   "name": "python392jvsc74a57bd063fd5069d213b44bf678585dea6b12cceca9941eaf7f819626cde1f2670de90d",
   "display_name": "Python 3.9.2 64-bit"
  },
  "language_info": {
   "codemirror_mode": {
    "name": "ipython",
    "version": 3
   },
   "file_extension": ".py",
   "mimetype": "text/x-python",
   "name": "python",
   "nbconvert_exporter": "python",
   "pygments_lexer": "ipython3",
   "version": "3.9.2"
  }
 },
 "nbformat": 4,
 "nbformat_minor": 4
}