{
 "metadata": {
  "language_info": {
   "codemirror_mode": {
    "name": "ipython",
    "version": 3
   },
   "file_extension": ".py",
   "mimetype": "text/x-python",
   "name": "python",
   "nbconvert_exporter": "python",
   "pygments_lexer": "ipython3",
   "version": "3.9.2"
  },
  "orig_nbformat": 2,
  "kernelspec": {
   "name": "python392jvsc74a57bd063fd5069d213b44bf678585dea6b12cceca9941eaf7f819626cde1f2670de90d",
   "display_name": "Python 3.9.2 64-bit"
  }
 },
 "nbformat": 4,
 "nbformat_minor": 2,
 "cells": [
  {
   "source": [
    "# String Overview\n",
    "## String(문자열)\n",
    "숫자와 마찬가지로 파이썬에서 기본이 되는 자료형 <br>\n",
    "사람이 읽을 수 있는 텍스트를 의미 <br>\n",
    "정수형 처럼 보이는 자료도 문자열인 경우가 있다 <br><br>\n",
    "\n",
    "시퀀스 자료형으로 문자형 data를 메모리에 저장 <br>\n",
    "영문자 한 글자는 1byte의 메모리 공간을 사용"
   ],
   "cell_type": "markdown",
   "metadata": {}
  },
  {
   "source": [],
   "cell_type": "markdown",
   "metadata": {}
  },
  {
   "cell_type": "code",
   "execution_count": 1,
   "metadata": {},
   "outputs": [
    {
     "output_type": "stream",
     "name": "stdout",
     "text": [
      "50 51 52\n"
     ]
    }
   ],
   "source": [
    "import sys # sys 모듈을 호출\n",
    "print(sys.getsizeof('a'), sys.getsizeof('ab'), sys.getsizeof('abc')) # 49byte는 저장을 위한 기본적인 공간"
   ]
  },
  {
   "source": [
    "### 1 byte의 메모리 공간\n",
    "컴퓨터는 2진수로 데이터를 저장 <br>\n",
    "이진수 한 자릿수는 1bit <br>\n",
    "즉, 1 bit는 0 또는 1 <br>\n",
    "1 byte = 8 bit = 28 =256 까지 저장 가능 <br> <br>\n",
    "\n",
    "컴퓨터는 문자를 직접적으로 인식 X <br>\n",
    "모든 데이터는 2진수로 인식 <br>\n",
    "이를 위해 2진수를 문자로 변환하는 표준 규칙을 정함 <br>\n",
    "이러한 규칙에 따라 문자를 2진수로 변환하여 저장하거나 저장된 2진수를 숫자로 변환하여 표시 <br> <br>\n",
    "\n",
    "Ex) 대문자 U는 이진수로 “1000011” 변환(UTF-8) <br>\n",
    "파일을 읽어올 때는 그 파일의 인코딩 방식과 함께 불러와야 한글을 읽을 때, 오류가 발생하지 않음"
   ],
   "cell_type": "markdown",
   "metadata": {}
  },
  {
   "source": [
    "## String(문자열)의 특징\n",
    "### Indexing(인덱싱)\n",
    "문자열의 각 문자는 개별 주소(offset)를 가짐 <br>\n",
    "이 주소를 사용해 할당된 값을 가져오는 것이 인덱싱 <br>\n",
    "List와 같은 형태로 데이터를 처리함"
   ],
   "cell_type": "markdown",
   "metadata": {}
  },
  {
   "cell_type": "code",
   "execution_count": 2,
   "metadata": {},
   "outputs": [
    {
     "output_type": "stream",
     "name": "stdout",
     "text": [
      "a e\ne a\n"
     ]
    }
   ],
   "source": [
    "a = 'abcde'\n",
    "print(a[0], a[4])\n",
    "print(a[-1], a[-5])"
   ]
  },
  {
   "source": [
    "### Slicing(슬라이싱)\n",
    "문자열의 주소값을 기반으로 문자열의 부분값을 반환"
   ],
   "cell_type": "markdown",
   "metadata": {}
  },
  {
   "cell_type": "code",
   "execution_count": 3,
   "metadata": {},
   "outputs": [
    {
     "output_type": "stream",
     "name": "stdout",
     "text": [
      "Inha AND U\nInha University\nInha University\nIh nvriy AND ytisrevinU ahnI\n"
     ]
    }
   ],
   "source": [
    "a = 'Inha University'\n",
    "\n",
    "print(a[0:4], 'AND', a[-10])   # a 변수를 0부터 3까지, -10부터 끝까지\n",
    "print(a[:])                    # a 변수를 처음부터 끝까지\n",
    "print(a[-50:50])               # 범위를 넘어갈 경우 자동으로 최대 범위 지점\n",
    "print(a[::2], 'AND', a[::-1])  # 2칸 단위로, 역으로 슬라이싱"
   ]
  },
  {
   "source": [
    "### 문자열 연산 및 포함여부 검사\n",
    "덧셈과 곱셈 연산 가능 / in 명령으로 포함 여부 체크"
   ],
   "cell_type": "markdown",
   "metadata": {}
  },
  {
   "cell_type": "code",
   "execution_count": 5,
   "metadata": {},
   "outputs": [
    {
     "output_type": "stream",
     "name": "stdout",
     "text": [
      "TEAM INCHEON\nTEAMTEAM INCHEONINCHEON\nYES\n"
     ]
    }
   ],
   "source": [
    "a = 'TEAM'\n",
    "b = 'INCHEON'\n",
    "print(a + ' '+ b)           # 덧셈으로 a와 b의 변수 연결\n",
    "print(a*2 + ' ' + b*2)      # 곱셈으로 반복 연산 가능\n",
    "\n",
    "if 'A' in a:                # a 안에 'A'가 포함되었는지 확인\n",
    "    print('YES')\n",
    "else:\n",
    "    print('NO')"
   ]
  },
  {
   "source": [
    "## String(문자열) 함수 예제"
   ],
   "cell_type": "markdown",
   "metadata": {}
  },
  {
   "cell_type": "code",
   "execution_count": 8,
   "metadata": {},
   "outputs": [
    {
     "output_type": "stream",
     "name": "stdout",
     "text": [
      "MY NAEM IS ROSSUM\nMy naem is rossum\nMy Naem Is Rossum\n3\nFalse\n"
     ]
    }
   ],
   "source": [
    "a = 'my name is Rossum'\n",
    "\n",
    "print(a.upper())\n",
    "print(a.capitalize())\n",
    "print(a.title())\n",
    "print(a.count('m'))\n",
    "print(a.startswith('na'))"
   ]
  },
  {
   "cell_type": "code",
   "execution_count": 11,
   "metadata": {},
   "outputs": [
    {
     "output_type": "stream",
     "name": "stdout",
     "text": [
      "my naem is Rossum\nMY NAEM IS ROSSUM\n"
     ]
    }
   ],
   "source": [
    "# 문자열 함수들은 원래의 문자열 변환시키지 않음\n",
    "# 단지 함수의 return값으로 결과를 반환\n",
    "# 따라서 새로운 변수에 저장해서 사용\n",
    "\n",
    "a = 'my name is Rossum'\n",
    "\n",
    "a.upper()\n",
    "print(a)\n",
    "\n",
    "a_upper = a.upper()\n",
    "print(a_upper)"
   ]
  },
  {
   "source": [
    "## String(문자열) 함수 : split\n",
    "split() 함수는 하나의 문자열을 나누어 본래 문자열을 구성하는 부분 문자열들의 리스트로 반환 <br>\n",
    "split() 함수에는 부가적인 인수 2개를 전달 가능 문자열 분할이 발생하는 문자/ 분할 수행 횟수 <br>"
   ],
   "cell_type": "markdown",
   "metadata": {}
  },
  {
   "cell_type": "code",
   "execution_count": 12,
   "metadata": {},
   "outputs": [
    {
     "output_type": "execute_result",
     "data": {
      "text/plain": [
       "['my', 'naem', 'is', 'Rossum']"
      ]
     },
     "metadata": {},
     "execution_count": 12
    }
   ],
   "source": [
    "a = 'my name is Rossum'\n",
    "b = a.split() # 괄호안에 아무것도 없으면 공백문자''로 나눈다.\n",
    "b"
   ]
  },
  {
   "cell_type": "code",
   "execution_count": 14,
   "metadata": {},
   "outputs": [
    {
     "output_type": "execute_result",
     "data": {
      "text/plain": [
       "['my ', ' is Rossum']"
      ]
     },
     "metadata": {},
     "execution_count": 14
    }
   ],
   "source": [
    "a = 'my name is Rossum'\n",
    "c = a.split('name')\n",
    "c"
   ]
  },
  {
   "cell_type": "code",
   "execution_count": 15,
   "metadata": {},
   "outputs": [
    {
     "output_type": "execute_result",
     "data": {
      "text/plain": [
       "['my ', ' is Rossum, your ', ' is Kate']"
      ]
     },
     "metadata": {},
     "execution_count": 15
    }
   ],
   "source": [
    "d = 'my name is Rossum, your name is Kate'\n",
    "d.split('name')"
   ]
  },
  {
   "cell_type": "code",
   "execution_count": 17,
   "metadata": {},
   "outputs": [
    {
     "output_type": "execute_result",
     "data": {
      "text/plain": [
       "['My', 'deliverable', 'is', 'due', 'in', 'May']"
      ]
     },
     "metadata": {},
     "execution_count": 17
    }
   ],
   "source": [
    "string1 = 'My deliverable is due in May'\n",
    "string1_list1 = string1.split()\n",
    "string1_list1"
   ]
  },
  {
   "cell_type": "code",
   "execution_count": 20,
   "metadata": {},
   "outputs": [
    {
     "output_type": "execute_result",
     "data": {
      "text/plain": [
       "['My', 'deliverable', 'is due in May']"
      ]
     },
     "metadata": {},
     "execution_count": 20
    }
   ],
   "source": [
    "# 두번째 인수, 분할 수행 횟수 지정\n",
    "# 2번 분할 > 3개의 문자열 생성\n",
    "string1 = 'My deliverable is due in May'\n",
    "string1_list2 = string1.split(' ', 2)\n",
    "string1_list2"
   ]
  },
  {
   "source": [
    "## String(문자열) 함수 : join\n",
    "리스트에 속한 부분 문자열들을 단일 문자열로 결합해주는 함수 <br>\n",
    "Join함수 앞에 하나의 인수를 받는다 <br>\n",
    "이 인수는 부분 문자열들이 결합될 때, 부분 문자열 사이에 입력될 문자(들)를 뜻한다"
   ],
   "cell_type": "markdown",
   "metadata": {}
  },
  {
   "cell_type": "code",
   "execution_count": 7,
   "metadata": {},
   "outputs": [
    {
     "output_type": "stream",
     "name": "stdout",
     "text": [
      "['My', 'deliverable', 'is due in May']\n"
     ]
    },
    {
     "output_type": "execute_result",
     "data": {
      "text/plain": [
       "'My deliverable is due in May'"
      ]
     },
     "metadata": {},
     "execution_count": 7
    }
   ],
   "source": [
    "string1 = 'My deliverable is due in May'\n",
    "string1_list1 = string1.split(' ', 2)\n",
    "print(string1_list1)\n",
    "' '.join(string1_list1)"
   ]
  },
  {
   "cell_type": "code",
   "execution_count": 5,
   "metadata": {},
   "outputs": [
    {
     "output_type": "stream",
     "name": "stdout",
     "text": [
      "['My', 'deliverable', 'is due in May']\n"
     ]
    },
    {
     "output_type": "execute_result",
     "data": {
      "text/plain": [
       "'My.deliverable.is due in May'"
      ]
     },
     "metadata": {},
     "execution_count": 5
    }
   ],
   "source": [
    "string1 = 'My deliverable is due in May'\n",
    "string1_list1 = string1.split(' ', 2)\n",
    "print(string1_list1)\n",
    "'.'.join(string1_list1)"
   ]
  },
  {
   "cell_type": "code",
   "execution_count": 8,
   "metadata": {},
   "outputs": [
    {
     "output_type": "stream",
     "name": "stdout",
     "text": [
      "['My', 'deliverable', 'is due in May']\n"
     ]
    },
    {
     "output_type": "execute_result",
     "data": {
      "text/plain": [
       "'My-deliverable-is due in May'"
      ]
     },
     "metadata": {},
     "execution_count": 8
    }
   ],
   "source": [
    "string1 = 'My deliverable is due in May'\n",
    "string1_list1 = string1.split(' ', 2)\n",
    "print(string1_list1)\n",
    "'-'.join(string1_list1)"
   ]
  },
  {
   "source": [
    "## String(문자열) 함수 : strip\n",
    "문자열의 끝에서 원하지 않는 문자를 지우는 방법 <br>\n",
    "인수로 삭제하고 싶은 문자를 인수로 받는다 <br>\n",
    "lstrip, rstrip, strip"
   ],
   "cell_type": "markdown",
   "metadata": {}
  },
  {
   "cell_type": "code",
   "execution_count": 29,
   "metadata": {},
   "outputs": [
    {
     "output_type": "stream",
     "name": "stdout",
     "text": [
      "   Remove  unwanted characters    from this string.\t\t  \n\n"
     ]
    }
   ],
   "source": [
    "string3 = '   Remove  unwanted characters    from this string.\\t\\t  \\n'\n",
    "print(string3)"
   ]
  },
  {
   "cell_type": "code",
   "execution_count": 31,
   "metadata": {},
   "outputs": [
    {
     "output_type": "execute_result",
     "data": {
      "text/plain": [
       "'Remove  unwanted characters    from this string.\\t\\t  \\n'"
      ]
     },
     "metadata": {},
     "execution_count": 31
    }
   ],
   "source": [
    "string3 = '   Remove  unwanted characters    from this string.\\t\\t  \\n'\n",
    "string3.lstrip() # 왼쪽 공백 삭제"
   ]
  },
  {
   "cell_type": "code",
   "execution_count": 32,
   "metadata": {},
   "outputs": [
    {
     "output_type": "execute_result",
     "data": {
      "text/plain": [
       "'   Remove  unwanted characters    from this string.'"
      ]
     },
     "metadata": {},
     "execution_count": 32
    }
   ],
   "source": [
    "string3 = '   Remove  unwanted characters    from this string.\\t\\t  \\n'\n",
    "string3.rstrip() # 오른쪽 공백 삭제"
   ]
  },
  {
   "cell_type": "code",
   "execution_count": 33,
   "metadata": {},
   "outputs": [
    {
     "output_type": "execute_result",
     "data": {
      "text/plain": [
       "'Remove  unwanted characters    from this string.'"
      ]
     },
     "metadata": {},
     "execution_count": 33
    }
   ],
   "source": [
    "string3 = '   Remove  unwanted characters    from this string.\\t\\t  \\n'\n",
    "string3.strip() # 앞 뒤 공백 삭제"
   ]
  },
  {
   "cell_type": "code",
   "execution_count": 1,
   "metadata": {},
   "outputs": [
    {
     "output_type": "execute_result",
     "data": {
      "text/plain": [
       "'Here is another string that has unwanted characters.'"
      ]
     },
     "metadata": {},
     "execution_count": 1
    }
   ],
   "source": [
    "# Ex) 인수로 “$_-+” 를 입력해서 이에 해당하는 문자열을 모두 삭제시켜준다\n",
    "string4 = '$$Here is another string that has unwanted characters.__---++'\n",
    "string4.strip('$_-+')"
   ]
  },
  {
   "source": [
    "## String(문자열) 함수 : replace\n",
    "문자열 내에 있는 하나의 문자나 문자 집합을 다른 문자 혹은 다른 문자 집합으로 치환하는 함수 <br> <br>\n",
    "\n",
    "2가지 인수 <br>\n",
    "1. 문자열 내에 존재하는 문자, 문자 집합 <br>\n",
    "2. 첫 번째 인수들을 대상으로 치환하고 싶은 문자, 문자집합"
   ],
   "cell_type": "markdown",
   "metadata": {}
  },
  {
   "cell_type": "code",
   "execution_count": 35,
   "metadata": {},
   "outputs": [
    {
     "output_type": "execute_result",
     "data": {
      "text/plain": [
       "\"Let's!@!replace!@!the!@!spaces!@!in!@!this!@!sentence!@!with!@!other!@!characters\""
      ]
     },
     "metadata": {},
     "execution_count": 35
    }
   ],
   "source": [
    "string5 = \"Let's replace the spaces in this sentence with other characters\"\n",
    "string5.replace(' ', '!@!')"
   ]
  },
  {
   "cell_type": "code",
   "execution_count": 36,
   "metadata": {},
   "outputs": [
    {
     "output_type": "execute_result",
     "data": {
      "text/plain": [
       "\"Let's,replace,the,spaces,in,this,sentence,with,other,characters\""
      ]
     },
     "metadata": {},
     "execution_count": 36
    }
   ],
   "source": [
    "string5 = \"Let's replace the spaces in this sentence with other characters\"\n",
    "string5.replace(' ', ',')"
   ]
  },
  {
   "source": [
    "## 다양한 문자열 표현\n",
    "문자열 선언은 큰 따옴표(“ “), 작은 따옴표(‘ ‘) 활용 <br> <br>\n",
    "### It’s Okay 이라는 문자열은 어떻게 표현할까?\n",
    "1. a = ‘It\\’s Okay’ <br>\n",
    "\t\\ 는 문자열 구분자가 아닌 출력 문자로 처리 <br> <br>\n",
    "\n",
    "2.  a = “It’s Okay” <br>\n",
    "\t큰 따옴표로 문자열 선언 후 작은 따옴표는 출력 문자로 사용  "
   ],
   "cell_type": "markdown",
   "metadata": {}
  },
  {
   "cell_type": "code",
   "execution_count": 2,
   "metadata": {},
   "outputs": [
    {
     "output_type": "execute_result",
     "data": {
      "text/plain": [
       "\"it's Okay.\""
      ]
     },
     "metadata": {},
     "execution_count": 2
    }
   ],
   "source": [
    "a = 'it\\'s Okay.'\n",
    "a"
   ]
  },
  {
   "source": [
    "### 두 줄 이상은 어떻게 저장할까?\n",
    "1. \\n  : 줄바꿈을 의미 하는 특수 문자 <br> <br>\n",
    "2. 큰 따옴표 또는 작은 따옴표 세 번 연속 사용"
   ],
   "cell_type": "markdown",
   "metadata": {}
  },
  {
   "cell_type": "code",
   "execution_count": 3,
   "metadata": {},
   "outputs": [
    {
     "output_type": "stream",
     "name": "stdout",
     "text": [
      "I'm okay\nI'm happy\nSee you\n"
     ]
    }
   ],
   "source": [
    "print(\"I'm okay\\nI'm happy\\nSee you\")"
   ]
  },
  {
   "cell_type": "code",
   "execution_count": 4,
   "metadata": {},
   "outputs": [
    {
     "output_type": "stream",
     "name": "stdout",
     "text": [
      "I'm okay\nI'm happy\nSee you\n"
     ]
    }
   ],
   "source": [
    "print(\"\"\"I'm okay\n",
    "I'm happy\n",
    "See you\"\"\")"
   ]
  },
  {
   "source": [
    "### 백슬래시 혹은 \\ : 이스케이프 문자"
   ],
   "cell_type": "markdown",
   "metadata": {}
  },
  {
   "cell_type": "code",
   "execution_count": 5,
   "metadata": {},
   "outputs": [
    {
     "output_type": "stream",
     "name": "stdout",
     "text": [
      "Hello    my name is Rossum\n"
     ]
    }
   ],
   "source": [
    "print(\"\"\"Hello\\\n",
    "    my name is Rossum\"\"\") # \\ + [Enter]: 다음 줄과 연속임"
   ]
  },
  {
   "cell_type": "code",
   "execution_count": 6,
   "metadata": {},
   "outputs": [
    {
     "output_type": "stream",
     "name": "stdout",
     "text": [
      "1000\\\n"
     ]
    }
   ],
   "source": [
    "print('1000\\\\') # \\\\: 이스케이프 문자가 아닌 \\ 자체를 문자열로 사용"
   ]
  },
  {
   "cell_type": "code",
   "execution_count": 7,
   "metadata": {},
   "outputs": [
    {
     "output_type": "stream",
     "name": "stdout",
     "text": [
      "0        \n"
     ]
    }
   ],
   "source": [
    "print('0        1\\b') # \\b: 백스페이스"
   ]
  },
  {
   "cell_type": "code",
   "execution_count": 8,
   "metadata": {},
   "outputs": [
    {
     "output_type": "stream",
     "name": "stdout",
     "text": [
      "1\n2\n3\n\n"
     ]
    }
   ],
   "source": [
    "print('1\\n2\\n3\\n') # \\n: 줄바꿈"
   ]
  },
  {
   "cell_type": "code",
   "execution_count": 10,
   "metadata": {},
   "outputs": [
    {
     "output_type": "stream",
     "name": "stdout",
     "text": [
      "tab\ttab\n"
     ]
    }
   ],
   "source": [
    "print('tab\\ttab') # \\t: [tab]키"
   ]
  },
  {
   "source": [
    "## txt 파일 불러오기\n",
    "“yesterday.txt” file 불러오기 <br> <br>\n",
    "\n",
    "파일을 경로에 맞게 저장하기 <br> <br>\n",
    "\n",
    "ipynb와 같은 위치"
   ],
   "cell_type": "markdown",
   "metadata": {}
  },
  {
   "cell_type": "code",
   "execution_count": 12,
   "metadata": {},
   "outputs": [
    {
     "output_type": "stream",
     "name": "stdout",
     "text": [
      "Yesterday\nAll my troubles seemed so far away\nNow it looks as though they're here to stay\nOh, I believe in yesterday\nSuddenly\nI'm not half the man I used to be\nThere's a shadow hanging over me\nOh, yesterday came suddenly\nWhy she had to go, I don't know\nShe wouldn't say\nI said something wrong\nNow I long for yesterday\nYesterday\nLove was such an easy game to play\nNow I need a place to hide away\nOh, I believe in yesterday\nWhy she had to go, I don't know\nShe wouldn't say\nI said something wrong\nNow I long for yesterday\nYesterday\nLove was such an easy game to play\nNow I need a place to hide away\nOh, I believe in yesterday\n\n"
     ]
    }
   ],
   "source": [
    "f = open('yesterday.txt', 'r')\n",
    "\n",
    "yesterday_lyric = ''\n",
    "while 1:\n",
    "    line = f.readline()\n",
    "    if not line:\n",
    "        break\n",
    "    yesterday_lyric = yesterday_lyric + line.strip() + '\\n'\n",
    "f.close()\n",
    "print(yesterday_lyric)"
   ]
  }
 ]
}