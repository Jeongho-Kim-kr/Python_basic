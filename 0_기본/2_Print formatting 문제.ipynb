{
 "cells": [
  {
   "cell_type": "code",
   "execution_count": 4,
   "metadata": {},
   "outputs": [
    {
     "output_type": "stream",
     "name": "stdout",
     "text": [
      "학과 : 1 학번 : 2 이름 : 3\n"
     ]
    }
   ],
   "source": [
    "# 1\n",
    "major = input('학과를 입력하세요 :')\n",
    "number = input('학번을 입력하세요 :')\n",
    "name = input('이름을 입력하세요 :')\n",
    "\n",
    "print('학과 : {} 학번 : {} 이름 : {}'.format(major, number, name))"
   ]
  },
  {
   "cell_type": "code",
   "execution_count": 5,
   "metadata": {},
   "outputs": [
    {
     "output_type": "stream",
     "name": "stdout",
     "text": [
      "Name : Tom, Age : 23, Department : finance\n"
     ]
    }
   ],
   "source": [
    "# 2\n",
    "name = 'Tom'\n",
    "age = 23\n",
    "department = 'finance'\n",
    "\n",
    "print('Name : %s, Age : %d, Department : %s' % (name, age, department))"
   ]
  },
  {
   "cell_type": "code",
   "execution_count": 6,
   "metadata": {},
   "outputs": [
    {
     "output_type": "stream",
     "name": "stdout",
     "text": [
      "찬성의 득표수는 245684 표이고, 반대의 득표수는 152444 표이다. 그리고 총 찬성득표비율은 61.70980%이다.\n"
     ]
    }
   ],
   "source": [
    "# 3\n",
    "pros = 245684\n",
    "cons = 152444\n",
    "rate = (pros / (pros + cons)) * 100\n",
    "print('''찬성의 득표수는 {1:6d} 표이고, 반대의 득표수는 {2:6d} 표이다. 그리고 총 찬성득표비율은 {0:.5f}%이다.'''.format(rate, pros, cons))"
   ]
  },
  {
   "cell_type": "code",
   "execution_count": 7,
   "metadata": {},
   "outputs": [
    {
     "output_type": "stream",
     "name": "stdout",
     "text": [
      "4 9\n10\n"
     ]
    }
   ],
   "source": [
    "# 4\n",
    "num_list = [1,2,3,4,5,6,7,8,9,10]\n",
    "print(num_list[3], num_list[8])\n",
    "print(len(num_list))"
   ]
  },
  {
   "cell_type": "code",
   "execution_count": 8,
   "metadata": {},
   "outputs": [
    {
     "output_type": "stream",
     "name": "stdout",
     "text": [
      "[10, 8, 6, 4]\n"
     ]
    }
   ],
   "source": [
    "# 5\n",
    "new_list = num_list[:]\n",
    "print(new_list[10:2:-2])"
   ]
  },
  {
   "cell_type": "code",
   "execution_count": 9,
   "metadata": {},
   "outputs": [
    {
     "output_type": "stream",
     "name": "stdout",
     "text": [
      "['지호', '도윤', '하준', '서준', '준우', '민준', '하윤', '서윤', '수아']\n"
     ]
    }
   ],
   "source": [
    "# 6\n",
    "name1 = ['도윤', '하준', '서준', '시우', '민준']\n",
    "name2 = ['하윤', '서윤', '서연', '하은', '지유']\n",
    "\n",
    "name = name1 + name2\n",
    "name.remove('시우')\n",
    "del name[6:]\n",
    "name.insert(0,'지호')\n",
    "name.insert(4,'준우')\n",
    "name.insert(9,'수아')\n",
    "\n",
    "print(name)"
   ]
  },
  {
   "cell_type": "code",
   "execution_count": 10,
   "metadata": {},
   "outputs": [
    {
     "output_type": "stream",
     "name": "stdout",
     "text": [
      "55 78\n"
     ]
    }
   ],
   "source": [
    "# 7\n",
    "Brooke = [67, 50, 94]\n",
    "Lydia = [88, 48, 55]\n",
    "Stella = [69, 66, 76]\n",
    "Lucy = [95, 78, 68]\n",
    "midterm_score = [Brooke, Lydia, Stella, Lucy]\n",
    "\n",
    "print(midterm_score[1][2], midterm_score[3][1])"
   ]
  },
  {
   "cell_type": "code",
   "execution_count": 11,
   "metadata": {},
   "outputs": [
    {
     "output_type": "stream",
     "name": "stdout",
     "text": [
      "이 수는 홀수 입니다.\n이 수는 5보다 작은 수 입니다.\n"
     ]
    }
   ],
   "source": [
    "# 8\n",
    "def input_num():\n",
    "    users_input = int(input('1부터 10까지의 숫자를 입력해주세요 :'))\n",
    "    while users_input < 1 or users_input > 10:\n",
    "        users_input = int(input('1부터 10까지의 숫자를 다시 입력해주세요 :'))\n",
    "    return users_input\n",
    "\n",
    "tmp_num = input_num()\n",
    "\n",
    "if tmp_num % 2 == 0:\n",
    "    print('이 수는 짝수 입니다.')\n",
    "else:\n",
    "    print('이 수는 홀수 입니다.')\n",
    "\n",
    "if tmp_num < 5:\n",
    "    print('이 수는 5보다 작은 수 입니다.')\n",
    "elif tmp_num > 5:\n",
    "    print('이 수는 5보다 큰 수 입니다.')\n",
    "else:\n",
    "    print('이 수는 5 입니다.')"
   ]
  },
  {
   "cell_type": "code",
   "execution_count": 19,
   "metadata": {},
   "outputs": [
    {
     "output_type": "stream",
     "name": "stdout",
     "text": [
      "1 * 1 = 1\n1 * 2 = 2\n1 * 3 = 3\n1 * 4 = 4\n1 * 5 = 5\n1 * 6 = 6\n1 * 7 = 7\n1 * 8 = 8\n1 * 9 = 9\n"
     ]
    }
   ],
   "source": [
    "# 9\n",
    "def input_num():\n",
    "    users_input = int(input('1부터 9까지의 숫자를 입력해주세요 :'))\n",
    "    while users_input < 1 or users_input > 9:\n",
    "        users_input = int(input('1부터 9까지의 숫자를 다시 입력해주세요 :'))\n",
    "    return users_input\n",
    "\n",
    "tmp_num = input_num()\n",
    "\n",
    "for i in range(1,10):\n",
    "    print('{} * {} = {}'.format(tmp_num, i, tmp_num * i))"
   ]
  },
  {
   "cell_type": "code",
   "execution_count": 21,
   "metadata": {},
   "outputs": [
    {
     "output_type": "stream",
     "name": "stdout",
     "text": [
      "[1, 1, 2, 3]\n"
     ]
    }
   ],
   "source": [
    "# 10\n",
    "list_a = [1, 1]\n",
    "num = int(input('몇 개를 출력 할까요 :'))\n",
    "\n",
    "for i in range(0,num - 2):\n",
    "    list_a.append(list_a[i] + list_a[i+1])\n",
    "\n",
    "print(list_a)"
   ]
  },
  {
   "cell_type": "code",
   "execution_count": null,
   "metadata": {},
   "outputs": [],
   "source": []
  }
 ],
 "metadata": {
  "kernelspec": {
   "display_name": "Python 3",
   "language": "python",
   "name": "python3"
  },
  "language_info": {
   "codemirror_mode": {
    "name": "ipython",
    "version": 3
   },
   "file_extension": ".py",
   "mimetype": "text/x-python",
   "name": "python",
   "nbconvert_exporter": "python",
   "pygments_lexer": "ipython3",
   "version": "3.9.2-final"
  }
 },
 "nbformat": 4,
 "nbformat_minor": 4
}