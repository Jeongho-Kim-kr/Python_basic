{
  "nbformat": 4,
  "nbformat_minor": 0,
  "metadata": {
    "colab": {
      "name": "003_12170621_20210430.ipynb",
      "provenance": []
    },
    "kernelspec": {
      "name": "python392jvsc74a57bd063fd5069d213b44bf678585dea6b12cceca9941eaf7f819626cde1f2670de90d",
      "display_name": "Python 3.9.2 64-bit"
    },
    "language_info": {
      "name": "python",
      "version": "3.9.2"
    }
  },
  "cells": [
    {
      "cell_type": "markdown",
      "metadata": {
        "id": "eQ8zXtII3SkM"
      },
      "source": [
        "### 과제 1"
      ]
    },
    {
      "cell_type": "code",
      "execution_count": 75,
      "metadata": {},
      "outputs": [],
      "source": [
        "import numpy as np"
      ]
    },
    {
      "cell_type": "code",
      "execution_count": 77,
      "metadata": {},
      "outputs": [
        {
          "output_type": "stream",
          "name": "stdout",
          "text": [
            "[[ 0.  -2.  -1. ]\n [-0.5  0.  -0.5]\n [-0.5 -1.  -1.5]]\n"
          ]
        }
      ],
      "source": [
        "matrix_a = np.array([[1,0,2],[0,1,1],[1,2,2]])\n",
        "matrix_E = np.identity(3)\n",
        "\n",
        "matrix_b = np.dot(matrix_a,np.linalg.inv(2*matrix_E-matrix_a))\n",
        "print(matrix_b)"
      ]
    },
    {
      "cell_type": "markdown",
      "metadata": {
        "id": "P5qkHKqe3dMF"
      },
      "source": [
        "### 과제 2"
      ]
    },
    {
      "cell_type": "code",
      "execution_count": 80,
      "metadata": {},
      "outputs": [
        {
          "output_type": "execute_result",
          "data": {
            "text/plain": [
              "array([[1.],\n",
              "       [0.],\n",
              "       [0.]])"
            ]
          },
          "metadata": {},
          "execution_count": 80
        }
      ],
      "source": [
        "matrix_a = np.array([[2,-1,-3],[-1,-2,-3],[1,1,4]])\n",
        "matrix_a_inverse = np.linalg.inv(matrix_a)\n",
        "b = np.array([[2],[-1],[1]])\n",
        "\n",
        "x = np.dot(matrix_a_inverse,b)\n",
        "x"
      ]
    },
    {
      "cell_type": "code",
      "execution_count": 82,
      "metadata": {},
      "outputs": [
        {
          "output_type": "stream",
          "name": "stdout",
          "text": [
            "A는 특이 행렬이므로 역행렬을 가지지 않는다.\n"
          ]
        }
      ],
      "source": [
        "try:\n",
        "    matrix_a = np.array([[2,-1,-3],[-4,2,6],[3,1,4]])\n",
        "    matrix_a_inverse = np.linalg.inv(matrix_a)\n",
        "    b = np.array([[2],[-1],[1]])\n",
        "\n",
        "    x = np.dot(matrix_a_inverse,b)\n",
        "    x\n",
        "except:\n",
        "    print('A는 특이 행렬이므로 역행렬을 가지지 않는다.')"
      ]
    },
    {
      "cell_type": "markdown",
      "metadata": {
        "id": "PJesgrU_3Obr"
      },
      "source": [
        "### 과제 3"
      ]
    },
    {
      "cell_type": "code",
      "execution_count": 83,
      "metadata": {},
      "outputs": [],
      "source": [
        "def f(array):\n",
        "    return np.array(list(array[i,j] for i in range(0,len(array)) for j in range(0,len(array))))"
      ]
    },
    {
      "cell_type": "code",
      "execution_count": 84,
      "metadata": {},
      "outputs": [
        {
          "output_type": "execute_result",
          "data": {
            "text/plain": [
              "array([1, 2, 2, 3])"
            ]
          },
          "metadata": {},
          "execution_count": 84
        }
      ],
      "source": [
        "f(np.array([[1,2],[2,3]]))"
      ]
    },
    {
      "cell_type": "code",
      "execution_count": 85,
      "metadata": {},
      "outputs": [
        {
          "output_type": "execute_result",
          "data": {
            "text/plain": [
              "array([1, 2, 3, 2, 3, 4, 3, 4, 5])"
            ]
          },
          "metadata": {},
          "execution_count": 85
        }
      ],
      "source": [
        "f(np.array([[1,2,3],[2,3,4],[3,4,5]]))"
      ]
    },
    {
      "cell_type": "markdown",
      "metadata": {
        "id": "8rCC_jIa3gTT"
      },
      "source": [
        "### 과제 4"
      ]
    },
    {
      "cell_type": "code",
      "execution_count": 86,
      "metadata": {},
      "outputs": [],
      "source": [
        "matrix_a = np.array([[0.6, 0.3], [0.4, 0.7]])\n",
        "\n",
        "init_vector = np.array([0, 1])"
      ]
    },
    {
      "cell_type": "code",
      "execution_count": 87,
      "metadata": {},
      "outputs": [
        {
          "output_type": "stream",
          "name": "stdout",
          "text": [
            "[0 1]\n"
          ]
        }
      ],
      "source": [
        "x0 = init_vector\n",
        "print(x0)"
      ]
    },
    {
      "cell_type": "code",
      "execution_count": 88,
      "metadata": {},
      "outputs": [
        {
          "output_type": "stream",
          "name": "stdout",
          "text": [
            "[0.3 0.7]\n"
          ]
        }
      ],
      "source": [
        "x1 = matrix_a.dot(x0)\n",
        "print(x1)"
      ]
    },
    {
      "cell_type": "code",
      "execution_count": 89,
      "metadata": {},
      "outputs": [
        {
          "output_type": "stream",
          "name": "stdout",
          "text": [
            "[0.39 0.61]\n"
          ]
        }
      ],
      "source": [
        "x2 = matrix_a.dot(x1)\n",
        "print(x2)"
      ]
    },
    {
      "cell_type": "markdown",
      "metadata": {
        "id": "z8KGDxAs3gou"
      },
      "source": [
        "### 과제 5"
      ]
    },
    {
      "cell_type": "code",
      "execution_count": 90,
      "metadata": {},
      "outputs": [],
      "source": [
        "def x(t):\n",
        "    matix_a = np.array([[0.6, 0.3],\n",
        "                        [0.4, 0.7]])\n",
        "    init_vector = np.array([1, 0])\n",
        "\n",
        "    if t == 0:\n",
        "        xt = init_vector\n",
        "        return xt\n",
        "    \n",
        "    else:\n",
        "        xt = init_vector\n",
        "        for i in range(t):\n",
        "            xt = matrix_a.dot(xt)\n",
        "        return xt"
      ]
    },
    {
      "cell_type": "code",
      "execution_count": 91,
      "metadata": {},
      "outputs": [
        {
          "output_type": "stream",
          "name": "stdout",
          "text": [
            "10개월후의 사자의 예상위치:  [0.4285748 0.5714252]\n영역 2에 있을 확률이 높다\n"
          ]
        }
      ],
      "source": [
        "print('10개월후의 사자의 예상위치: ',x(10))\n",
        "print('영역 2에 있을 확률이 높다')"
      ]
    },
    {
      "cell_type": "code",
      "execution_count": null,
      "metadata": {},
      "outputs": [],
      "source": []
    }
  ]
}