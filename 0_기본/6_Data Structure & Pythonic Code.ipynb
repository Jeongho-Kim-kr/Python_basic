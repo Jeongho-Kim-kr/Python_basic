{
  "nbformat": 4,
  "nbformat_minor": 0,
  "metadata": {
    "colab": {
      "name": "산업공학실험1_python1_9주차.ipynb",
      "provenance": [],
      "collapsed_sections": [],
      "include_colab_link": true
    },
    "kernelspec": {
      "name": "python392jvsc74a57bd063fd5069d213b44bf678585dea6b12cceca9941eaf7f819626cde1f2670de90d",
      "display_name": "Python 3.9.2 64-bit"
    },
    "language_info": {
      "name": "python",
      "version": "3.9.2"
    }
  },
  "cells": [
    {
      "cell_type": "markdown",
      "metadata": {
        "id": "view-in-github",
        "colab_type": "text"
      },
      "source": [
        "<a href=\"https://colab.research.google.com/github/Jeongho-Kim-kr/Python_basic/blob/main/0_%EA%B8%B0%EB%B3%B8/6_Data%20Structure%20%26%20Pythonic%20Code.ipynb\" target=\"_parent\"><img src=\"https://colab.research.google.com/assets/colab-badge.svg\" alt=\"Open In Colab\"/></a>"
      ]
    },
    {
      "cell_type": "markdown",
      "metadata": {
        "id": "m5bV9hIv_wz4"
      },
      "source": [
        "# Data Structure & Pythonic code\n",
        "## Collection\n",
        "List, Tuple, Dict에 대한 Python Built-in 확장 자료 구조(모듈) <br>\n",
        "편의성, 실행 효율 등을 사용자에게 제공함 <br>\n",
        "아래의 모듈이 존재함"
      ]
    },
    {
      "cell_type": "code",
      "metadata": {
        "id": "eLUg5bGHQcOo"
      },
      "source": [
        "from collections import deque\n",
        "from collections import Counter\n",
        "from collections import OrderedDict\n",
        "from collections import defaultdict\n",
        "from collections import namedtuple"
      ],
      "execution_count": null,
      "outputs": []
    },
    {
      "cell_type": "markdown",
      "metadata": {
        "id": "bZXUJU2NTszt"
      },
      "source": [
        "### deque\n",
        "Stack과 queue를 지원하는 모듈 <br>\n",
        "List에 비해 효율적인 자료 저장 방식을 지원함"
      ]
    },
    {
      "cell_type": "code",
      "metadata": {
        "colab": {
          "base_uri": "https://localhost:8080/"
        },
        "id": "zi0GB1dlQw9Y",
        "outputId": "97138e6c-863e-41f6-cbf2-1fd973deb588"
      },
      "source": [
        "deque_list = deque()\n",
        "for i in range(5):\n",
        "    deque_list.append(i)\n",
        "    \n",
        "print(deque_list)"
      ],
      "execution_count": null,
      "outputs": [
        {
          "output_type": "stream",
          "text": [
            "deque([0, 1, 2, 3, 4])\n"
          ],
          "name": "stdout"
        }
      ]
    },
    {
      "cell_type": "code",
      "metadata": {
        "colab": {
          "base_uri": "https://localhost:8080/"
        },
        "id": "rwRBxAaVRTPX",
        "outputId": "f8bc6910-8a11-4225-ede2-209c535a8d15"
      },
      "source": [
        "deque_list.appendleft(10) # 왼쪽에 append를 사용 가능\n",
        "print(deque_list)"
      ],
      "execution_count": null,
      "outputs": [
        {
          "output_type": "stream",
          "text": [
            "deque([10, 0, 1, 2, 3, 4])\n"
          ],
          "name": "stdout"
        }
      ]
    },
    {
      "cell_type": "markdown",
      "metadata": {
        "id": "gAc8ckMGUGc-"
      },
      "source": [
        "Rotate, reverse등 Linked List의 특성을 지원함\n",
        "기존 list 형태의 함수를 모두 지원함"
      ]
    },
    {
      "cell_type": "code",
      "metadata": {
        "colab": {
          "base_uri": "https://localhost:8080/"
        },
        "id": "R96_7llMU1pg",
        "outputId": "87f67965-40e6-461b-c5f8-57e4dec650a4"
      },
      "source": [
        "b = [3,4,5]\n",
        "a = [1,2,b]\n",
        "a # 연결 list"
      ],
      "execution_count": null,
      "outputs": [
        {
          "output_type": "execute_result",
          "data": {
            "text/plain": [
              "[1, 2, [3, 4, 5]]"
            ]
          },
          "metadata": {
            "tags": []
          },
          "execution_count": 21
        }
      ]
    },
    {
      "cell_type": "code",
      "metadata": {
        "colab": {
          "base_uri": "https://localhost:8080/"
        },
        "id": "RCGaA1rQU2Lv",
        "outputId": "1dba13a6-e67b-49ea-a2ba-b54de19fafd1"
      },
      "source": [
        "# 2원소 앞으로 이동\n",
        "deque_list.rotate(2)\n",
        "print(deque_list)"
      ],
      "execution_count": null,
      "outputs": [
        {
          "output_type": "stream",
          "text": [
            "deque([3, 4, 10, 0, 1, 2])\n"
          ],
          "name": "stdout"
        }
      ]
    },
    {
      "cell_type": "code",
      "metadata": {
        "colab": {
          "base_uri": "https://localhost:8080/"
        },
        "id": "AId162yxU2U-",
        "outputId": "d517ffa8-123e-4430-ac13-1c608986484a"
      },
      "source": [
        "# 역정렬\n",
        "print(deque_list)\n",
        "print(deque(reversed(deque_list)))"
      ],
      "execution_count": null,
      "outputs": [
        {
          "output_type": "stream",
          "text": [
            "deque([3, 4, 10, 0, 1, 2])\n",
            "deque([2, 1, 0, 10, 4, 3])\n"
          ],
          "name": "stdout"
        }
      ]
    },
    {
      "cell_type": "code",
      "metadata": {
        "id": "gggCYcceU2c-",
        "outputId": "188a9803-0a09-4e7b-8f9c-fd0a9d7a18cc"
      },
      "source": [
        "# 다음 리스트를 오른쪽에 추가\n",
        "deque_list.extend([5,6,7])\n",
        "print(deque_list)"
      ],
      "execution_count": null,
      "outputs": [
        {
          "output_type": "stream",
          "text": [
            "deque([3, 4, 10, 0, 1, 2, 5, 6, 7])\n"
          ],
          "name": "stdout"
        }
      ]
    },
    {
      "cell_type": "markdown",
      "metadata": {
        "id": "yhcLEQnkiQ_J"
      },
      "source": [
        "## (중요) extendleft"
      ]
    },
    {
      "cell_type": "code",
      "metadata": {
        "id": "aQtl-ySviQ_J",
        "outputId": "8699c3b8-c59b-45f1-9ce0-79cdb1ec750b"
      },
      "source": [
        "# 다음 리스트를 왼쪽에 추가(하나씩 넣어주므로 7,6,5 가 추가됨)\n",
        "deque_list.extendleft([5,6,7])\n",
        "print(deque_list)"
      ],
      "execution_count": null,
      "outputs": [
        {
          "output_type": "stream",
          "text": [
            "deque([7, 6, 5, 3, 4, 10, 0, 1, 2, 5, 6, 7])\n"
          ],
          "name": "stdout"
        }
      ]
    },
    {
      "cell_type": "markdown",
      "metadata": {
        "id": "VjZpfoUtU2kO"
      },
      "source": [
        "Deque는 기존 list보다 효율적인 자료구조를 제공 <br>\n",
        "효율적 메모리 구조로 처리 속도 향상"
      ]
    },
    {
      "cell_type": "code",
      "metadata": {
        "id": "OsSNO7xGiQ_K",
        "outputId": "b0328d1e-4eb0-41a8-bc71-42563b257610"
      },
      "source": [
        "## deque의 경우\n",
        "from collections import deque\n",
        "import time\n",
        "\n",
        "start_time = time.process_time()\n",
        "deque_list = deque()\n",
        "# Stack\n",
        "for i in range(10000):\n",
        "    for i in range(10000):\n",
        "        deque_list.append(i)\n",
        "        deque_list.pop()\n",
        "print(time.process_time()-start_time, 'secomds')"
      ],
      "execution_count": null,
      "outputs": [
        {
          "output_type": "stream",
          "text": [
            "8.96875 secomds\n"
          ],
          "name": "stdout"
        }
      ]
    },
    {
      "cell_type": "code",
      "metadata": {
        "id": "URwyi2AkiQ_K",
        "outputId": "838d1ac8-4902-41d4-a033-f679825d700f"
      },
      "source": [
        "## general list 경우\n",
        "import time\n",
        "\n",
        "start_time = time.process_time()\n",
        "just_list = []\n",
        "# Stack\n",
        "for i in range(10000):\n",
        "    for i in range(10000):\n",
        "        just_list.append(i)\n",
        "        just_list.pop()\n",
        "print(time.process_time()-start_time, 'secomds')"
      ],
      "execution_count": null,
      "outputs": [
        {
          "output_type": "stream",
          "text": [
            "26.140625 secomds\n"
          ],
          "name": "stdout"
        }
      ]
    },
    {
      "cell_type": "markdown",
      "metadata": {
        "id": "vHhYZC7-iQ_L"
      },
      "source": [
        "### defaultdict\n",
        "Dict type의 값에 기본 값을 지정, 신규값 생성시 사용하는 방법"
      ]
    },
    {
      "cell_type": "code",
      "metadata": {
        "id": "tAF-mfmQiQ_L",
        "outputId": "45aac9aa-aac2-4536-e6e5-0c575446e086"
      },
      "source": [
        "# 일반 dict에서 없는 값을 호출할 경우\n",
        "d = dict()\n",
        "print(d['first'])"
      ],
      "execution_count": null,
      "outputs": [
        {
          "output_type": "error",
          "ename": "KeyError",
          "evalue": "'first'",
          "traceback": [
            "\u001b[1;31m---------------------------------------------------------------------------\u001b[0m",
            "\u001b[1;31mKeyError\u001b[0m                                  Traceback (most recent call last)",
            "\u001b[1;32m<ipython-input-30-05d3f1c0d1dc>\u001b[0m in \u001b[0;36m<module>\u001b[1;34m\u001b[0m\n\u001b[0;32m      1\u001b[0m \u001b[0md\u001b[0m \u001b[1;33m=\u001b[0m \u001b[0mdict\u001b[0m\u001b[1;33m(\u001b[0m\u001b[1;33m)\u001b[0m\u001b[1;33m\u001b[0m\u001b[1;33m\u001b[0m\u001b[0m\n\u001b[1;32m----> 2\u001b[1;33m \u001b[0mprint\u001b[0m\u001b[1;33m(\u001b[0m\u001b[0md\u001b[0m\u001b[1;33m[\u001b[0m\u001b[1;34m'first'\u001b[0m\u001b[1;33m]\u001b[0m\u001b[1;33m)\u001b[0m\u001b[1;33m\u001b[0m\u001b[1;33m\u001b[0m\u001b[0m\n\u001b[0m",
            "\u001b[1;31mKeyError\u001b[0m: 'first'"
          ]
        }
      ]
    },
    {
      "cell_type": "code",
      "metadata": {
        "id": "WShPLDyJiQ_L",
        "outputId": "762b562d-f66d-4337-b507-571a797f4c8a"
      },
      "source": [
        "# 일반 defaultdict에서 default값을 지정 후 없는 값을 호출할 경우\n",
        "from collections import defaultdict\n",
        "d = defaultdict(object) # Default dictionary를 생성\n",
        "d = defaultdict(lambda:0) # Default 값을 0으로 생성함\n",
        "print(d['first'])"
      ],
      "execution_count": null,
      "outputs": [
        {
          "output_type": "stream",
          "text": [
            "0\n"
          ],
          "name": "stdout"
        }
      ]
    },
    {
      "cell_type": "code",
      "metadata": {
        "id": "4SjlWuR0iQ_L",
        "outputId": "73f12725-b029-4948-a56b-8afe097a4ac0"
      },
      "source": [
        "# ex\n",
        "d = defaultdict(object) # Default dictionary를 생성\n",
        "d = defaultdict(lambda:'010-0000-0000') # Default 값을 0으로 생성함\n",
        "print(d['사람'])\n",
        "d"
      ],
      "execution_count": null,
      "outputs": [
        {
          "output_type": "stream",
          "text": [
            "010-0000-0000\n"
          ],
          "name": "stdout"
        },
        {
          "output_type": "execute_result",
          "data": {
            "text/plain": [
              "defaultdict(<function __main__.<lambda>()>, {'사람': '010-0000-0000'})"
            ]
          },
          "metadata": {
            "tags": []
          },
          "execution_count": 39
        }
      ]
    },
    {
      "cell_type": "markdown",
      "metadata": {
        "id": "qfD7nDSUiQ_L"
      },
      "source": [
        "### counter\n",
        "Sequence type의 data element들의 개수를 dict 형태로 반환"
      ]
    },
    {
      "cell_type": "code",
      "metadata": {
        "id": "nB3x5mI2iQ_M",
        "outputId": "43f1e292-c61f-4d42-839d-1c39e881b0cb"
      },
      "source": [
        "from collections import Counter\n",
        "c = Counter()\n",
        "c = Counter('gallahad')\n",
        "print(c)"
      ],
      "execution_count": null,
      "outputs": [
        {
          "output_type": "stream",
          "text": [
            "Counter({'a': 3, 'l': 2, 'g': 1, 'h': 1, 'd': 1})\n"
          ],
          "name": "stdout"
        }
      ]
    },
    {
      "cell_type": "markdown",
      "metadata": {
        "id": "suOzniOYiQ_M"
      },
      "source": [
        "Dict type, keyword parameter 등도 모두 처리 가능"
      ]
    },
    {
      "cell_type": "code",
      "metadata": {
        "id": "NnmbJ13diQ_M",
        "outputId": "dd29a7d6-748f-4538-ba4c-ae9f8de7c3aa"
      },
      "source": [
        "c = Counter({'red':4, 'blue':2})\n",
        "print(c)\n",
        "print(list(c.elements()))"
      ],
      "execution_count": null,
      "outputs": [
        {
          "output_type": "stream",
          "text": [
            "Counter({'red': 4, 'blue': 2})\n",
            "['red', 'red', 'red', 'red', 'blue', 'blue']\n"
          ],
          "name": "stdout"
        }
      ]
    },
    {
      "cell_type": "code",
      "metadata": {
        "id": "Qc8v-zMoiQ_M",
        "outputId": "a0eaf795-2f6c-413f-d692-f84079767e5f"
      },
      "source": [
        "c = Counter(cats=4, dogs=8)\n",
        "print(c)\n",
        "print(list(c.elements()))"
      ],
      "execution_count": null,
      "outputs": [
        {
          "output_type": "stream",
          "text": [
            "Counter({'dogs': 8, 'cats': 4})\n",
            "['cats', 'cats', 'cats', 'cats', 'dogs', 'dogs', 'dogs', 'dogs', 'dogs', 'dogs', 'dogs', 'dogs']\n"
          ],
          "name": "stdout"
        }
      ]
    },
    {
      "cell_type": "markdown",
      "metadata": {
        "id": "83vuOBqgiQ_N"
      },
      "source": [
        "Word counter의 기능도 손쉽게 제공함"
      ]
    },
    {
      "cell_type": "code",
      "metadata": {
        "id": "fRKoVaeuiQ_N",
        "outputId": "8ffd6cd8-e110-4b86-f1a6-bfe887f23d36"
      },
      "source": [
        "text = '''For Tito, then 60, it was the culmination of a dream he'd held since he was a young man, one he'd shelled out a cool $20 million for to make a reality.\n",
        "Reflecting on the journey two decades on, Tito is gleeful when describing the moment the rocket first went into orbit.\n",
        "\"The pencils started floating in the air, and I could see the blackness of space and the curvature of the earth,\" he tells CNN Travel.\n",
        "\"I was euphoric. I mean, it was the greatest moment of my life, to achieve a life objective, and I knew then that nothing could ever beat this.\"\n",
        "In the 20 years since Tito vacationed in space, only a handful of other -- uber wealthy -- tourists have followed in his footsteps, but companies such as SpaceX, Blue Origin and Virgin Galactic are banking on the next big vacation destination being out of this world, and working to make that a reality in the not-so-distant future.'''.lower().split()\n",
        "\n",
        "print(Counter(text))\n",
        "print()\n",
        "print(Counter(text)['a'])"
      ],
      "execution_count": null,
      "outputs": [
        {
          "output_type": "stream",
          "text": [
            "Counter({'the': 12, 'a': 7, 'of': 6, 'in': 5, 'and': 5, 'was': 4, 'to': 3, 'i': 3, 'for': 2, 'then': 2, 'it': 2, \"he'd\": 2, 'since': 2, 'he': 2, 'out': 2, 'make': 2, 'on': 2, 'tito': 2, 'moment': 2, 'could': 2, 'that': 2, '--': 2, 'tito,': 1, '60,': 1, 'culmination': 1, 'dream': 1, 'held': 1, 'young': 1, 'man,': 1, 'one': 1, 'shelled': 1, 'cool': 1, '$20': 1, 'million': 1, 'reality.': 1, 'reflecting': 1, 'journey': 1, 'two': 1, 'decades': 1, 'on,': 1, 'is': 1, 'gleeful': 1, 'when': 1, 'describing': 1, 'rocket': 1, 'first': 1, 'went': 1, 'into': 1, 'orbit.': 1, '\"the': 1, 'pencils': 1, 'started': 1, 'floating': 1, 'air,': 1, 'see': 1, 'blackness': 1, 'space': 1, 'curvature': 1, 'earth,\"': 1, 'tells': 1, 'cnn': 1, 'travel.': 1, '\"i': 1, 'euphoric.': 1, 'mean,': 1, 'greatest': 1, 'my': 1, 'life,': 1, 'achieve': 1, 'life': 1, 'objective,': 1, 'knew': 1, 'nothing': 1, 'ever': 1, 'beat': 1, 'this.\"': 1, '20': 1, 'years': 1, 'vacationed': 1, 'space,': 1, 'only': 1, 'handful': 1, 'other': 1, 'uber': 1, 'wealthy': 1, 'tourists': 1, 'have': 1, 'followed': 1, 'his': 1, 'footsteps,': 1, 'but': 1, 'companies': 1, 'such': 1, 'as': 1, 'spacex,': 1, 'blue': 1, 'origin': 1, 'virgin': 1, 'galactic': 1, 'are': 1, 'banking': 1, 'next': 1, 'big': 1, 'vacation': 1, 'destination': 1, 'being': 1, 'this': 1, 'world,': 1, 'working': 1, 'reality': 1, 'not-so-distant': 1, 'future.': 1})\n",
            "\n",
            "7\n"
          ],
          "name": "stdout"
        }
      ]
    },
    {
      "cell_type": "markdown",
      "metadata": {
        "id": "0cZqgEj2iQ_N"
      },
      "source": [
        "### namedtuple\n",
        "Tuple형태로 Data 구조체를 저장하는 방법 <br>\n",
        "저장하는 data의 variable을 사전에 지정해서 저장함 <br>\n",
        "Tuple은 인덱스를 이용해서만 variable에 접근 가능한데 namedtuple은 인덱스, 키값으로 접근 가능함"
      ]
    },
    {
      "cell_type": "code",
      "metadata": {
        "id": "MDIH10ERiQ_N",
        "outputId": "dcdb0324-6444-46c6-a998-f0aa6290943d"
      },
      "source": [
        "from collections import namedtuple\n",
        "point = namedtuple('point',['x','y'])\n",
        "p = point(11, y=22)\n",
        "print(p[0] + p[1])"
      ],
      "execution_count": null,
      "outputs": [
        {
          "output_type": "stream",
          "text": [
            "33\n"
          ],
          "name": "stdout"
        }
      ]
    },
    {
      "cell_type": "code",
      "metadata": {
        "id": "eE4pZUU_iQ_N",
        "outputId": "74757d46-e768-4edf-8e9c-409288d75f8b"
      },
      "source": [
        "print(x,y)"
      ],
      "execution_count": null,
      "outputs": [
        {
          "output_type": "stream",
          "text": [
            "11 22\n"
          ],
          "name": "stdout"
        }
      ]
    },
    {
      "cell_type": "code",
      "metadata": {
        "id": "kz_PRZDEiQ_O",
        "outputId": "c4aa2837-c9d7-4b21-a465-d0c814d5e569"
      },
      "source": [
        "x, y = p\n",
        "print(p.x + p.y)"
      ],
      "execution_count": null,
      "outputs": [
        {
          "output_type": "stream",
          "text": [
            "33\n"
          ],
          "name": "stdout"
        }
      ]
    },
    {
      "cell_type": "code",
      "metadata": {
        "id": "r6VtObvOiQ_O",
        "outputId": "ec4bd49f-c3b7-47ec-eb31-351dba64fcd0"
      },
      "source": [
        "print(point(x=11, y=22))"
      ],
      "execution_count": null,
      "outputs": [
        {
          "output_type": "stream",
          "text": [
            "point(x=11, y=22)\n"
          ],
          "name": "stdout"
        }
      ]
    },
    {
      "cell_type": "markdown",
      "metadata": {
        "id": "r029Qf2siQ_O"
      },
      "source": [
        "## lambda\n",
        "함수 이름 없이, 함수처럼 쓸 수 있는 익명함수 <br>\n",
        "수학의 람다 대수에서 유래함"
      ]
    },
    {
      "cell_type": "code",
      "metadata": {
        "id": "1g61dbTEiQ_O",
        "outputId": "b6422337-4541-4371-8af5-bce2cb04d1d7"
      },
      "source": [
        "# general function\n",
        "def f(x,y):\n",
        "    return x + y\n",
        "print(f(1,4))"
      ],
      "execution_count": null,
      "outputs": [
        {
          "output_type": "stream",
          "text": [
            "5\n"
          ],
          "name": "stdout"
        }
      ]
    },
    {
      "cell_type": "code",
      "metadata": {
        "id": "wru0Kv_JiQ_O",
        "outputId": "832dea81-6a71-474b-95dc-52885103b7d4"
      },
      "source": [
        "# lambda function\n",
        "f = lambda x, y: x+y\n",
        "print(f(1,4))"
      ],
      "execution_count": null,
      "outputs": [
        {
          "output_type": "stream",
          "text": [
            "5\n"
          ],
          "name": "stdout"
        }
      ]
    },
    {
      "cell_type": "code",
      "metadata": {
        "id": "8_748RqQiQ_P"
      },
      "source": [
        "Python3부터는 권장하지는 않으나 여전히 많이 쓰임"
      ],
      "execution_count": null,
      "outputs": []
    },
    {
      "cell_type": "code",
      "metadata": {
        "id": "_297ANg4iQ_P",
        "outputId": "9b47f269-1758-4498-c8f3-c8381ae2d189"
      },
      "source": [
        "f = lambda x: (x+3)**(x+x)\n",
        "print(f(2))"
      ],
      "execution_count": null,
      "outputs": [
        {
          "output_type": "stream",
          "text": [
            "625\n"
          ],
          "name": "stdout"
        }
      ]
    },
    {
      "cell_type": "markdown",
      "metadata": {
        "id": "Tumb6lAbiQ_P"
      },
      "source": [
        "## Map function\n",
        "Sequence 자료형 각 element에 동일한 function을 적용함"
      ]
    },
    {
      "cell_type": "markdown",
      "metadata": {
        "id": "BksQ1TcbiQ_P"
      },
      "source": [
        "![image.png](data:image/png;base64,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)"
      ]
    },
    {
      "cell_type": "code",
      "metadata": {
        "id": "CYA2FC8Oib84"
      },
      "source": [
        "ex = [1,2,3,4,5]\n"
      ],
      "execution_count": null,
      "outputs": []
    }
  ]
}