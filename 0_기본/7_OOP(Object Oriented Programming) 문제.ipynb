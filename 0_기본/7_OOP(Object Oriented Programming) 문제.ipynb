{
  "nbformat": 4,
  "nbformat_minor": 0,
  "metadata": {
    "colab": {
      "name": "003_12170621_20210430.ipynb",
      "provenance": []
    },
    "kernelspec": {
      "name": "python392jvsc74a57bd063fd5069d213b44bf678585dea6b12cceca9941eaf7f819626cde1f2670de90d",
      "display_name": "Python 3.9.2 64-bit"
    },
    "language_info": {
      "name": "python",
      "version": "3.9.2"
    }
  },
  "cells": [
    {
      "cell_type": "markdown",
      "metadata": {
        "id": "eQ8zXtII3SkM"
      },
      "source": [
        "### 과제 1"
      ]
    },
    {
      "cell_type": "code",
      "metadata": {
        "id": "ZuzkRFr_2uWl"
      },
      "source": [
        "class FinalTest(object):\n",
        "    def __init__(self, kor, eng, math):\n",
        "        self.kor = kor\n",
        "        self.eng = eng\n",
        "        self.math = math\n",
        "    def kor_score(self):\n",
        "        return self.kor\n",
        "    def eng_score(self):\n",
        "        return self.eng\n",
        "    def math_score(self):\n",
        "        return self.math"
      ],
      "execution_count": 26,
      "outputs": []
    },
    {
      "cell_type": "code",
      "execution_count": 27,
      "metadata": {},
      "outputs": [],
      "source": [
        "my_score = FinalTest(90,50,70)"
      ]
    },
    {
      "cell_type": "markdown",
      "metadata": {
        "id": "P5qkHKqe3dMF"
      },
      "source": [
        "### 과제 2"
      ]
    },
    {
      "cell_type": "code",
      "metadata": {
        "colab": {
          "base_uri": "https://localhost:8080/"
        },
        "id": "3X01fiYR26Jz",
        "outputId": "bd2dedc9-b719-4995-ea41-bda3f35e528f"
      },
      "source": [
        "John = FinalTest(100,90,80)\n",
        "Jenny = FinalTest(90,100,100)"
      ],
      "execution_count": 28,
      "outputs": []
    },
    {
      "cell_type": "markdown",
      "metadata": {
        "id": "PJesgrU_3Obr"
      },
      "source": [
        "### 과제 3"
      ]
    },
    {
      "cell_type": "code",
      "metadata": {
        "id": "FFv603O43m2u"
      },
      "source": [
        "class FinalTest(object):\n",
        "    def __init__(self, kor, eng, math):\n",
        "        self.kor = kor\n",
        "        self.eng = eng\n",
        "        self.math = math\n",
        "        self.avg_score = (kor+eng+math)/3\n",
        "    def kor_score(self):\n",
        "        return self.kor\n",
        "    def eng_score(self):\n",
        "        return self.eng\n",
        "    def math_score(self):\n",
        "        return self.math"
      ],
      "execution_count": 29,
      "outputs": []
    },
    {
      "cell_type": "code",
      "execution_count": 30,
      "metadata": {},
      "outputs": [
        {
          "output_type": "stream",
          "name": "stdout",
          "text": [
            "90.0 96.66666666666667\n"
          ]
        }
      ],
      "source": [
        "John = FinalTest(100,90,80)\n",
        "Jenny = FinalTest(90,100,100)\n",
        "\n",
        "John_avg = John.avg_score\n",
        "Jenny_avg = Jenny.avg_score\n",
        "\n",
        "print(John_avg, Jenny_avg)"
      ]
    },
    {
      "cell_type": "markdown",
      "metadata": {
        "id": "8rCC_jIa3gTT"
      },
      "source": [
        "### 과제 4"
      ]
    },
    {
      "cell_type": "code",
      "metadata": {
        "id": "izFV807G3nVW"
      },
      "source": [
        "class Car:\n",
        "    def __init__(self, max_speed, speed, speed_rate):\n",
        "        self.max_speed = max_speed\n",
        "        self.speed = speed\n",
        "        self.speed_rate = speed_rate\n",
        "    def speed_up(self):\n",
        "        self.speed += self.speed_rate\n",
        "        if self.speed > self.max_speed:\n",
        "            self.speed -= self.speed_rate\n",
        "            print(f'speed는 {self.max_speed}을 넘을 수 없습니다.')\n",
        "    def speed_down(self):\n",
        "        self.speed -= self.speed_rate\n",
        "        if self.speed < 0:\n",
        "            self.speed += self.speed_rate\n",
        "            print('speed는 0보다 작을 수 없습니다.')"
      ],
      "execution_count": 31,
      "outputs": []
    },
    {
      "cell_type": "code",
      "execution_count": 32,
      "metadata": {},
      "outputs": [
        {
          "output_type": "stream",
          "name": "stdout",
          "text": [
            "speed는 0보다 작을 수 없습니다.\n"
          ]
        }
      ],
      "source": [
        "car = Car(160,0,20)\n",
        "car.speed_down()"
      ]
    },
    {
      "cell_type": "code",
      "execution_count": 33,
      "metadata": {},
      "outputs": [
        {
          "output_type": "stream",
          "name": "stdout",
          "text": [
            "speed는 160을 넘을 수 없습니다.\n"
          ]
        }
      ],
      "source": [
        "for i in range(9):\n",
        "    car.speed_up()"
      ]
    },
    {
      "cell_type": "code",
      "execution_count": 34,
      "metadata": {},
      "outputs": [
        {
          "output_type": "execute_result",
          "data": {
            "text/plain": [
              "160"
            ]
          },
          "metadata": {},
          "execution_count": 34
        }
      ],
      "source": [
        "car.speed"
      ]
    },
    {
      "cell_type": "markdown",
      "metadata": {
        "id": "z8KGDxAs3gou"
      },
      "source": [
        "### 과제 5"
      ]
    },
    {
      "cell_type": "code",
      "metadata": {
        "id": "_lDBNl4-3nv5"
      },
      "source": [
        "class SportCar(Car):\n",
        "    def __init__(self, max_speed, speed, speed_rate):\n",
        "        super().__init__(max_speed, speed, speed_rate)\n",
        "    \n",
        "class Truck(Car):\n",
        "    def __init__(self, max_speed, speed, speed_rate):\n",
        "        super().__init__(max_speed, speed, speed_rate)"
      ],
      "execution_count": 35,
      "outputs": []
    },
    {
      "cell_type": "code",
      "execution_count": 36,
      "metadata": {},
      "outputs": [
        {
          "output_type": "stream",
          "name": "stdout",
          "text": [
            "speed는 0보다 작을 수 없습니다.\n"
          ]
        }
      ],
      "source": [
        "sportcar = SportCar(200,0,45)\n",
        "sportcar.speed_down()"
      ]
    },
    {
      "cell_type": "code",
      "execution_count": 37,
      "metadata": {},
      "outputs": [
        {
          "output_type": "stream",
          "name": "stdout",
          "text": [
            "speed는 200을 넘을 수 없습니다.\n"
          ]
        }
      ],
      "source": [
        "for i in range(5):\n",
        "    sportcar.speed_up()"
      ]
    },
    {
      "cell_type": "code",
      "execution_count": 38,
      "metadata": {},
      "outputs": [
        {
          "output_type": "stream",
          "name": "stdout",
          "text": [
            "speed는 0보다 작을 수 없습니다.\n"
          ]
        }
      ],
      "source": [
        "truck = Truck(100,0,15)\n",
        "truck.speed_down()"
      ]
    },
    {
      "cell_type": "code",
      "execution_count": 39,
      "metadata": {},
      "outputs": [
        {
          "output_type": "stream",
          "name": "stdout",
          "text": [
            "speed는 100을 넘을 수 없습니다.\n"
          ]
        }
      ],
      "source": [
        "for i in range(7):\n",
        "    truck.speed_up()"
      ]
    },
    {
      "cell_type": "code",
      "execution_count": null,
      "metadata": {},
      "outputs": [],
      "source": []
    }
  ]
}