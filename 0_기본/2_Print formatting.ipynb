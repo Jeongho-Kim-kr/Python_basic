{
 "metadata": {
  "language_info": {
   "codemirror_mode": {
    "name": "ipython",
    "version": 3
   },
   "file_extension": ".py",
   "mimetype": "text/x-python",
   "name": "python",
   "nbconvert_exporter": "python",
   "pygments_lexer": "ipython3",
   "version": "3.9.2-final"
  },
  "orig_nbformat": 2,
  "kernelspec": {
   "name": "python3",
   "display_name": "Python 3.9.2 64-bit",
   "metadata": {
    "interpreter": {
     "hash": "63fd5069d213b44bf678585dea6b12cceca9941eaf7f819626cde1f2670de90d"
    }
   }
  }
 },
 "nbformat": 4,
 "nbformat_minor": 2,
 "cells": [
  {
   "source": [
    "# Print formatting"
   ],
   "cell_type": "markdown",
   "metadata": {}
  },
  {
   "cell_type": "code",
   "execution_count": 36,
   "metadata": {},
   "outputs": [
    {
     "output_type": "stream",
     "name": "stdout",
     "text": [
      "Enter your name:\n",
      "Hi ; How are you today\n"
     ]
    }
   ],
   "source": [
    "print('Enter your name:')\n",
    "somebody = input()\n",
    "print('Hi', somebody, 'How are you today')"
   ]
  },
  {
   "source": [
    "### input으로 받은 기본값은 항상 str"
   ],
   "cell_type": "markdown",
   "metadata": {}
  },
  {
   "cell_type": "code",
   "execution_count": 39,
   "metadata": {},
   "outputs": [
    {
     "output_type": "stream",
     "name": "stdout",
     "text": [
      "9\n<class 'str'>\n"
     ]
    }
   ],
   "source": [
    "temperatur = input('온도를 입력하세요: ')\n",
    "print(temperatur)\n",
    "print(type(temperatur))"
   ]
  },
  {
   "cell_type": "code",
   "execution_count": 40,
   "metadata": {},
   "outputs": [
    {
     "output_type": "stream",
     "name": "stdout",
     "text": [
      "9.0\n<class 'float'>\n"
     ]
    }
   ],
   "source": [
    "# 입력 시 바로 형 변환 가능\n",
    "temperatur = float(input('온도를 입력하세요: '))\n",
    "print(temperatur)\n",
    "print(type(temperatur))"
   ]
  },
  {
   "source": [
    "### 출력 포멧 지정"
   ],
   "cell_type": "markdown",
   "metadata": {}
  },
  {
   "cell_type": "code",
   "execution_count": 41,
   "metadata": {},
   "outputs": [
    {
     "output_type": "stream",
     "name": "stdout",
     "text": [
      "1 2 3\nabc\n1 2 3\na b c\n"
     ]
    }
   ],
   "source": [
    "print(1,2,3)\n",
    "print('a'+''+'b'+''+'c')\n",
    "print('%d %d %d' %(1,2,3))\n",
    "print('{} {} {}'.format('a','b','c'))"
   ]
  },
  {
   "source": [
    "### % - format\n",
    "“%datatype” % (variable) 형태로 출력 양식을 표현 <br> <br>\n",
    "## (중요) ex) %5d: 정수형 숫자 5공간을 할당 / %8.2d: 부동소수서 정수8칸, 소수점 이하2칸을 할당 **(59.058은 59.05로 출력)**"
   ],
   "cell_type": "markdown",
   "metadata": {}
  },
  {
   "cell_type": "code",
   "execution_count": 42,
   "metadata": {},
   "outputs": [
    {
     "output_type": "stream",
     "name": "stdout",
     "text": [
      "I eat 3 apples.\nI eat five apples.\nI ate 3 apples. I was sick for three days.\nProduct: Apple. Price per unit: 5.243000\nArt:   453, Price per Unit:    59.06\n"
     ]
    }
   ],
   "source": [
    "print('I eat %d apples.' % 3)\n",
    "print('I eat %s apples.' % 'five')\n",
    "\n",
    "number = 3\n",
    "day = 'three'\n",
    "print('I ate %d apples. I was sick for %s days.' % (number, day))\n",
    "print('Product: %s. Price per unit: %f' %('Apple', 5.243))\n",
    "# (중요)\n",
    "print('Art: %5d, Price per Unit: %8.2f' %(453, 59.058))"
   ]
  },
  {
   "source": [
    "### str.format\n",
    "'\\~\\~\\~ {} \\~\\~\\~'.format(argument)"
   ],
   "cell_type": "markdown",
   "metadata": {}
  },
  {
   "cell_type": "code",
   "execution_count": 43,
   "metadata": {},
   "outputs": [
    {
     "output_type": "stream",
     "name": "stdout",
     "text": [
      "I'm 36 years old\nMy name is David and 36 years old\nProduct: Apple, Price per unit: 5.243.\nArt:   453, Price per Unit:    59.06\n"
     ]
    }
   ],
   "source": [
    "age = 36\n",
    "name = 'David'\n",
    "print(\"I'm {0} years old\".format(age))\n",
    "print('My name is {0} and {1} years old'.format(name, age))\n",
    "print('Product: {0}, Price per unit: {1:.3f}.'.format('Apple', 5.243))\n",
    "# 중요\n",
    "print('Art: {0:5d}, Price per Unit: {1:8.2f}'.format(453, 59.058))"
   ]
  },
  {
   "source": [
    "### padding\n",
    "여유 공간을 지정하여 글자배열 + 소수점 자릿수를 맞추기"
   ],
   "cell_type": "markdown",
   "metadata": {}
  },
  {
   "cell_type": "code",
   "execution_count": 44,
   "metadata": {},
   "outputs": [
    {
     "output_type": "stream",
     "name": "stdout",
     "text": [
      "Product: Apple, Price per unit: 5.25200\nProduct: Apple, Price per unit: 5.25200\nProduct:      Apple, Price per unit:      5.252\nProduct:      Apple, Price per unit:      5.252\nProduct: Apple     , Price per unit:      5.252\n"
     ]
    }
   ],
   "source": [
    "print('Product: %5s, Price per unit: %.5f' %('Apple', 5.252))\n",
    "print('Product: {0:5s}, Price per unit: {1:.5f}'.format('Apple', 5.252))\n",
    "print('Product: %10s, Price per unit: %10.3f' %('Apple', 5.252))\n",
    "print('Product: {0:>10s}, Price per unit: {1:10.3f}'.format('Apple', 5.252)) # >를 이용해서 우측정렬 가능\n",
    "print('Product: {0:10s}, Price per unit: {1:10.3f}'.format('Apple', 5.252))"
   ]
  },
  {
   "source": [
    "### naming\n",
    "해당 표시할 내용을 변수로 표시하여 입력"
   ],
   "cell_type": "markdown",
   "metadata": {}
  },
  {
   "cell_type": "code",
   "execution_count": 45,
   "metadata": {},
   "outputs": [
    {
     "output_type": "stream",
     "name": "stdout",
     "text": [
      "Product:      Apple, Price per unit:      5.252\nProduct: Apple     , Price per unit:      5.252\nProduct: Apple     , Price per unit:      5.252\n"
     ]
    }
   ],
   "source": [
    "print('Product: %(name)10s, Price per unit: %(price)10.3f' %{'name':'Apple', 'price':5.252}) # ()에서 중괄호{}로 바뀜\n",
    "print('Product: {name:10s}, Price per unit: {price:10.3f}'.format(name='Apple', price=5.252))\n",
    "print('Product: {name:10s}, Price per unit: {price:10.3f}'.format(price=5.252, name='Apple')) # 위치 순서가 달라도 가능"
   ]
  },
  {
   "source": [
    "# List\n",
    "### List or Array\n",
    "리스트를 만들기 위해서는 [ ] 대괄호를 이용한다<br>\n",
    "len, min, max, count 리스트 함수 이용해보기"
   ],
   "cell_type": "markdown",
   "metadata": {}
  },
  {
   "cell_type": "code",
   "execution_count": 46,
   "metadata": {},
   "outputs": [
    {
     "output_type": "stream",
     "name": "stdout",
     "text": [
      "[1, 2, 3]\n3\n3 1\n1\n"
     ]
    }
   ],
   "source": [
    "a_list = [1,2,3] # 리스트는 대괄호를 사용해서 만든다\n",
    "print('{}'.format(a_list)) # str.format()을 이용해서 리스트를 출력 가능\n",
    "print(len(a_list)) # str.format()을 이용해서 리스트 출력 가능\n",
    "print(max(a_list), min(a_list)) # max(), min() 함수를 이용해 리스트 내의 최대, 최소값 출력 가능\n",
    "print(a_list.count(2)) # list.count() 함수를 이용해 리스트 내의 특정 값 등장 횟수 출력 가능"
   ]
  },
  {
   "source": [
    "### Index\n",
    "List에 있는 값들은 주소(offset)를 갖는다 <br>\n",
    "리스트의 인덱스는 0부터 시작 <br>\n",
    "대괄호 안에 숫자를 입력해서 접근 가능"
   ],
   "cell_type": "markdown",
   "metadata": {}
  },
  {
   "cell_type": "code",
   "execution_count": 47,
   "metadata": {},
   "outputs": [
    {
     "output_type": "stream",
     "name": "stdout",
     "text": [
      "red\ngreen\n3\n<class 'list'>\n"
     ]
    }
   ],
   "source": [
    "colors = ['red', 'blue', 'green']\n",
    "print(colors[0])\n",
    "print(colors[2])\n",
    "print(len(colors)) # len() 함수는 list의 길이를 반환\n",
    "print(type(colors))"
   ]
  },
  {
   "source": [
    "‘-값’은 리스트의 뒤에서부터 순차적으로 불러온다"
   ],
   "cell_type": "markdown",
   "metadata": {}
  },
  {
   "cell_type": "code",
   "execution_count": 48,
   "metadata": {},
   "outputs": [
    {
     "output_type": "stream",
     "name": "stdout",
     "text": [
      "green\nblue\n"
     ]
    }
   ],
   "source": [
    "colors = ['red','blue','green']\n",
    "print(colors[-1]) # 인덱스가 -1이면 마지막 원소를 가르킨다\n",
    "print(colors[-2]) # -2이면 뒤에서 두번째"
   ]
  },
  {
   "source": [
    "### Slicing\n",
    "List의 값들을 잘라서 쓰는 것이 슬라이싱 <br>\n",
    "List의 주소 값을 기반으로 부분 값을 반환 <br>\n",
    " : 과 index를 통해서 실행된다(항상 범위를 주의)"
   ],
   "cell_type": "markdown",
   "metadata": {}
  },
  {
   "cell_type": "code",
   "execution_count": 49,
   "metadata": {},
   "outputs": [
    {
     "output_type": "stream",
     "name": "stdout",
     "text": [
      "['서울', '부산', '인천', '대구', '대전', '광주']\n['서울', '부산', '인천', '대구', '대전', '광주', '울산', '수원']\n['서울', '부산', '인천', '대구', '대전', '광주', '울산', '수원']\n['서울', '인천', '대전', '울산']\n"
     ]
    }
   ],
   "source": [
    "cities = ['서울','부산','인천','대구','대전','광주','울산','수원']\n",
    "print(cities[0:6]) # 0부터 5까지 출력하라\n",
    "print(cities[:]) # 처음부터 끝까지 출력하라\n",
    "print(cities[-50:50]) # 범위를 넘어갈 경우 자동으로 최대 범위를 지정\n",
    "print(cities[::2]) # 2칸 단위로 출력하라"
   ]
  },
  {
   "source": [
    "\\[start point : end point : step\\]"
   ],
   "cell_type": "markdown",
   "metadata": {}
  },
  {
   "cell_type": "code",
   "execution_count": 50,
   "metadata": {},
   "outputs": [
    {
     "output_type": "stream",
     "name": "stdout",
     "text": [
      "['서울', '부산', '인천', '대구', '대전', '광주']\n['서울', '인천', '대전']\n['수원', '울산', '광주', '대전', '대구', '인천', '부산', '서울']\n"
     ]
    }
   ],
   "source": [
    "cities = ['서울','부산','인천','대구','대전','광주','울산','수원']\n",
    "print(cities[:6])\n",
    "print(cities[0:6:2])\n",
    "print(cities[::-1]) # 거꾸로 출력"
   ]
  },
  {
   "source": [
    "### End point가 -1이 되는 이유\n",
    "end point에서 숫자와 start point의 숫자가 같으면 이어지게 하기 위해서\n",
    "## \\[2:4\\]이면 \\[2\\]\\[3\\]가 출력, 두 인덱스를 빼면 출력되는 갯수가 나옴 / \\[:4\\] 면 \\[0\\]\\[1\\]\\[2\\]\\[3\\] 4개 인덱스가 출력(중요)"
   ],
   "cell_type": "markdown",
   "metadata": {}
  },
  {
   "cell_type": "code",
   "execution_count": 51,
   "metadata": {},
   "outputs": [
    {
     "output_type": "stream",
     "name": "stdout",
     "text": [
      "['서울', '부산', '인천', '대구']\n['대전', '광주', '울산', '수원']\n"
     ]
    }
   ],
   "source": [
    "# 아래는 0 ~ 3 까지 4개 출력 후 4 ~ 끝까지 출력\n",
    "print(cities[:4])\n",
    "print(cities[4:])"
   ]
  },
  {
   "source": [
    "### List의 연산\n",
    "인덱싱, 슬라이싱, 연산 등 활용"
   ],
   "cell_type": "markdown",
   "metadata": {}
  },
  {
   "cell_type": "code",
   "execution_count": 52,
   "metadata": {},
   "outputs": [
    {
     "output_type": "stream",
     "name": "stdout",
     "text": [
      "['red', 'blue', 'green', 'orange', 'black', 'white']\n3\n['yellow', 'blue', 'green']\n['yellow', 'blue', 'green', 'yellow', 'blue', 'green']\n"
     ]
    },
    {
     "output_type": "execute_result",
     "data": {
      "text/plain": [
       "False"
      ]
     },
     "metadata": {},
     "execution_count": 52
    }
   ],
   "source": [
    "color = ['red','blue','green']\n",
    "color2 = ['orange','black','white']\n",
    "total_color = colors + colors2\n",
    "print(total_color) # 두개의 리스트를 합치고 출력\n",
    "\n",
    "print(len(color)) # 리스트의 길이를 출력\n",
    "\n",
    "color[0] = 'yellow' # 리스트의 인덱싱을 통해바로 리스트의 값을 변경\n",
    "print(color)\n",
    "\n",
    "print(color * 2) # 리스트를 2번 출력\n",
    "\n",
    "'blue' in color2 # 문자열 'blue'가 colors2에 존재 여부 반환"
   ]
  },
  {
   "source": [
    "### List의 추가와 삭제\n",
    "append, extend, insert, remove, del 등 활용"
   ],
   "cell_type": "markdown",
   "metadata": {}
  },
  {
   "cell_type": "code",
   "execution_count": 53,
   "metadata": {},
   "outputs": [
    {
     "output_type": "stream",
     "name": "stdout",
     "text": [
      "['yellow', 'blue', 'green', 'white']\n['yellow', 'blue', 'green', 'white', 'black', 'purple']\n['orange', 'yellow', 'blue', 'green', 'white', 'black', 'purple']\n['orange', 'yellow', 'blue', 'green', 'black', 'purple']\n['yellow', 'blue', 'green', 'black', 'purple']\n"
     ]
    }
   ],
   "source": [
    "color.append('white') # 리스트에 'white' 추가\n",
    "print(color)\n",
    "color.extend(['black', 'purple']) # 리스트에 새로운 리스트 추가\n",
    "print(color)\n",
    "color.insert(0, 'orange') # 0번째 주소에 'orange'삽입\n",
    "print(color)\n",
    "color.remove('white') # 리스트에서 'white' 삭제, 위치 상관 X\n",
    "print(color)\n",
    "del color[0] # 0번째 주소 리스트 객체 삭제\n",
    "print(color)"
   ]
  },
  {
   "source": [
    "### List의 정렬\n",
    "sort함수"
   ],
   "cell_type": "markdown",
   "metadata": {}
  },
  {
   "cell_type": "code",
   "execution_count": 54,
   "metadata": {},
   "outputs": [
    {
     "output_type": "stream",
     "name": "stdout",
     "text": [
      "[1, 1, 3, 4, 5, 5, 6, 8, 8] [5, 4, 6, 1, 8, 3, 5, 8, 1]\n"
     ]
    }
   ],
   "source": [
    "unordered_list = [5,4,6,1,8,3,5,8,1] # 정렬되지 않은 list\n",
    "ordered_list = unordered_list[:] # 원래 list를 새로운 변수의 list로 복사(원래 list를 보존)\n",
    "ordered_list.sort() # list.sort() 기능으로 정렬\n",
    "print(ordered_list, unordered_list) # 두개의 리스트를 모두 출력"
   ]
  },
  {
   "cell_type": "code",
   "execution_count": 55,
   "metadata": {},
   "outputs": [
    {
     "output_type": "stream",
     "name": "stdout",
     "text": [
      "[1, 1, 3, 4, 5, 5, 6, 8, 8] [1, 1, 3, 4, 5, 5, 6, 8, 8]\n"
     ]
    }
   ],
   "source": [
    "# 위와 같은 코드인데 list에 [:]를 넣지 않아 복사가 아닌 재 정의가 된 경우, 둘다 정렬되었다\n",
    "unordered_list = [5,4,6,1,8,3,5,8,1]\n",
    "ordered_list = unordered_list # 두개를 동일하게 정의\n",
    "ordered_list.sort()\n",
    "print(ordered_list, unordered_list)"
   ]
  },
  {
   "source": [
    "### Python List의 특징\n",
    "다양한 Data type이 하나의 List에 들어감"
   ],
   "cell_type": "markdown",
   "metadata": {}
  },
  {
   "cell_type": "code",
   "execution_count": 56,
   "metadata": {},
   "outputs": [
    {
     "output_type": "stream",
     "name": "stdout",
     "text": [
      "[['yellow', 'blue', 'green', 'black'], 'color', 1, 0.2]\n"
     ]
    }
   ],
   "source": [
    "a = ['color', 1, 0.2]\n",
    "color = ['yellow','blue','green', 'black']\n",
    "a.insert(0, color) # 리스트 안에 리스트도 입력 가능\n",
    "print(a)"
   ]
  },
  {
   "source": [
    "List 메모리 저장 방식"
   ],
   "cell_type": "markdown",
   "metadata": {}
  },
  {
   "cell_type": "code",
   "execution_count": 62,
   "metadata": {},
   "outputs": [
    {
     "output_type": "stream",
     "name": "stdout",
     "text": [
      "[5, 4, 3, 2, 1]\n"
     ]
    }
   ],
   "source": [
    "a = [5,4,3,2,1]\n",
    "b = [1,2,3,4,5]\n",
    "b = a # 복사를 원하면 b = a[:]\n",
    "print(b)"
   ]
  },
  {
   "cell_type": "code",
   "execution_count": 58,
   "metadata": {},
   "outputs": [
    {
     "output_type": "stream",
     "name": "stdout",
     "text": [
      "[1, 2, 3, 4, 5]\n[1, 2, 3, 4, 5]\n"
     ]
    }
   ],
   "source": [
    "# b를 정렬시켜주면 b는 a의 값을 할당한 것이므로 a도 같이 변환, 안하고 싶으면 b = a[:]로 정의\n",
    "# 하나의 변화로 같은 메모리의 변수가 같이 변화\n",
    "b.sort() # sort() 함수는 정렬시켜주는 함수\n",
    "print(b)\n",
    "print(a)"
   ]
  },
  {
   "cell_type": "code",
   "execution_count": 59,
   "metadata": {},
   "outputs": [
    {
     "output_type": "stream",
     "name": "stdout",
     "text": [
      "[1, 2, 3, 4, 5] [6, 7, 8, 9, 10]\n"
     ]
    }
   ],
   "source": [
    "b = [6,7,8,9,10]\n",
    "print(a,b)"
   ]
  },
  {
   "source": [
    "### 2 차원 List\n",
    "List안에 list를 만들어 행렬(matrix) 생성"
   ],
   "cell_type": "markdown",
   "metadata": {}
  },
  {
   "cell_type": "code",
   "execution_count": 63,
   "metadata": {},
   "outputs": [
    {
     "output_type": "stream",
     "name": "stdout",
     "text": [
      "20\n"
     ]
    }
   ],
   "source": [
    "kor_score = [49, 79, 20, 100, 80]\n",
    "math_score = [43, 59, 85, 30, 90]\n",
    "eng_score = [49, 79, 48, 60, 100]\n",
    "midterm_score = [kor_score, math_score, eng_score]\n",
    "print(midterm_score[0][2])"
   ]
  },
  {
   "source": [
    "# Condition & Loop\n",
    "### if-else\n",
    "가장 기본적인 조건문으로 조건에 따른 명령을 실행"
   ],
   "cell_type": "markdown",
   "metadata": {}
  },
  {
   "source": [],
   "cell_type": "markdown",
   "metadata": {}
  },
  {
   "cell_type": "code",
   "execution_count": 66,
   "metadata": {},
   "outputs": [
    {
     "output_type": "stream",
     "name": "stdout",
     "text": [
      "Tell me your age?\n",
      "Sorry, you are not accepted\n"
     ]
    }
   ],
   "source": [
    "print('Tell me your age?')\n",
    "\n",
    "myage = int(input())\n",
    "if myage < 20:\n",
    "    print('Sorry, you are not accepted')\n",
    "else:\n",
    "    print('Welcome')"
   ]
  },
  {
   "cell_type": "code",
   "execution_count": null,
   "metadata": {},
   "outputs": [],
   "source": [
    "if <조건>: # if 를 쓰고 조건 삽입 후 ':' 입력\n",
    "    <수행 명령 1-1> # 들여쓰기 후 수행명령 입력\n",
    "    <수행 명령 1-2> # 같은 조건하에 실행일 경우 들여쓰기 유지\n",
    "else: # 조건이 물일치 할 경우 수행할 명령 block\n",
    "    <수행 명령 2-1> # 조건 불일치 시 수행할 명령 입력\n",
    "    <수행 명령 2-2> # 조건 불일치 시 수행할 명령 들여쓰기 유지"
   ]
  },
  {
   "source": [
    "### 조건 판단 방법\n",
    "if 다음에 조건을 표기하여 참 또는 거짓을 판단 <br>\n",
    "참/거짓의 구분을 위해서는 비교 연산자를 활용 <br> <br>\n",
    "x < y <br>\n",
    "x > y <br> <br>\n",
    "x == y  /  x is y   (is의 경우 주소값 까지 같아야 동일하다고 판단한다) <br>\n",
    "x != y  /  x is not y (is not 의 경우 주소값 까지 달라야 다르다고 판단한다) <br> <br>\n",
    "x >= y <br>\n",
    "x <= y\n",
    "\n",
    "## (중요) 아래 예시"
   ],
   "cell_type": "markdown",
   "metadata": {}
  },
  {
   "cell_type": "code",
   "execution_count": 69,
   "metadata": {},
   "outputs": [
    {
     "output_type": "stream",
     "name": "stdout",
     "text": [
      "True False\nTrue True\n"
     ]
    }
   ],
   "source": [
    "# (중요)\n",
    "a = 300\n",
    "b = 300\n",
    "c = 100\n",
    "d = 100\n",
    "print(a==b, a is b) # 변수 a와 b의 주소값이 다르기 때문\n",
    "print(c==d, c is d)\n",
    "\n",
    "e = 400\n",
    "f = int(input()) # 400 입력시\n",
    "print(e == f, e is f) # is not 은 같다고 출력한다."
   ]
  },
  {
   "source": [
    "### 조건 참/거짓의 구분\n",
    "숫자형의 경우는 수학에서의 참/거짓 과 동일 <br>\n",
    "컴퓨터는 존재하면 참 없으면 거짓이라고 판단함 <br>"
   ],
   "cell_type": "markdown",
   "metadata": {}
  },
  {
   "cell_type": "code",
   "execution_count": 70,
   "metadata": {},
   "outputs": [
    {
     "output_type": "stream",
     "name": "stdout",
     "text": [
      "False\n"
     ]
    }
   ],
   "source": [
    "x = 1\n",
    "if x > 2:\n",
    "    print('True')\n",
    "else:\n",
    "    print('False')"
   ]
  },
  {
   "source": [
    "### 논리 키워드 사용: and, or, not\n",
    "조건문을 표현할 때 집합의 논리 키워드를 함께 사용하여 참과 거짓을 판단하기도 한다 <br> <br>\n",
    "a = 8, b = 5  <br>\n",
    "if a == 8 and b == 4: # 거짓  <br>\n",
    "if a > 7 or b > 7: # 참  <br>\n",
    "if not a > 7: # 거짓  <br>\n",
    "## (중요) 조건문 판단 연습"
   ],
   "cell_type": "markdown",
   "metadata": {}
  },
  {
   "cell_type": "code",
   "execution_count": 78,
   "metadata": {},
   "outputs": [
    {
     "output_type": "stream",
     "name": "stdout",
     "text": [
      "D\n"
     ]
    }
   ],
   "source": [
    "# 모든 if문을 순차적으로 실행\n",
    "# 95는 90초과지만 동시에 60초과이기도 하므로, grade에 값이 계속 덮어씌어져 마지막 조건문에 따라 grade 값에 ‘D’가 할당\n",
    "# 이 문제를 해결하기 위해 elif와 else구문이 사용된다\n",
    "score = 90\n",
    "\n",
    "if score >= 90:\n",
    "    grade = 'A'\n",
    "if score >= 80:\n",
    "    grade = 'B'\n",
    "if score >= 70:\n",
    "    grade = 'C'\n",
    "if score >= 60:\n",
    "    grade = 'D'\n",
    "if score < 60:\n",
    "    grade = 'F'\n",
    "    \n",
    "print(grade)"
   ]
  },
  {
   "cell_type": "code",
   "execution_count": 80,
   "metadata": {},
   "outputs": [
    {
     "output_type": "stream",
     "name": "stdout",
     "text": [
      "A\n"
     ]
    }
   ],
   "source": [
    "# 위 문제 해결, 결과가 다름\n",
    "score = 90\n",
    "\n",
    "if score >= 90:\n",
    "    grade = 'A'\n",
    "elif score >= 80:\n",
    "    grade = 'B'\n",
    "elif score >= 70:\n",
    "    grade = 'C'\n",
    "elif score >= 60:\n",
    "    grade = 'D'\n",
    "else:\n",
    "    grade = 'F'\n",
    "\n",
    "print(grade)"
   ]
  },
  {
   "source": [
    "### IF문 연습\n",
    "a와 b 변수에 input() 함수를 통해 값을 입력 받고, if 문을 사용하여 a와 b의 값이 같을 경우 “a is b”라는 출력이 나오고, 같지 않을 경우 “a is not b”라는 출력이 나오도록 코드를 작성하세요. "
   ],
   "cell_type": "markdown",
   "metadata": {}
  },
  {
   "cell_type": "code",
   "execution_count": 82,
   "metadata": {},
   "outputs": [
    {
     "output_type": "stream",
     "name": "stdout",
     "text": [
      "a is not b\n"
     ]
    }
   ],
   "source": [
    "a = input()\n",
    "b = input()\n",
    "if a == b:\n",
    "    print('a is b')\n",
    "else:\n",
    "    print('a is not b')"
   ]
  },
  {
   "source": [
    "### for 반복문"
   ],
   "cell_type": "markdown",
   "metadata": {}
  },
  {
   "cell_type": "code",
   "execution_count": null,
   "metadata": {},
   "outputs": [],
   "source": [
    "for <변수> in <리스트, 튜플>:\n",
    "    <수행할 문장1>\n",
    "    <수행할 문장2>"
   ]
  },
  {
   "cell_type": "code",
   "execution_count": 83,
   "metadata": {},
   "outputs": [
    {
     "output_type": "stream",
     "name": "stdout",
     "text": [
      "Hello\nHello\nHello\nHello\nHello\n"
     ]
    }
   ],
   "source": [
    "for looper in [1,2,3,4,5]:\n",
    "    print('Hello')"
   ]
  },
  {
   "cell_type": "code",
   "execution_count": 84,
   "metadata": {},
   "outputs": [
    {
     "output_type": "stream",
     "name": "stdout",
     "text": [
      "Hello\nHello\nHello\nHello\nHello\n--------------------\nHello\nHello\nHello\nHello\nHello\n"
     ]
    }
   ],
   "source": [
    "# 왜 range(1, 5)가 아닌 range(0, 5) 인가?\n",
    "# range()는 마지막 숫자 바로 앞까지 리스트를 만들어 준다 즉, range(1, 5) = [1, 2, 3, 4] 라는 의미이고 range(0, 5) = range(5) = [0, 1, 2, 3, 4] 라는 의미이다\n",
    "for looper in [1,2,3,4,5]:\n",
    "    print('Hello')\n",
    "print('--------------------')\n",
    "for looper in range(0,5):\n",
    "    print('Hello')"
   ]
  },
  {
   "cell_type": "code",
   "execution_count": 85,
   "metadata": {},
   "outputs": [
    {
     "output_type": "stream",
     "name": "stdout",
     "text": [
      "a\nb\nc\nd\ne\nf\ng\n"
     ]
    }
   ],
   "source": [
    "for i in 'abcdefg': # 문자열을 한자식 리스트로 처리\n",
    "    print(i)"
   ]
  },
  {
   "cell_type": "code",
   "execution_count": 86,
   "metadata": {},
   "outputs": [
    {
     "output_type": "stream",
     "name": "stdout",
     "text": [
      "Americano\nLatte\nFrafuchino\n"
     ]
    }
   ],
   "source": [
    "for i in ['Americano', 'Latte', 'Frafuchino']: # 각각의 문자열 리스트로 처리\n",
    "    print(i)"
   ]
  },
  {
   "cell_type": "code",
   "execution_count": 87,
   "metadata": {},
   "outputs": [
    {
     "output_type": "stream",
     "name": "stdout",
     "text": [
      "1\n3\n5\n7\n9\n"
     ]
    }
   ],
   "source": [
    "# 1부터 9까지 2씩 증가시키면서 반복을 수행\n",
    "for i in range(1, 10, 2):\n",
    "    print(i)"
   ]
  },
  {
   "source": [
    "## (중요) 아래 예시"
   ],
   "cell_type": "markdown",
   "metadata": {}
  },
  {
   "cell_type": "code",
   "execution_count": 91,
   "metadata": {},
   "outputs": [
    {
     "output_type": "stream",
     "name": "stdout",
     "text": [
      "10\n9\n8\n7\n6\n5\n4\n3\n2\n"
     ]
    }
   ],
   "source": [
    "# 10부터 2까지 -1씩 감소시키면서 반복을 수행(끝 숫자는 2가 된다)\n",
    "for i in range(10, 1, -1):\n",
    "    print(i)"
   ]
  },
  {
   "source": [
    "### while 반복문\n",
    "조건이 만족하는 동안 반복 명령문을 수행"
   ],
   "cell_type": "markdown",
   "metadata": {}
  },
  {
   "cell_type": "code",
   "execution_count": 93,
   "metadata": {},
   "outputs": [
    {
     "output_type": "stream",
     "name": "stdout",
     "text": [
      "1\n2\n3\n4\n5\n6\n7\n8\n9\n"
     ]
    }
   ],
   "source": [
    "# 1. i 변수에 1 할당\n",
    "# 2. i 가 10 미만인지 판단\n",
    "# 3. 조건에 만족할 때, i를 출력, i에 1을 더함\n",
    "# 4. i 가 10 이 되면 반복 종료\n",
    "i = 1\n",
    "while i < 10:\n",
    "    print(i)\n",
    "    i += 1"
   ]
  },
  {
   "source": [
    "### for와 while의 차이"
   ],
   "cell_type": "markdown",
   "metadata": {}
  },
  {
   "cell_type": "code",
   "execution_count": 94,
   "metadata": {},
   "outputs": [
    {
     "output_type": "stream",
     "name": "stdout",
     "text": [
      "0\n1\n2\n3\n4\n"
     ]
    }
   ],
   "source": [
    "# 반복 실행횟수를 정확히 알 때 for\n",
    "for i in range(0,5):\n",
    "    print(i)"
   ]
  },
  {
   "cell_type": "code",
   "execution_count": 95,
   "metadata": {},
   "outputs": [
    {
     "output_type": "stream",
     "name": "stdout",
     "text": [
      "0\n1\n2\n3\n4\n"
     ]
    }
   ],
   "source": [
    "# 반복 실행횟수가 명확하지 않을 때, for에 if 조건을 합칠 때 while\n",
    "i = 0\n",
    "while i < 5:\n",
    "    print(i)\n",
    "    i += 1"
   ]
  },
  {
   "source": [
    "### 반복의 제어 break, continue\n",
    "break -  특정 조건에서 반복 종료 <br>\n",
    "continue -  특정 조건에서 남은 반복 명령 skip"
   ],
   "cell_type": "markdown",
   "metadata": {}
  },
  {
   "cell_type": "code",
   "execution_count": 96,
   "metadata": {},
   "outputs": [
    {
     "output_type": "stream",
     "name": "stdout",
     "text": [
      "0\n1\n2\n3\n4\nE0P\n"
     ]
    }
   ],
   "source": [
    "# 5에서 break(5출력 x)\n",
    "for i in range(10):\n",
    "    if i == 5:\n",
    "        break # i가 5가 되면 이 지점에서 반복을 종료해라\n",
    "    print(i)\n",
    "print('E0P') # 반복문이 종료된 후 이 문구가 출력됨"
   ]
  },
  {
   "cell_type": "code",
   "execution_count": 97,
   "metadata": {},
   "outputs": [
    {
     "output_type": "stream",
     "name": "stdout",
     "text": [
      "0\n1\n2\n3\n4\n6\n7\n8\n9\nE0P\n"
     ]
    }
   ],
   "source": [
    "# 5에서 continue(5출력 x)\n",
    "for i in range(10):\n",
    "    if i == 5:\n",
    "        continue # i가 5가 되면 i를 출력하는 아래로 가지 않고 이 지점에서 다음 반복을 계속하라\n",
    "    print(i)\n",
    "print('E0P') # 반복문이 종료된 후 이 문구가 출력됨"
   ]
  },
  {
   "source": [
    "### 가변적인 중첩 반복문\n",
    "숫자 찾기 게임(연습) <br>\n",
    "1~100 임의의 숫자를 맞추시오"
   ],
   "cell_type": "markdown",
   "metadata": {}
  },
  {
   "cell_type": "code",
   "execution_count": 99,
   "metadata": {},
   "outputs": [
    {
     "output_type": "stream",
     "name": "stdout",
     "text": [
      "숫자를 맞춰보세요 (1~100)\n",
      "숫자가 너무 작습니다.\n",
      "숫자가 너무 작습니다.\n",
      "숫자가 너무 작습니다.\n",
      "숫자가 너무 큽니다.\n",
      "숫자가 너무 큽니다.\n",
      "숫자가 너무 작습니다.\n",
      "정답입니다. 입력한 숫자는 78 입니다.\n"
     ]
    }
   ],
   "source": [
    "import random                               # 난수 발생 함수 호출\n",
    "guess_number = random.randint(1,100)        # 1 ~ 100 사이 정수 난수 발생\n",
    "print('숫자를 맞춰보세요 (1~100)')\n",
    "users_input = int(input())                  # 사용자의 입력을 받는다\n",
    "while(users_input is not guess_number):     # 사용자의 입력과 난수가 같은지 판단\n",
    "    if users_input > guess_number:          # 사용자의 입력이 클 경우\n",
    "        print('숫자가 너무 큽니다.')\n",
    "    else:                                   # 사용자의 입력이 작은 경우\n",
    "        print('숫자가 너무 작습니다.')\n",
    "    users_input = int(input())              # 새로운 사용자의 입력을 받는다\n",
    "else:                                       # 종료 조건\n",
    "    print('정답입니다. 입력한 숫자는', users_input, '입니다.')"
   ]
  },
  {
   "source": [
    "# How to debug code\n",
    "### 문법적 에러\n",
    "초보자에게 흔히 생기는 문법 오류 <br>\n",
    "들여쓰기(Indentation Error) <br>\n",
    "Indentation Error – 흔히 발생하는 에러 <br>\n",
    "들여쓰기를 Space로 했나  Tab으로 했나 <br>"
   ],
   "cell_type": "markdown",
   "metadata": {}
  },
  {
   "source": [],
   "cell_type": "markdown",
   "metadata": {}
  },
  {
   "cell_type": "code",
   "execution_count": 100,
   "metadata": {},
   "outputs": [
    {
     "output_type": "error",
     "ename": "IndentationError",
     "evalue": "unexpected indent (<ipython-input-100-38c3a53bbbcb>, line 2)",
     "traceback": [
      "\u001b[1;36m  File \u001b[1;32m\"<ipython-input-100-38c3a53bbbcb>\"\u001b[1;36m, line \u001b[1;32m2\u001b[0m\n\u001b[1;33m    y = 5\u001b[0m\n\u001b[1;37m    ^\u001b[0m\n\u001b[1;31mIndentationError\u001b[0m\u001b[1;31m:\u001b[0m unexpected indent\n"
     ]
    }
   ],
   "source": [
    "x = 2\n",
    "    y = 5\n",
    "print(x + y)"
   ]
  },
  {
   "source": [
    "오타"
   ],
   "cell_type": "markdown",
   "metadata": {}
  },
  {
   "cell_type": "code",
   "execution_count": 101,
   "metadata": {},
   "outputs": [
    {
     "output_type": "error",
     "ename": "IndentationError",
     "evalue": "unexpected indent (<ipython-input-101-63823acdcfb6>, line 3)",
     "traceback": [
      "\u001b[1;36m  File \u001b[1;32m\"<ipython-input-101-63823acdcfb6>\"\u001b[1;36m, line \u001b[1;32m3\u001b[0m\n\u001b[1;33m    y = 5\u001b[0m\n\u001b[1;37m    ^\u001b[0m\n\u001b[1;31mIndentationError\u001b[0m\u001b[1;31m:\u001b[0m unexpected indent\n"
     ]
    }
   ],
   "source": [
    "x = 2\n",
    "    y = 5\n",
    "pront(x + y)"
   ]
  },
  {
   "source": [
    "대소문자 구분"
   ],
   "cell_type": "markdown",
   "metadata": {}
  },
  {
   "cell_type": "code",
   "execution_count": 102,
   "metadata": {},
   "outputs": [
    {
     "output_type": "error",
     "ename": "NameError",
     "evalue": "name 'Number' is not defined",
     "traceback": [
      "\u001b[1;31m---------------------------------------------------------------------------\u001b[0m",
      "\u001b[1;31mNameError\u001b[0m                                 Traceback (most recent call last)",
      "\u001b[1;32m<ipython-input-102-32bf695d186c>\u001b[0m in \u001b[0;36m<module>\u001b[1;34m\u001b[0m\n\u001b[0;32m      1\u001b[0m \u001b[0mnumber\u001b[0m \u001b[1;33m=\u001b[0m \u001b[1;33m[\u001b[0m\u001b[1;36m1\u001b[0m\u001b[1;33m,\u001b[0m\u001b[1;36m2\u001b[0m\u001b[1;33m,\u001b[0m\u001b[1;36m3\u001b[0m\u001b[1;33m]\u001b[0m\u001b[1;33m\u001b[0m\u001b[1;33m\u001b[0m\u001b[0m\n\u001b[1;32m----> 2\u001b[1;33m \u001b[0mprint\u001b[0m\u001b[1;33m(\u001b[0m\u001b[0mNumber\u001b[0m\u001b[1;33m)\u001b[0m\u001b[1;33m\u001b[0m\u001b[1;33m\u001b[0m\u001b[0m\n\u001b[0m",
      "\u001b[1;31mNameError\u001b[0m: name 'Number' is not defined"
     ]
    }
   ],
   "source": [
    "number = [1,2,3]\n",
    "print(Number)"
   ]
  },
  {
   "source": [
    "### 논리적 에러\n",
    "프로그램은 실행되지만, 원하는 결과가 아닌 경우 <br>\n",
    "잘 실행되는 것이 완성된 프로그램X <br>\n",
    "원하는 결과가 나오는 프로그램 = 완성된 프로그램"
   ],
   "cell_type": "markdown",
   "metadata": {}
  },
  {
   "cell_type": "code",
   "execution_count": 106,
   "metadata": {},
   "outputs": [
    {
     "output_type": "stream",
     "name": "stdout",
     "text": [
      "True True\n"
     ]
    }
   ],
   "source": [
    "def is_odd(n): # n이 홀수인지 판별하는 함수\n",
    "    return n / 2 !=0 # '%'연산자를 '/'라고 잘못 표기\n",
    "\n",
    "a = is_odd(1)\n",
    "b = is_odd(2)\n",
    "print(a, b) # 목적과 틀린 값이 나온다"
   ]
  }
 ]
}